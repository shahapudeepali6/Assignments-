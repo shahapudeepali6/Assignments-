{
  "nbformat": 4,
  "nbformat_minor": 0,
  "metadata": {
    "colab": {
      "provenance": []
    },
    "kernelspec": {
      "name": "python3",
      "display_name": "Python 3"
    },
    "language_info": {
      "name": "python"
    }
  },
  "cells": [
    {
      "cell_type": "markdown",
      "source": [
        "Question no.1=What exactly is []?"
      ],
      "metadata": {
        "id": "3p8sSq-fnNuu"
      }
    },
    {
      "cell_type": "markdown",
      "source": [
        "Answer= \"[]\" means it is an empty list"
      ],
      "metadata": {
        "id": "-sZlXsuZVFN6"
      }
    },
    {
      "cell_type": "markdown",
      "source": [
        "Question no.2=. In a list of values stored in a variable called spam, how would you assign the value 'hello' as the third value? (Assume [2, 4, 6, 8, 10] are in spam.)"
      ],
      "metadata": {
        "id": "FwdLNVIcVT0Y"
      }
    },
    {
      "cell_type": "code",
      "source": [
        "spam=[2,4,6,8,10]\n",
        "print(spam)\n",
        "spam[2]=\"hello\"\n",
        "print(spam)"
      ],
      "metadata": {
        "colab": {
          "base_uri": "https://localhost:8080/"
        },
        "id": "Kd-6Z30zVfsj",
        "outputId": "360e07eb-6a09-41c9-c986-4c7cea32cf7f"
      },
      "execution_count": 3,
      "outputs": [
        {
          "output_type": "stream",
          "name": "stdout",
          "text": [
            "[2, 4, 6, 8, 10]\n",
            "[2, 4, 'hello', 8, 10]\n"
          ]
        }
      ]
    },
    {
      "cell_type": "markdown",
      "source": [
        "Let's pretend the spam includes the list ['a', 'b', 'c', 'd'] for the next three queries.\n",
        "\n",
        "Question no.3=. What is the value of spam[int(int('3' * 2) / 11)]?"
      ],
      "metadata": {
        "id": "T1yX_o9uXxI_"
      }
    },
    {
      "cell_type": "code",
      "source": [
        "spam=['a', 'b', 'c', 'd']\n",
        "print(\"spam[int(int('3'*2)//11)] ->\",spam[int(int('3'*2)//11)])"
      ],
      "metadata": {
        "colab": {
          "base_uri": "https://localhost:8080/"
        },
        "id": "j8Rsh4mTX7Hi",
        "outputId": "7c980fa4-a576-4063-c302-4ba6654e6eff"
      },
      "execution_count": 9,
      "outputs": [
        {
          "output_type": "stream",
          "name": "stdout",
          "text": [
            "spam[int(int('3'*2)//11)] -> d\n"
          ]
        }
      ]
    },
    {
      "cell_type": "markdown",
      "source": [
        "Question no.4=. What is the value of spam[-1]?"
      ],
      "metadata": {
        "id": "4KCLd-8dYxti"
      }
    },
    {
      "cell_type": "code",
      "source": [
        "spam[-1]"
      ],
      "metadata": {
        "colab": {
          "base_uri": "https://localhost:8080/",
          "height": 35
        },
        "id": "PRBjvnJYY8lk",
        "outputId": "3fea880a-0a68-4bdb-b3c6-653aa03960fa"
      },
      "execution_count": 10,
      "outputs": [
        {
          "output_type": "execute_result",
          "data": {
            "text/plain": [
              "'d'"
            ],
            "application/vnd.google.colaboratory.intrinsic+json": {
              "type": "string"
            }
          },
          "metadata": {},
          "execution_count": 10
        }
      ]
    },
    {
      "cell_type": "markdown",
      "source": [
        "Question no.5= What is the value of spam[:2]?"
      ],
      "metadata": {
        "id": "Sg1S84rtZLA4"
      }
    },
    {
      "cell_type": "code",
      "source": [
        " spam[:2]"
      ],
      "metadata": {
        "colab": {
          "base_uri": "https://localhost:8080/"
        },
        "id": "bfkqkeHmZTLA",
        "outputId": "3dfb5601-7225-4b99-8af4-dbbc4a620ae5"
      },
      "execution_count": 11,
      "outputs": [
        {
          "output_type": "execute_result",
          "data": {
            "text/plain": [
              "['a', 'b']"
            ]
          },
          "metadata": {},
          "execution_count": 11
        }
      ]
    },
    {
      "cell_type": "markdown",
      "source": [
        "Let's pretend bacon has the list [3.14, 'cat,' 11, 'cat,' True] for the next three questions.\n",
        "Question no.6= What is the value of bacon.index('cat')?"
      ],
      "metadata": {
        "id": "gnZwMynkZf8Z"
      }
    },
    {
      "cell_type": "code",
      "source": [
        "bacon=[3.14, 'cat', 11, 'cat', True]\n",
        "bacon.index('cat')"
      ],
      "metadata": {
        "colab": {
          "base_uri": "https://localhost:8080/"
        },
        "id": "RLSGWU12Zwvt",
        "outputId": "44327ce0-4bb0-4df8-e6a7-242f00e7e28f"
      },
      "execution_count": 15,
      "outputs": [
        {
          "output_type": "execute_result",
          "data": {
            "text/plain": [
              "1"
            ]
          },
          "metadata": {},
          "execution_count": 15
        }
      ]
    },
    {
      "cell_type": "markdown",
      "source": [
        "Question no.7=How does bacon.append(99) change the look of the list value in bacon?"
      ],
      "metadata": {
        "id": "XnDsSkH5aM6G"
      }
    },
    {
      "cell_type": "code",
      "source": [
        "bacon=[3.14, 'cat', 11, 'cat', True]\n",
        "bacon.append(99)\n",
        "bacon"
      ],
      "metadata": {
        "colab": {
          "base_uri": "https://localhost:8080/"
        },
        "id": "PiHb6jN3aVLm",
        "outputId": "496ec12f-303b-456c-b02b-7b45d2214d71"
      },
      "execution_count": 17,
      "outputs": [
        {
          "output_type": "execute_result",
          "data": {
            "text/plain": [
              "[3.14, 'cat', 11, 'cat', True, 99]"
            ]
          },
          "metadata": {},
          "execution_count": 17
        }
      ]
    },
    {
      "cell_type": "markdown",
      "source": [
        "Question no.8=How does bacon.remove('cat') change the look of the list in bacon?"
      ],
      "metadata": {
        "id": "SSf1BvExawLo"
      }
    },
    {
      "cell_type": "code",
      "source": [
        "bacon=[3.14, 'cat', 11, 'cat', True]\n",
        "bacon.remove(\"cat\")\n",
        "bacon"
      ],
      "metadata": {
        "colab": {
          "base_uri": "https://localhost:8080/"
        },
        "id": "WqKnZn22a8nX",
        "outputId": "4bbc165c-61e0-4a99-fe3b-b9d6e64444a2"
      },
      "execution_count": 18,
      "outputs": [
        {
          "output_type": "execute_result",
          "data": {
            "text/plain": [
              "[3.14, 11, 'cat', True]"
            ]
          },
          "metadata": {},
          "execution_count": 18
        }
      ]
    },
    {
      "cell_type": "markdown",
      "source": [
        "Question no.9=What are the list concatenation and list replication operators?"
      ],
      "metadata": {
        "id": "SqSm-OxSbL1K"
      }
    },
    {
      "cell_type": "markdown",
      "source": [
        "Answer= \"+\" is the symbol of concatenation and \"*\" is the symbol of replication operation."
      ],
      "metadata": {
        "id": "DmCrN_lUb17p"
      }
    },
    {
      "cell_type": "code",
      "source": [
        "list_1=[\"sun\",\"moon\",\"stars\"]\n",
        "list_2=[\"hello\",\"hi\",\"bye\"]\n",
        "print(list_1+list_2)\n",
        "print(list_2*2)"
      ],
      "metadata": {
        "colab": {
          "base_uri": "https://localhost:8080/"
        },
        "id": "LLfXy8F5cEkv",
        "outputId": "0b966b27-f3a6-47ca-af03-098645e449eb"
      },
      "execution_count": 22,
      "outputs": [
        {
          "output_type": "stream",
          "name": "stdout",
          "text": [
            "['sun', 'moon', 'stars', 'hello', 'hi', 'bye']\n",
            "['hello', 'hi', 'bye', 'hello', 'hi', 'bye']\n"
          ]
        }
      ]
    },
    {
      "cell_type": "markdown",
      "source": [
        "Question no.10=What is difference between the list methods append() and insert()?"
      ],
      "metadata": {
        "id": "lDVCshnudMsF"
      }
    },
    {
      "cell_type": "markdown",
      "source": [
        "Answer= append() function is a python library function used to insert a given element at the \"end position\" in a list whereas, insert() function is a python function used to insert a given element at a given index in a list."
      ],
      "metadata": {
        "id": "ZYhJjs3ud0FO"
      }
    },
    {
      "cell_type": "code",
      "source": [
        "list=[\"soil\",\"plants\",\"branches\",\"fruits\"]\n",
        "list.append(\"buds\")\n",
        "list"
      ],
      "metadata": {
        "colab": {
          "base_uri": "https://localhost:8080/"
        },
        "id": "X5BCQDQ2edFI",
        "outputId": "8e3ff1ac-2d4b-4a01-f8f6-1a6b204b8fd5"
      },
      "execution_count": 26,
      "outputs": [
        {
          "output_type": "execute_result",
          "data": {
            "text/plain": [
              "['soil', 'plants', 'branches', 'fruits', 'buds']"
            ]
          },
          "metadata": {},
          "execution_count": 26
        }
      ]
    },
    {
      "cell_type": "code",
      "source": [
        "list=[2,4,3,6,2,1]\n",
        "list.insert(3,22)\n",
        "list"
      ],
      "metadata": {
        "colab": {
          "base_uri": "https://localhost:8080/"
        },
        "id": "JpXvTPvve9Dr",
        "outputId": "310cd19c-65d4-4e4a-9bd2-d429c6c0e51c"
      },
      "execution_count": 33,
      "outputs": [
        {
          "output_type": "execute_result",
          "data": {
            "text/plain": [
              "[2, 4, 3, 22, 6, 2, 1]"
            ]
          },
          "metadata": {},
          "execution_count": 33
        }
      ]
    },
    {
      "cell_type": "markdown",
      "source": [
        "Question no.11=What are the two methods for removing items from a list?"
      ],
      "metadata": {
        "id": "VNxHBkBHfyb6"
      }
    },
    {
      "cell_type": "markdown",
      "source": [
        "Answer=pop() method and remove() method these are two methods of removing items from a list."
      ],
      "metadata": {
        "id": "ojUjQw4Gf55S"
      }
    },
    {
      "cell_type": "code",
      "source": [
        "a=[90,2,55,12,\"sun\",78]\n",
        "a.pop(4)\n",
        "a"
      ],
      "metadata": {
        "colab": {
          "base_uri": "https://localhost:8080/"
        },
        "id": "Qh5L9TXPgXPR",
        "outputId": "29c5d738-35db-4971-d101-786ea8354974"
      },
      "execution_count": 35,
      "outputs": [
        {
          "output_type": "execute_result",
          "data": {
            "text/plain": [
              "[90, 2, 55, 12, 78]"
            ]
          },
          "metadata": {},
          "execution_count": 35
        }
      ]
    },
    {
      "cell_type": "code",
      "source": [
        "a=[90,2,55,12,\"sun\",78]\n",
        "a.remove(12)\n",
        "a"
      ],
      "metadata": {
        "colab": {
          "base_uri": "https://localhost:8080/"
        },
        "id": "ZacBbB80gpZo",
        "outputId": "9e1bdd74-3a12-426b-d900-4494c1466ea3"
      },
      "execution_count": 36,
      "outputs": [
        {
          "output_type": "execute_result",
          "data": {
            "text/plain": [
              "[90, 2, 55, 'sun', 78]"
            ]
          },
          "metadata": {},
          "execution_count": 36
        }
      ]
    },
    {
      "cell_type": "markdown",
      "source": [
        "Question no.12=Describe how list values and string values are identical."
      ],
      "metadata": {
        "id": "E1cghxzVg1As"
      }
    },
    {
      "cell_type": "markdown",
      "source": [
        "Answer= Below are some reasons how list values and string values are identical:\n",
        "\n",
        "1.Both lists and strings can be passed to len() function\n",
        "2.Have indexes and slices, be used in for loops,\n",
        "3.Can be concatenated or replicated\n",
        "4.Can be used with the in and not in operators."
      ],
      "metadata": {
        "id": "5t_akJl4hQy3"
      }
    },
    {
      "cell_type": "markdown",
      "source": [
        "Question no.13=What's the difference between tuples and lists?"
      ],
      "metadata": {
        "id": "NMki97sohbnk"
      }
    },
    {
      "cell_type": "markdown",
      "source": [
        "Answer= Tuples are denoted by \"()\" and tuples are immutable whereas, lists are denoted by \"[]\" and lists are mutable."
      ],
      "metadata": {
        "id": "4yx6j3fohmkX"
      }
    },
    {
      "cell_type": "code",
      "source": [
        "list_num = [1,2,3,4]\n",
        "tup_num = (1,2,3,4)\n",
        "\n",
        "print(list_num)\n",
        "print(tup_num)"
      ],
      "metadata": {
        "colab": {
          "base_uri": "https://localhost:8080/"
        },
        "id": "bh6L3Vq8icN_",
        "outputId": "a873c7eb-ad1c-4906-d4a4-0e5a6ad3c953"
      },
      "execution_count": 38,
      "outputs": [
        {
          "output_type": "stream",
          "name": "stdout",
          "text": [
            "[1, 2, 3, 4]\n",
            "(1, 2, 3, 4)\n"
          ]
        }
      ]
    },
    {
      "cell_type": "markdown",
      "source": [
        "Question no.14=How do you type a tuple value that only contains the integer 42?"
      ],
      "metadata": {
        "id": "i10CTjFLh7Tr"
      }
    },
    {
      "cell_type": "code",
      "source": [
        "tup1=(42)\n",
        "tup2=(42,)\n",
        "print(type(tup1))\n",
        "print(type(tup2))"
      ],
      "metadata": {
        "colab": {
          "base_uri": "https://localhost:8080/"
        },
        "id": "kra9pVsviKF3",
        "outputId": "cbd07ad5-7377-4e66-86d1-3e1f93a0ae58"
      },
      "execution_count": 40,
      "outputs": [
        {
          "output_type": "stream",
          "name": "stdout",
          "text": [
            "<class 'int'>\n",
            "<class 'tuple'>\n"
          ]
        }
      ]
    },
    {
      "cell_type": "markdown",
      "source": [
        "Question no.15=How do you get a list value's tuple form? How do you get a tuple value's list form?"
      ],
      "metadata": {
        "id": "-3g8saffiwgb"
      }
    },
    {
      "cell_type": "markdown",
      "source": [
        "Answer=The tuple() and list() functions, respectively are used to convert a list to tuple and vice versa"
      ],
      "metadata": {
        "id": "sH4sPqCKiw3k"
      }
    },
    {
      "cell_type": "markdown",
      "source": [
        "Question no.16=Variables that \"contain\" list values are not necessarily lists themselves. Instead, what do they contain?"
      ],
      "metadata": {
        "id": "wCDGCwW6jH3Z"
      }
    },
    {
      "cell_type": "markdown",
      "source": [
        "Answer= They contain references to list values."
      ],
      "metadata": {
        "id": "CGVgi2CpjMmH"
      }
    },
    {
      "cell_type": "markdown",
      "source": [
        "Question no.17=How do you distinguish between copy.copy() and copy.deepcopy()?"
      ],
      "metadata": {
        "id": "-Amq0NHqjWde"
      }
    },
    {
      "cell_type": "markdown",
      "source": [
        "Answer= The copy.copy() function will do a shallow copy of a list, while the copy.deepcopy() function will do a deep copy of a list. That is, only copy.deepcopy() will duplicate any lists inside the list."
      ],
      "metadata": {
        "id": "BAZjldgMjpFB"
      }
    },
    {
      "cell_type": "code",
      "source": [
        "# importing copy module\n",
        "import copy\n",
        "\n",
        "# initializing list 1\n",
        "li1 = [1, 2, [3,5], 4]\n",
        "\n",
        "\n",
        "# using copy for shallow copy\n",
        "li2 = copy.copy(li1)\n",
        "\n",
        "# using deepcopy for deepcopy\n",
        "li3 = copy.deepcopy(li1)"
      ],
      "metadata": {
        "id": "Psh4mWXLjiz4"
      },
      "execution_count": 41,
      "outputs": []
    }
  ]
}