{
  "nbformat": 4,
  "nbformat_minor": 0,
  "metadata": {
    "colab": {
      "provenance": []
    },
    "kernelspec": {
      "name": "python3",
      "display_name": "Python 3"
    },
    "language_info": {
      "name": "python"
    }
  },
  "cells": [
    {
      "cell_type": "markdown",
      "source": [
        "Question no.1= Write a Python program to print \"Hello Python\"?"
      ],
      "metadata": {
        "id": "j9eE9esgwsyk"
      }
    },
    {
      "cell_type": "code",
      "source": [
        "print(\"Hello Python\")"
      ],
      "metadata": {
        "colab": {
          "base_uri": "https://localhost:8080/"
        },
        "id": "jv73SxcTww1C",
        "outputId": "351b5983-6dc5-4d85-9e97-cef2b59e0f33"
      },
      "execution_count": 2,
      "outputs": [
        {
          "output_type": "stream",
          "name": "stdout",
          "text": [
            "Hello Python\n"
          ]
        }
      ]
    },
    {
      "cell_type": "markdown",
      "source": [
        "Question no.2= Write a Python program to do arithmetical operations addition and division.?"
      ],
      "metadata": {
        "id": "6IF-wPqyw-IW"
      }
    },
    {
      "cell_type": "code",
      "source": [
        "#addition\n",
        "x=3\n",
        "y=8\n",
        "x+y\n"
      ],
      "metadata": {
        "colab": {
          "base_uri": "https://localhost:8080/"
        },
        "id": "OB38yNA7xKJP",
        "outputId": "a8668623-db16-499a-c6f0-0d91ca193f73"
      },
      "execution_count": 3,
      "outputs": [
        {
          "output_type": "execute_result",
          "data": {
            "text/plain": [
              "11"
            ]
          },
          "metadata": {},
          "execution_count": 3
        }
      ]
    },
    {
      "cell_type": "code",
      "source": [
        "# division\n",
        "a=123\n",
        "b=2\n",
        "a*b"
      ],
      "metadata": {
        "colab": {
          "base_uri": "https://localhost:8080/"
        },
        "id": "PnFcgRYrxc4Y",
        "outputId": "d0b815ef-86ff-4bb0-de03-a482350de2ad"
      },
      "execution_count": 5,
      "outputs": [
        {
          "output_type": "execute_result",
          "data": {
            "text/plain": [
              "246"
            ]
          },
          "metadata": {},
          "execution_count": 5
        }
      ]
    },
    {
      "cell_type": "markdown",
      "source": [
        "Question no.3= Write a Python program to find the area of a triangle?"
      ],
      "metadata": {
        "id": "4hsJ7gWCxss5"
      }
    },
    {
      "cell_type": "code",
      "source": [
        "a=float(input(\"Enter height of the triangle:\"))\n",
        "b=float(input(\"Enter base of the triangle:\"))\n",
        "area=0.5*a*b\n",
        "print(\"Area of the triangle\",area)"
      ],
      "metadata": {
        "colab": {
          "base_uri": "https://localhost:8080/"
        },
        "id": "fIzYdBAAx4MF",
        "outputId": "c16d57b5-e094-47bc-92fd-d3fe797f1e78"
      },
      "execution_count": 6,
      "outputs": [
        {
          "output_type": "stream",
          "name": "stdout",
          "text": [
            "Enter height of the triangle:4\n",
            "Enter base of the triangle:6\n",
            "Area of the triangle 12.0\n"
          ]
        }
      ]
    },
    {
      "cell_type": "markdown",
      "source": [
        "Question no.4=\tWrite a Python program to swap two variables?"
      ],
      "metadata": {
        "id": "bojQlkB0x-1S"
      }
    },
    {
      "cell_type": "code",
      "source": [
        "x=4\n",
        "y=8\n",
        "x,y=y,x\n",
        "\n",
        "print(\"value of x is\",x)\n",
        "print(\"value of y is\",y)"
      ],
      "metadata": {
        "colab": {
          "base_uri": "https://localhost:8080/"
        },
        "id": "luF9hjS9zgI9",
        "outputId": "e936beb7-d7fd-4564-f278-1d8aece9d716"
      },
      "execution_count": 7,
      "outputs": [
        {
          "output_type": "stream",
          "name": "stdout",
          "text": [
            "value of x is 8\n",
            "value of y is 4\n"
          ]
        }
      ]
    },
    {
      "cell_type": "markdown",
      "source": [
        "Question no.5=\tWrite a Python program to generate a random number?"
      ],
      "metadata": {
        "id": "xRjn2ZweyFUO"
      }
    },
    {
      "cell_type": "code",
      "source": [
        "import random\n",
        "n=random.random()\n",
        "print(n)"
      ],
      "metadata": {
        "colab": {
          "base_uri": "https://localhost:8080/"
        },
        "id": "LY6MZDZX0Ijz",
        "outputId": "2897da66-5287-4934-b118-ef1299a4d3fa"
      },
      "execution_count": 9,
      "outputs": [
        {
          "output_type": "stream",
          "name": "stdout",
          "text": [
            "0.8238486363903685\n"
          ]
        }
      ]
    }
  ]
}