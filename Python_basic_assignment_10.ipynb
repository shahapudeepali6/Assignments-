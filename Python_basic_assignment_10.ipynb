{
  "nbformat": 4,
  "nbformat_minor": 0,
  "metadata": {
    "colab": {
      "provenance": []
    },
    "kernelspec": {
      "name": "python3",
      "display_name": "Python 3"
    },
    "language_info": {
      "name": "python"
    }
  },
  "cells": [
    {
      "cell_type": "markdown",
      "source": [
        "Question no.1=How do you distinguish between shutil.copy() and shutil.copytree()?"
      ],
      "metadata": {
        "id": "OATtqqjhppO2"
      }
    },
    {
      "cell_type": "markdown",
      "source": [
        "Answer=shutil.copy() method is used to copy the contents of a file from one file to another file/folder. It primarily takes two arguments src and dest. src represents the file to be copied where as destination refers to the file/folder to where the src data should be copied. If dest is a folder name the src with exact name will be copied to the dest folder whereas if its a file then the contents of src will be copied to dest where dest retains it name.\n",
        "\n",
        "shutil.copytree() function is used to copy the entire contents of a folder to other folder. It also takes two arguments src & dest. It copies all the content recursively and stores it in dest. The important point to note here is that dest must not exist prior to this and it will be created during the copy operation. Permissions and times of directories are copied with shutil.copystat() and individual files are copied using shutil.copy2() by default which can be modified using copy_function attribute."
      ],
      "metadata": {
        "id": "F1n4UKxyqN1M"
      }
    },
    {
      "cell_type": "markdown",
      "source": [
        "Question no.2=What function is used to rename files??"
      ],
      "metadata": {
        "id": "zC5o9w27pxBV"
      }
    },
    {
      "cell_type": "markdown",
      "source": [
        "Answer= os.rename() function is used to rename files or directories using a python program. this function takes two arguments src and dest. src represents the name file/directory which we want to rename, whereas dest represents the new name of the file/directory."
      ],
      "metadata": {
        "id": "IlVVHMyqqUa_"
      }
    },
    {
      "cell_type": "markdown",
      "source": [
        "Question no.3=What is the difference between the delete functions in the send2trash and shutil modules?"
      ],
      "metadata": {
        "id": "onHiDCnpp5m2"
      }
    },
    {
      "cell_type": "markdown",
      "source": [
        "Answer= Shutil module provides a funciton called as shutil.rmtree() which deletes a directory and all of its contents. The other functions with similar functionality are os.remove() which removes a file. os.rmdir() removes a empty directory. The problem with these functions is once a file is deleted. it will be lost permanently and if a file is deleted accidentally using these methods there is no way we can recover the deleted file\n",
        "\n",
        "Where as send2trash module provides a function called send2trash.send2trash() to delete a file/directory. These methods moves the files/directories to trash folder instead of permanently deleting them. Hence if a file/folder is deleted accidentally using the send2trash.send2trash() it can be still recovered from trash folder. send2trash is not included with python standard libary like os & shutil modules. So, it needs to be installed explicitly using the command !pip install send2trash"
      ],
      "metadata": {
        "id": "W8k9E1G9qaTN"
      }
    },
    {
      "cell_type": "markdown",
      "source": [
        "Question no.4=ZipFile objects have a close() method just like File objects’ close() method. What ZipFile method is equivalent to File objects’ open() method?"
      ],
      "metadata": {
        "id": "CN9JcoqvqBVf"
      }
    },
    {
      "cell_type": "markdown",
      "source": [
        "Answer=ZipFile Module provides a method called as zipfile.ZipFile() to read and write to zipFiles. it takes arugments such as filename and mode etc zipfile.ZipFile('filename', mode = 'r')"
      ],
      "metadata": {
        "id": "gSvQh5PVqgMq"
      }
    },
    {
      "cell_type": "markdown",
      "source": [
        "Question no.5=Create a programme that searches a folder tree for files with a certain file extension (such as .pdf or .jpg). Copy these files from whatever location they are in to a new folder."
      ],
      "metadata": {
        "id": "dmwMIaHvqBc0"
      }
    },
    {
      "cell_type": "code",
      "source": [
        "import os\n",
        "import shutil\n",
        "\n",
        "def search_copy(source,destination,extensions):\n",
        "    source = os.path.abspath(source)\n",
        "    destination = os.path.abspath(destination)\n",
        "    for foldername, subfolder, filenames in os.walk(source):\n",
        "        print(f'Folder Name ➞ {foldername}',end='\\n\\n')\n",
        "        print(f'Sub Folders ➞ {subfolder}',end='\\n\\n')\n",
        "        print(f'Files ➞ {filenames}',end='\\n\\n')\n",
        "        for filename in filenames:\n",
        "            fileName,extension = os.path.splitext(filename)\n",
        "            if extension in extensions:\n",
        "                targetFile = foldername+os.path.sep+fileName+extension\n",
        "                shutil.copy(targetFile, destination)\n",
        "        print(f'Files copied successfully from {source} to {destination}')\n",
        "\n",
        "extensions = ['.pdf','.jpg','.ipynb']\n",
        "source = 'Source Folder'\n",
        "destination = 'Destination Folder'\n",
        "search_copy(source, destination, extensions)"
      ],
      "metadata": {
        "id": "PlfmOWusqlnQ"
      },
      "execution_count": 1,
      "outputs": []
    }
  ]
}