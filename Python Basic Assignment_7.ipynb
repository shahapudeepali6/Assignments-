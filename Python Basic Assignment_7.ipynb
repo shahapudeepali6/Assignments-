{
  "nbformat": 4,
  "nbformat_minor": 0,
  "metadata": {
    "colab": {
      "provenance": []
    },
    "kernelspec": {
      "name": "python3",
      "display_name": "Python 3"
    },
    "language_info": {
      "name": "python"
    }
  },
  "cells": [
    {
      "cell_type": "markdown",
      "source": [
        "Question no.1=What is the name of the feature responsible for generating Regex objects?"
      ],
      "metadata": {
        "id": "M2TuDjhxvrEM"
      }
    },
    {
      "cell_type": "code",
      "source": [
        "\n",
        "import re\n",
        "re.compile(\"string\")\n",
        "#The re.compile() function returns Regex objects."
      ],
      "metadata": {
        "colab": {
          "base_uri": "https://localhost:8080/"
        },
        "id": "fpFouK_xwOp9",
        "outputId": "7b5c8db8-7242-4915-b43f-aa5191b201a5"
      },
      "execution_count": null,
      "outputs": [
        {
          "output_type": "execute_result",
          "data": {
            "text/plain": [
              "re.compile(r'string', re.UNICODE)"
            ]
          },
          "metadata": {},
          "execution_count": 1
        }
      ]
    },
    {
      "cell_type": "markdown",
      "source": [
        "Question no.2=Why do raw strings often appear in Regex objects?"
      ],
      "metadata": {
        "id": "IC0Ln-u3wXWF"
      }
    },
    {
      "cell_type": "markdown",
      "source": [
        "Answer= Raw strings are used so that backslashes do not have to be escaped"
      ],
      "metadata": {
        "id": "w-Z1G77IwXd3"
      }
    },
    {
      "cell_type": "markdown",
      "source": [
        "\n",
        "\n",
        "Question no.3=What is the return value of the search() method?"
      ],
      "metadata": {
        "id": "9jzRl50nwXlg"
      }
    },
    {
      "cell_type": "markdown",
      "source": [
        "Answer=The search() method searches a string for a specified value, and returns the position of the match.\n",
        "\n",
        "The search value can be string or a regular expression. This method returns -1 if no match is found"
      ],
      "metadata": {
        "id": "WgRiKTmLw7X-"
      }
    },
    {
      "cell_type": "markdown",
      "source": [
        "Question no.4=From a Match item, how do you get the actual strings that match the pattern?"
      ],
      "metadata": {
        "id": "a3SKkkA1w-8B"
      }
    },
    {
      "cell_type": "code",
      "source": [
        "phoneNumRegex = re.compile(r'\\d\\d\\d-\\d\\d\\d-\\d\\d\\d\\d')\n",
        "mo = phoneNumRegex.search('My number is 345-444-4542.')\n",
        "print('Phone number is: ' + mo.group())\n",
        "#Calling matchingObject.group() will return the string.\n",
        "     "
      ],
      "metadata": {
        "colab": {
          "base_uri": "https://localhost:8080/"
        },
        "id": "DkxpyroJxdl9",
        "outputId": "cbe3be8a-39cf-44a9-90b7-9adbde0be4ae"
      },
      "execution_count": null,
      "outputs": [
        {
          "output_type": "stream",
          "name": "stdout",
          "text": [
            "Phone number is: 345-444-4542\n"
          ]
        }
      ]
    },
    {
      "cell_type": "markdown",
      "source": [
        "Question no.5=In the regex which created from the r'(\\d\\d\\d)-(\\d\\d\\d-\\d\\d\\d\\d)', what does group zero cover? Group 2? Group 1?"
      ],
      "metadata": {
        "id": "qN0WmYfzw_Ec"
      }
    },
    {
      "cell_type": "code",
      "source": [
        "phoneNumRegex = re.compile(r'(\\d\\d\\d)-(\\d\\d\\d-\\d\\d\\d\\d)')\n",
        "mo = phoneNumRegex.search('My number is 345-444-4542.')\n",
        "mo.group(1)"
      ],
      "metadata": {
        "id": "nb_W9e6M-QvP",
        "outputId": "ff26ba1e-003f-44dc-b07a-59777f8ea6b4",
        "colab": {
          "base_uri": "https://localhost:8080/",
          "height": 35
        }
      },
      "execution_count": 4,
      "outputs": [
        {
          "output_type": "execute_result",
          "data": {
            "text/plain": [
              "'345'"
            ],
            "application/vnd.google.colaboratory.intrinsic+json": {
              "type": "string"
            }
          },
          "metadata": {},
          "execution_count": 4
        }
      ]
    },
    {
      "cell_type": "code",
      "source": [
        "mo.group(2)"
      ],
      "metadata": {
        "colab": {
          "base_uri": "https://localhost:8080/",
          "height": 35
        },
        "id": "tlCN9D7HF5WU",
        "outputId": "b4411dbd-c247-4de0-c2dd-5171b5d48d7c"
      },
      "execution_count": 5,
      "outputs": [
        {
          "output_type": "execute_result",
          "data": {
            "text/plain": [
              "'444-4542'"
            ],
            "application/vnd.google.colaboratory.intrinsic+json": {
              "type": "string"
            }
          },
          "metadata": {},
          "execution_count": 5
        }
      ]
    },
    {
      "cell_type": "code",
      "source": [
        "mo.group(0)"
      ],
      "metadata": {
        "colab": {
          "base_uri": "https://localhost:8080/",
          "height": 35
        },
        "id": "Z3vFfEmnF5eX",
        "outputId": "536f7568-15f9-4a9c-b0ed-7e0f7d94d958"
      },
      "execution_count": 6,
      "outputs": [
        {
          "output_type": "execute_result",
          "data": {
            "text/plain": [
              "'345-444-4542'"
            ],
            "application/vnd.google.colaboratory.intrinsic+json": {
              "type": "string"
            }
          },
          "metadata": {},
          "execution_count": 6
        }
      ]
    },
    {
      "cell_type": "markdown",
      "source": [
        "Question no.6=In standard expression syntax, parentheses and intervals have distinct meanings. How can you tell a regex that you want it to fit real parentheses and periods?"
      ],
      "metadata": {
        "id": "QZKr3BHYGAGT"
      }
    },
    {
      "cell_type": "markdown",
      "source": [
        "Answer= Periods and parentheses can be escaped with a backslash: ., (, and ).\n",
        "\n"
      ],
      "metadata": {
        "id": "YvyYUlmxw_MA"
      }
    },
    {
      "cell_type": "markdown",
      "source": [
        "Question no.7=The findall() method returns a string list or a list of string tuples. What causes it to return one of the two options?"
      ],
      "metadata": {
        "id": "gS3sNp5xGhMr"
      }
    },
    {
      "cell_type": "markdown",
      "source": [
        "Answer=If the regex has no groups, a list of strings is returned. If the regex has groups, a list of tuples of strings is returned."
      ],
      "metadata": {
        "id": "rsR83KRUGso1"
      }
    },
    {
      "cell_type": "markdown",
      "source": [
        "Question no.8=In standard expressions, what does the | character mean?"
      ],
      "metadata": {
        "id": "QuEZTtX_G0Um"
      }
    },
    {
      "cell_type": "markdown",
      "source": [
        "Answer= The | character is called a pipe. You can use it anywhere you want to match one of many expressions.\n",
        "\n",
        "For example, the regular expression r'Cricket|Soccer Sport' will match either 'Cricket' or 'Soccer Sport'.\n",
        "\n",
        "When both Cricket and Soccer Sport occur in the searched string, the first occurrence of matching text will be returned as the Match object.\n",
        "\n",
        "The | character signifies matching “either, or” between two *groups*"
      ],
      "metadata": {
        "id": "kElq8bM4HBXq"
      }
    },
    {
      "cell_type": "code",
      "source": [
        "SportRegex = re.compile (r'Cricket|Soccer Sport')\n",
        "s1 = SportRegex.search('Cricket and Soccer Sport')\n",
        "s1.group()"
      ],
      "metadata": {
        "colab": {
          "base_uri": "https://localhost:8080/",
          "height": 35
        },
        "id": "MliUDs_2HD8D",
        "outputId": "c7572735-227f-489f-9a41-778e58154997"
      },
      "execution_count": 7,
      "outputs": [
        {
          "output_type": "execute_result",
          "data": {
            "text/plain": [
              "'Cricket'"
            ],
            "application/vnd.google.colaboratory.intrinsic+json": {
              "type": "string"
            }
          },
          "metadata": {},
          "execution_count": 7
        }
      ]
    },
    {
      "cell_type": "code",
      "source": [
        "\n",
        "s2 = SportRegex.search('Soccer Sport and Cricket')\n",
        "s2.group()"
      ],
      "metadata": {
        "colab": {
          "base_uri": "https://localhost:8080/",
          "height": 35
        },
        "id": "RoG3qxyfHLxb",
        "outputId": "79c5a0dd-48fb-4e9b-a309-5ea6d5a32bc8"
      },
      "execution_count": 8,
      "outputs": [
        {
          "output_type": "execute_result",
          "data": {
            "text/plain": [
              "'Soccer Sport'"
            ],
            "application/vnd.google.colaboratory.intrinsic+json": {
              "type": "string"
            }
          },
          "metadata": {},
          "execution_count": 8
        }
      ]
    },
    {
      "cell_type": "markdown",
      "source": [
        "Question no.9=In regular expressions, what does the character stand for?"
      ],
      "metadata": {
        "id": "593qwY3FHSmB"
      }
    },
    {
      "cell_type": "markdown",
      "source": [
        "Answer=The ? character can either mean “match zero or one of the preceding group”."
      ],
      "metadata": {
        "id": "QZiDWlMNHcvl"
      }
    },
    {
      "cell_type": "code",
      "source": [
        "\n",
        "batRegex = re.compile(r'Bat(wo)?man')\n",
        "mo1 = batRegex.search('The Adventures of Batman')\n",
        "mo1.group()"
      ],
      "metadata": {
        "colab": {
          "base_uri": "https://localhost:8080/",
          "height": 35
        },
        "id": "-QmJfYx9HnXS",
        "outputId": "c20e7f26-9755-47a1-de2a-c7fb762312d7"
      },
      "execution_count": 9,
      "outputs": [
        {
          "output_type": "execute_result",
          "data": {
            "text/plain": [
              "'Batman'"
            ],
            "application/vnd.google.colaboratory.intrinsic+json": {
              "type": "string"
            }
          },
          "metadata": {},
          "execution_count": 9
        }
      ]
    },
    {
      "cell_type": "code",
      "source": [
        "mo2 = batRegex.search('The Adventures of Batwoman')\n",
        "mo2.group()\n",
        "     "
      ],
      "metadata": {
        "colab": {
          "base_uri": "https://localhost:8080/",
          "height": 35
        },
        "id": "HA-ID9QXHrXI",
        "outputId": "438e36e2-3f2b-40fa-9927-f1ab0bc73797"
      },
      "execution_count": 10,
      "outputs": [
        {
          "output_type": "execute_result",
          "data": {
            "text/plain": [
              "'Batwoman'"
            ],
            "application/vnd.google.colaboratory.intrinsic+json": {
              "type": "string"
            }
          },
          "metadata": {},
          "execution_count": 10
        }
      ]
    },
    {
      "cell_type": "markdown",
      "source": [
        "Question no.10=In regular expressions, what is the difference between the + and * characters?"
      ],
      "metadata": {
        "id": "qggvT-N1HvbN"
      }
    },
    {
      "cell_type": "markdown",
      "source": [
        "Answer=The + matches one or more. The * matches zero or more"
      ],
      "metadata": {
        "id": "pfhLQon-H5O9"
      }
    },
    {
      "cell_type": "markdown",
      "source": [
        "Question no.11=What is the difference between {4} and {4,5} in regular expression?"
      ],
      "metadata": {
        "id": "1Vf81KMIH7yn"
      }
    },
    {
      "cell_type": "markdown",
      "source": [
        "Answer=The {3} matches exactly three instances of the preceding group.\n",
        "\n",
        "The {3,5} matches between three and five instances"
      ],
      "metadata": {
        "id": "Cyem5-l9IISg"
      }
    },
    {
      "cell_type": "markdown",
      "source": [
        "Question no.12=What do you mean by the \\d, \\w, and \\s shorthand character classes signify in regular expressions?"
      ],
      "metadata": {
        "id": "vhhTYcNqIM1Q"
      }
    },
    {
      "cell_type": "markdown",
      "source": [
        "Answer=The \\d, stands for single digit, Any numeric digit from 0 to 9\n",
        "\n",
        "\\w, stands for single word, Any letter, numeric digit, or the underscore character. (Think of this as matching “word” characters.) \\s stands for single space character, Any space, tab, or newline character. (Think of this as matching “space” characters.)"
      ],
      "metadata": {
        "id": "_jv2UyejIadB"
      }
    },
    {
      "cell_type": "markdown",
      "source": [
        "Question no.13=What do means by \\D, \\W, and \\S shorthand character classes signify in regular expressions?"
      ],
      "metadata": {
        "id": "6qwIFdoGIdZ3"
      }
    },
    {
      "cell_type": "markdown",
      "source": [
        "Answer= \\D - > Any character that is not a numeric digit from 0 to 9.\n",
        "\n",
        "\\W - > Any character that is not a letter, numeric digit, or the underscore character.\n",
        "\\S - > Any character that is not a space, tab, or newline."
      ],
      "metadata": {
        "id": "KW76y67oInn_"
      }
    },
    {
      "cell_type": "markdown",
      "source": [
        "Question no.14=What is the difference between .*? and .*?"
      ],
      "metadata": {
        "id": "XPZP8XegIqkF"
      }
    },
    {
      "cell_type": "markdown",
      "source": [
        "Answer=.* - The dot-star uses greedy mode: It will always try to match as much text as possible."
      ],
      "metadata": {
        "id": "h-PahNsxIquw"
      }
    },
    {
      "cell_type": "markdown",
      "source": [
        "Question no.15=What is the syntax for matching both numbers and lowercase letters with a character class?"
      ],
      "metadata": {
        "id": "4sJ80pSqJOXv"
      }
    },
    {
      "cell_type": "markdown",
      "source": [
        "Answer= Either [0-9a-z] or [a-z0-9]"
      ],
      "metadata": {
        "id": "_qpHrYMBJok2"
      }
    },
    {
      "cell_type": "code",
      "source": [
        "reg1 = re.compile(r'[0-9a-z]')\n",
        "reg2 = re.compile(r'[a-z0-9]')\n",
        "\n",
        "mo1 = reg1.search('100 times I am Reading  this for 100 th time')\n",
        "mo1.group()"
      ],
      "metadata": {
        "colab": {
          "base_uri": "https://localhost:8080/",
          "height": 35
        },
        "id": "YHW_rIhhJrA0",
        "outputId": "d21c716a-3783-4a3f-e7b1-ec066514ad14"
      },
      "execution_count": 11,
      "outputs": [
        {
          "output_type": "execute_result",
          "data": {
            "text/plain": [
              "'1'"
            ],
            "application/vnd.google.colaboratory.intrinsic+json": {
              "type": "string"
            }
          },
          "metadata": {},
          "execution_count": 11
        }
      ]
    },
    {
      "cell_type": "code",
      "source": [
        "reg2 = re.compile(r'[a-z0-9]')\n",
        "\n",
        "mo1 = reg2.search('times I am Reading  this for 100 th time')\n",
        "mo1.group()\n",
        "     "
      ],
      "metadata": {
        "colab": {
          "base_uri": "https://localhost:8080/",
          "height": 35
        },
        "id": "d_Iomq9SJrYF",
        "outputId": "0207dd25-747b-4d2e-8365-2593ff28d13e"
      },
      "execution_count": 12,
      "outputs": [
        {
          "output_type": "execute_result",
          "data": {
            "text/plain": [
              "'t'"
            ],
            "application/vnd.google.colaboratory.intrinsic+json": {
              "type": "string"
            }
          },
          "metadata": {},
          "execution_count": 12
        }
      ]
    },
    {
      "cell_type": "markdown",
      "source": [
        "Question no.16=What is the procedure for making a normal expression in regax case insensitive?"
      ],
      "metadata": {
        "id": "VNSEfhArKAk1"
      }
    },
    {
      "cell_type": "markdown",
      "source": [
        "Answer=Passing re.I or re.IGNORECASE as the second argument to re.compile() will make the matching case insensitive"
      ],
      "metadata": {
        "id": "SRz6srGvKA2I"
      }
    },
    {
      "cell_type": "code",
      "source": [
        "casesen = re.compile(r'machine', re.I)\n",
        "casesen.search('Machine learning is part of data science').group()"
      ],
      "metadata": {
        "colab": {
          "base_uri": "https://localhost:8080/",
          "height": 35
        },
        "id": "R6Bu_BEVKPnl",
        "outputId": "9a88f0f8-4b0a-4c9e-f3fb-060ebae57c02"
      },
      "execution_count": 13,
      "outputs": [
        {
          "output_type": "execute_result",
          "data": {
            "text/plain": [
              "'Machine'"
            ],
            "application/vnd.google.colaboratory.intrinsic+json": {
              "type": "string"
            }
          },
          "metadata": {},
          "execution_count": 13
        }
      ]
    },
    {
      "cell_type": "code",
      "source": [
        "casesen.search('MACHINE is learning.').group()"
      ],
      "metadata": {
        "colab": {
          "base_uri": "https://localhost:8080/",
          "height": 35
        },
        "id": "OsGHB2zXKPw3",
        "outputId": "a474a446-363b-48ab-9636-8153da46cd96"
      },
      "execution_count": 14,
      "outputs": [
        {
          "output_type": "execute_result",
          "data": {
            "text/plain": [
              "'MACHINE'"
            ],
            "application/vnd.google.colaboratory.intrinsic+json": {
              "type": "string"
            }
          },
          "metadata": {},
          "execution_count": 14
        }
      ]
    },
    {
      "cell_type": "markdown",
      "source": [
        "Question no.17=. What does the . character normally match? What does it match if re.DOTALL is passed as 2nd argument in re.compile()?"
      ],
      "metadata": {
        "id": "RGDH6QeiKdKM"
      }
    },
    {
      "cell_type": "markdown",
      "source": [
        "Answer=The . character normally matches any character except the newline character.\n",
        "\n",
        "If re.DOTALL is passed as the second argument to re.compile(), then the dot will also match newline characters."
      ],
      "metadata": {
        "id": "eV68yG6UKpBO"
      }
    },
    {
      "cell_type": "markdown",
      "source": [
        "Question no.18=. If numReg = re.compile(r'\\d+'), what will numRegex.sub('X', '11 drummers, 10 pipers, five rings, 4 hen') return?"
      ],
      "metadata": {
        "id": "Uw30R8gjKzce"
      }
    },
    {
      "cell_type": "code",
      "source": [
        "numRegex = re.compile(r'\\d+')\n",
        "mo = numRegex.sub('X', '11 drummers, 10 pipers, five rings, 4 hen')\n",
        "mo"
      ],
      "metadata": {
        "colab": {
          "base_uri": "https://localhost:8080/",
          "height": 35
        },
        "id": "b3XqtADWK8DY",
        "outputId": "7516e366-9540-4e54-c706-c6d64b8618fb"
      },
      "execution_count": 15,
      "outputs": [
        {
          "output_type": "execute_result",
          "data": {
            "text/plain": [
              "'X drummers, X pipers, five rings, X hen'"
            ],
            "application/vnd.google.colaboratory.intrinsic+json": {
              "type": "string"
            }
          },
          "metadata": {},
          "execution_count": 15
        }
      ]
    },
    {
      "cell_type": "markdown",
      "source": [
        "Question no.19=What does passing re.VERBOSE as the 2nd argument to re.compile() allow to do?\n",
        "\n"
      ],
      "metadata": {
        "id": "2dvcN5XNLA4V"
      }
    },
    {
      "cell_type": "markdown",
      "source": [
        "Answer= The re.VERBOSE argument allows you to add whitespace and comments to the string passed to re.compile()"
      ],
      "metadata": {
        "id": "tmZQLtbULPhw"
      }
    }
  ]
}