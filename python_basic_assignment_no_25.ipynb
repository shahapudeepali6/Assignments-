{
  "nbformat": 4,
  "nbformat_minor": 0,
  "metadata": {
    "colab": {
      "provenance": []
    },
    "kernelspec": {
      "name": "python3",
      "display_name": "Python 3"
    },
    "language_info": {
      "name": "python"
    }
  },
  "cells": [
    {
      "cell_type": "markdown",
      "source": [
        "Question no.1) . What is the difference between enclosing a list comprehension in square brackets and parentheses?\n"
      ],
      "metadata": {
        "id": "GePkOUJnIlNv"
      }
    },
    {
      "cell_type": "markdown",
      "source": [
        "Ans: Enclosing a list comprehension in square brackets returns a list but enclosing a list comprehension in parentheses returns a generator object. Example is mentioned below:"
      ],
      "metadata": {
        "id": "xbtKwBbRJeTs"
      }
    },
    {
      "cell_type": "code",
      "source": [
        "l = [ele for ele in range(10)]\n",
        "print(l, type(l))\n",
        "g = (ele for ele in range(10))\n",
        "print(g, type(g))"
      ],
      "metadata": {
        "colab": {
          "base_uri": "https://localhost:8080/"
        },
        "id": "4ltJArRZJe0c",
        "outputId": "93f558c6-8832-42df-dd1a-a6d507bb7405"
      },
      "execution_count": 1,
      "outputs": [
        {
          "output_type": "stream",
          "name": "stdout",
          "text": [
            "[0, 1, 2, 3, 4, 5, 6, 7, 8, 9] <class 'list'>\n",
            "<generator object <genexpr> at 0x7c8e6ee39070> <class 'generator'>\n"
          ]
        }
      ]
    },
    {
      "cell_type": "markdown",
      "source": [
        "Question no.2) What is the relationship between generators and iterators?"
      ],
      "metadata": {
        "id": "Ljwdzjb3Iwkc"
      }
    },
    {
      "cell_type": "markdown",
      "source": [
        "Ans: An iterator is an object which contains a countable number of values and it is used to iterate over iterable objects like list, tuples, sets, etc. Iterators are implemented using a class. It follows lazy evaluation where the evaluation of the expression will be on hold and stored in the memory until the item is called specifically which helps us to avoid repeated evaluation. As lazy evaluation is implemented, it requires only 1 memory location to process the value and when we are using a large dataset then, wastage of RAM space will be reduced the need to load the entire dataset at the same time will not be there.For an iterator: iter() keyword is used to create an iterator containing an iterable object.next() keyword is used to call the next element in the iterable object.\n",
        "\n",
        "Similarly Generators are an another way of creating iterators in a simple way where it uses the keyword yield statement instead of return statement in a defined function.Generators are implemented using a function. Just as iterators, generators also follow lazy evaluation. Here, the yield function returns the data without affecting or exiting the function. It will return a sequence of data in an iterable format where we need to iterate over the sequence to use the data as they won’t store the entire sequence in the memory."
      ],
      "metadata": {
        "id": "kVJuuQyAJoXt"
      }
    },
    {
      "cell_type": "code",
      "source": [
        "# Example of iterator\n",
        "iter_str = iter(['iNeuron','Full','Stack','Data Science'])\n",
        "print(type(iter_str))\n",
        "print(next(iter_str))\n",
        "print(next(iter_str))\n",
        "print(next(iter_str))\n",
        "print(next(iter_str))\n",
        "print(iter_str) # After the iterable object is completed, to use them again we have reassign them to the same object.\n",
        "\n",
        "# Example of Generator\n",
        "def cube_numbers(in_num):\n",
        "    for ele in range(in_num+1):\n",
        "        yield ele**3\n",
        "\n",
        "out_num = cube_numbers(4)\n",
        "print(next(out_num))\n",
        "print(next(out_num))\n",
        "print(next(out_num))\n",
        "print(next(out_num))\n",
        "print(next(out_num))"
      ],
      "metadata": {
        "colab": {
          "base_uri": "https://localhost:8080/"
        },
        "id": "1lExccIDJopr",
        "outputId": "bdf5b0e7-0e44-470f-9267-a98a0399e1d4"
      },
      "execution_count": 2,
      "outputs": [
        {
          "output_type": "stream",
          "name": "stdout",
          "text": [
            "<class 'list_iterator'>\n",
            "iNeuron\n",
            "Full\n",
            "Stack\n",
            "Data Science\n",
            "<list_iterator object at 0x7c8e6ee3fa30>\n",
            "0\n",
            "1\n",
            "8\n",
            "27\n",
            "64\n"
          ]
        }
      ]
    },
    {
      "cell_type": "markdown",
      "source": [
        "Question no.3) What are the signs that a function is a generator function?"
      ],
      "metadata": {
        "id": "Ql0L2e_BIxKu"
      }
    },
    {
      "cell_type": "markdown",
      "source": [
        "Ans: A generator function uses a yield statement instead of a return statement. A generator function will always return a iterable object called generator. where as a normal function can return a string/list/tuple/dict/NoneType etc."
      ],
      "metadata": {
        "id": "PGrldiukJMdE"
      }
    },
    {
      "cell_type": "markdown",
      "source": [
        "Question no.4) What is the purpose of a yield statement?"
      ],
      "metadata": {
        "id": "AH3Al_2yIxqr"
      }
    },
    {
      "cell_type": "markdown",
      "source": [
        "Ans: The yield statement suspends function’s execution and sends a value back to the caller, but retains enough state to enable function to resume where it is left off. When resumed, the function continues execution immediately after the last yield run. This allows its code to produce a series of values over time, rather than computing them at once and sending them back like a list."
      ],
      "metadata": {
        "id": "8XQQCBsaJOXN"
      }
    },
    {
      "cell_type": "markdown",
      "source": [
        "Question no.5) What is the relationship between map calls and list comprehensions? Make a comparison and contrast between the two."
      ],
      "metadata": {
        "id": "CDbPreHmIyQI"
      }
    },
    {
      "cell_type": "markdown",
      "source": [
        "Ans: The main differences between map calls and list comprehensiosn are:\n",
        "\n",
        "1.List comprehension is more concise and easier to read as compared to map.\n",
        "2.List comprehension allows filtering. In map, we have no such facility. For example, to print all odd numbers in range of 50, we can write [n for n in range(50) if n%2 != 0]. There is no alternate for it in map\n",
        "3.List comprehension are used when a list of results is required as final output.but map only returns a map object. it needs to be explicitly coverted to desired datatype.\n",
        "4.List comprehension is faster than map when we need to evaluate expressions that are too long or complicated to express\n",
        "5.Map is faster in case of calling an already defined function on a set of values."
      ],
      "metadata": {
        "id": "WHa_LQstJShh"
      }
    }
  ]
}