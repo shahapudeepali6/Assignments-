{
  "nbformat": 4,
  "nbformat_minor": 0,
  "metadata": {
    "colab": {
      "provenance": []
    },
    "kernelspec": {
      "name": "python3",
      "display_name": "Python 3"
    },
    "language_info": {
      "name": "python"
    }
  },
  "cells": [
    {
      "cell_type": "markdown",
      "source": [
        "Question no.1.\tWrite a Python program to find words which are greater than given length k?"
      ],
      "metadata": {
        "id": "GVA3x1ikaS30"
      }
    },
    {
      "cell_type": "code",
      "source": [
        "sentence='hello geeks for geeks is computer science portal'\n",
        "length=4\n",
        "s=sentence.split()\n",
        "print([a for i, a in enumerate(s)if len(a)>length])"
      ],
      "metadata": {
        "colab": {
          "base_uri": "https://localhost:8080/"
        },
        "id": "l23zkxwganJk",
        "outputId": "c750ac7a-abfb-4b8b-a732-b9f328f55431"
      },
      "execution_count": 1,
      "outputs": [
        {
          "output_type": "stream",
          "name": "stdout",
          "text": [
            "['hello', 'geeks', 'geeks', 'computer', 'science', 'portal']\n"
          ]
        }
      ]
    },
    {
      "cell_type": "markdown",
      "source": [
        "Question no.2.\tWrite a Python program for removing i-th character from a string?"
      ],
      "metadata": {
        "id": "m6akvlKWadV1"
      }
    },
    {
      "cell_type": "code",
      "source": [
        "def remove(string,i):\n",
        "\n",
        "  a=string[ :i]\n",
        "  b=string[i+1: ]\n",
        "  return a+b\n",
        "\n",
        "if __name__=='__Main__':\n",
        "  string='geeksFORgeeks'\n",
        "  i=5\n",
        "  print(remove(string,i))"
      ],
      "metadata": {
        "id": "XYq0TdHBarQt"
      },
      "execution_count": 5,
      "outputs": []
    },
    {
      "cell_type": "code",
      "source": [
        "## method 2\n",
        "\n",
        "def remove(string,i):\n",
        "  return\"\".join(string)\n",
        "\n",
        "print(remove('geeksforgeeks',2))"
      ],
      "metadata": {
        "colab": {
          "base_uri": "https://localhost:8080/"
        },
        "id": "bF5laQzUeyoH",
        "outputId": "bf294bfe-6d68-4d66-c9c6-37ff82d50f59"
      },
      "execution_count": 14,
      "outputs": [
        {
          "output_type": "stream",
          "name": "stdout",
          "text": [
            "geeksforgeeks\n"
          ]
        }
      ]
    },
    {
      "cell_type": "markdown",
      "source": [
        "Question no.3.\tWrite a Python program to split and join a string?"
      ],
      "metadata": {
        "id": "_V17T0g-aedy"
      }
    },
    {
      "cell_type": "code",
      "source": [
        "string='Geeks for Geeks'\n",
        "\n",
        "print(string.split(\" \"))\n",
        "\n",
        "print(\"-\".join(string.split()))"
      ],
      "metadata": {
        "colab": {
          "base_uri": "https://localhost:8080/"
        },
        "id": "4yn8rXkEelCX",
        "outputId": "10fc3b8f-f62f-4f08-8409-a21d797792dd"
      },
      "execution_count": 15,
      "outputs": [
        {
          "output_type": "stream",
          "name": "stdout",
          "text": [
            "['Geeks', 'for', 'Geeks']\n",
            "Geeks-for-Geeks\n"
          ]
        }
      ]
    },
    {
      "cell_type": "markdown",
      "source": [
        "Question no.4.\tWrite a Python to check if a given string is binary string or not?"
      ],
      "metadata": {
        "id": "TsD-0OMLafGB"
      }
    },
    {
      "cell_type": "code",
      "source": [
        "string='01010101010'\n",
        "\n",
        "if(string.count('0')+string.count('1')==len(string)):\n",
        "  print(\"yes\")\n",
        "else:\n",
        "  print(\"no\")"
      ],
      "metadata": {
        "colab": {
          "base_uri": "https://localhost:8080/"
        },
        "id": "_w3-ahfcgerP",
        "outputId": "f269af60-a4a1-4711-92ce-4305454c5dc9"
      },
      "execution_count": 16,
      "outputs": [
        {
          "output_type": "stream",
          "name": "stdout",
          "text": [
            "yes\n"
          ]
        }
      ]
    },
    {
      "cell_type": "markdown",
      "source": [
        "Question no.5.\tWrite a Python program to find uncommon words from two Strings?"
      ],
      "metadata": {
        "id": "lXz4-bqeafnq"
      }
    },
    {
      "cell_type": "code",
      "source": [
        "def Uncommonwords(A,B):\n",
        "\n",
        "  setA=set(A.split())\n",
        "  setB=set(B.split())\n",
        "\n",
        "  uncommonwords=setA.difference(setB).union(setB.difference(setA))\n",
        "\n",
        "  return list(uncommonwords)\n",
        "\n",
        "A='Geeks for Geeks'\n",
        "B='Learning from Geeks for Geeks'\n",
        "\n",
        "print(Uncommonwords(A,B))"
      ],
      "metadata": {
        "colab": {
          "base_uri": "https://localhost:8080/"
        },
        "id": "2WJvGL83hVCW",
        "outputId": "eb56ae74-affe-433e-b5f0-46c1903ead33"
      },
      "execution_count": 28,
      "outputs": [
        {
          "output_type": "stream",
          "name": "stdout",
          "text": [
            "['Learning', 'from']\n"
          ]
        }
      ]
    },
    {
      "cell_type": "markdown",
      "source": [
        "Question no.6.\tWrite a Python to find all duplicate characters in string?"
      ],
      "metadata": {
        "id": "L3mwItaLagJg"
      }
    },
    {
      "cell_type": "code",
      "source": [
        "def find_duplicate_char(string):\n",
        "  unique_char=set()\n",
        "  duplicate_char=set()\n",
        "\n",
        "  for char in string:\n",
        "    if char in unique_char:\n",
        "      duplicate_char.add(char)\n",
        "\n",
        "    else:\n",
        "      unique_char.add(char)\n",
        "\n",
        "  return duplicate_char\n",
        "\n",
        "print(find_duplicate_char(\"geeksforgeeks\"))"
      ],
      "metadata": {
        "colab": {
          "base_uri": "https://localhost:8080/"
        },
        "id": "I3xThIPLjmEr",
        "outputId": "ff3b593f-f2d8-4f22-922a-36183bef7418"
      },
      "execution_count": 29,
      "outputs": [
        {
          "output_type": "stream",
          "name": "stdout",
          "text": [
            "{'s', 'e', 'g', 'k'}\n"
          ]
        }
      ]
    },
    {
      "cell_type": "markdown",
      "source": [
        "Question no.7.\tWrite a Python Program to check if a string contains any special character?"
      ],
      "metadata": {
        "id": "B5xrlEhIahTb"
      }
    },
    {
      "cell_type": "code",
      "source": [
        "def has_special_char(s):\n",
        "    for c in s:\n",
        "        if not (c.isalpha() or c.isdigit() or c == ' '):\n",
        "            return True\n",
        "    return False\n",
        "\n",
        "\n",
        "# Test the function\n",
        "s = \"Hello World\"\n",
        "if has_special_char(s):\n",
        "    print(\"The string contains special characters.\")\n",
        "else:\n",
        "    print(\"The string does not contain special characters.\")\n",
        "\n",
        "s = \"Hello@World\"\n",
        "if has_special_char(s):\n",
        "    print(\"The string contains special characters.\")\n",
        "else:\n",
        "    print(\"The string does not contain special characters.\")"
      ],
      "metadata": {
        "colab": {
          "base_uri": "https://localhost:8080/"
        },
        "id": "WEee025_lVJ-",
        "outputId": "3f6c319e-3b13-40d5-fbad-06323b0158dd"
      },
      "execution_count": 30,
      "outputs": [
        {
          "output_type": "stream",
          "name": "stdout",
          "text": [
            "The string does not contain special characters.\n",
            "The string contains special characters.\n"
          ]
        }
      ]
    }
  ]
}