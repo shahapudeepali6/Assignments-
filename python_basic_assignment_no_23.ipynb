{
  "nbformat": 4,
  "nbformat_minor": 0,
  "metadata": {
    "colab": {
      "provenance": []
    },
    "kernelspec": {
      "name": "python3",
      "display_name": "Python 3"
    },
    "language_info": {
      "name": "python"
    }
  },
  "cells": [
    {
      "cell_type": "markdown",
      "source": [
        "Question no.1. What is the result of the code, and why?\n",
        ">>> def func(a, b=6, c=8):\n",
        "print(a, b, c)\n",
        ">>> func(1, 2)\n",
        "\n",
        "\n"
      ],
      "metadata": {
        "id": "ymHjvh_WBoze"
      }
    },
    {
      "cell_type": "markdown",
      "source": [
        "Ans: The result of the above code is 1 2 8. It is because the function uses the default value of c i.e 8 which is provided at the time of declaration. We can see this below:"
      ],
      "metadata": {
        "id": "vDN7BivTE-t1"
      }
    },
    {
      "cell_type": "code",
      "source": [
        "def func(a,b=6,c=8):\n",
        "    print(a,b,c)\n",
        "func(1,2)"
      ],
      "metadata": {
        "colab": {
          "base_uri": "https://localhost:8080/"
        },
        "id": "5i4B9LEICgII",
        "outputId": "6e3d3ad9-f00c-43fc-8b8b-0da7422eeca6"
      },
      "execution_count": 1,
      "outputs": [
        {
          "output_type": "stream",
          "name": "stdout",
          "text": [
            "1 2 8\n"
          ]
        }
      ]
    },
    {
      "cell_type": "markdown",
      "source": [
        "Question no.2. What is the result of this code, and why?\n",
        ">>> def func(a, b, c=5):\n",
        "print(a, b, c)\n",
        ">>> func(1, c=3, b=2)\n"
      ],
      "metadata": {
        "id": "1x3aWr4fB6EY"
      }
    },
    {
      "cell_type": "markdown",
      "source": [
        "Ans: The result of the above code is 1 2 3. It is because the function will use default values only when a value for a argument is not provided and if the argument name is mentioned while doing a function call, the order of arguments is also ignored by the python interpreter"
      ],
      "metadata": {
        "id": "shhZ1dVcFKO8"
      }
    },
    {
      "cell_type": "code",
      "source": [
        "def func(a,b,c=5):\n",
        "    print(a,b,c)\n",
        "func(1,c=3,b=2)"
      ],
      "metadata": {
        "colab": {
          "base_uri": "https://localhost:8080/"
        },
        "id": "id9ku1wMCgt2",
        "outputId": "5b661715-a249-4e48-da4a-591723932e6d"
      },
      "execution_count": 2,
      "outputs": [
        {
          "output_type": "stream",
          "name": "stdout",
          "text": [
            "1 2 3\n"
          ]
        }
      ]
    },
    {
      "cell_type": "markdown",
      "source": [
        "Question no.3. How about this code: what is its result, and why?\n",
        ">>> def func(a, *pargs):\n",
        "print(a, pargs)\n",
        ">>> func(1, 2, 3)\n"
      ],
      "metadata": {
        "id": "ap-g0RkxB7cB"
      }
    },
    {
      "cell_type": "markdown",
      "source": [
        "Ans: The result of the code is 1 (2,3). *pargs stands for variable length arguments. This format is used when we are not sure about the number of arguments to be passed to a function. All the values under this argument will be stored in a tuple."
      ],
      "metadata": {
        "id": "1uCO3YfgFSHh"
      }
    },
    {
      "cell_type": "code",
      "source": [
        "def func(a, *pargs):\n",
        "    print(a,pargs)\n",
        "func(1,2,3)"
      ],
      "metadata": {
        "colab": {
          "base_uri": "https://localhost:8080/"
        },
        "id": "_bMW_PQYChZh",
        "outputId": "d60aa53a-b94f-40e8-a52e-3d477d31683b"
      },
      "execution_count": 3,
      "outputs": [
        {
          "output_type": "stream",
          "name": "stdout",
          "text": [
            "1 (2, 3)\n"
          ]
        }
      ]
    },
    {
      "cell_type": "markdown",
      "source": [
        "Question no.4. What does this code print, and why?\n",
        ">>> def func(a, **kargs):\n",
        "print(a, kargs)\n",
        ">>> func(a=1, c=3, b=2)\n"
      ],
      "metadata": {
        "id": "yH04i4eYB9fl"
      }
    },
    {
      "cell_type": "markdown",
      "source": [
        "Ans: The result of the above code is 1 {'c': 3, 'b': 2}. **args stands for variable length keyword arguments. This format is used when we want pass key value pairs as input to a function. All these key value pairs will be stored in a dictionary"
      ],
      "metadata": {
        "id": "NQmkUjFkFZka"
      }
    },
    {
      "cell_type": "code",
      "source": [
        "def func(a,**kargs):\n",
        "    print(a,kargs)\n",
        "func(a=1,c=3,b=2)"
      ],
      "metadata": {
        "colab": {
          "base_uri": "https://localhost:8080/"
        },
        "id": "e_2ajX9oCiJP",
        "outputId": "fc4ee232-841c-4619-cfe9-3ca6e1d460fb"
      },
      "execution_count": 4,
      "outputs": [
        {
          "output_type": "stream",
          "name": "stdout",
          "text": [
            "1 {'c': 3, 'b': 2}\n"
          ]
        }
      ]
    },
    {
      "cell_type": "markdown",
      "source": [
        "Question no.5. What gets printed by this, and explain?\n",
        ">>> def func(a, b, c=8, d=5): print(a, b, c, d)\n",
        ">>> func(1, *(5, 6))\n"
      ],
      "metadata": {
        "id": "kDR8L61MB-lS"
      }
    },
    {
      "cell_type": "markdown",
      "source": [
        "Ans: The output of the above is 1 5 6 5. The reason for this function not throwing an error is because, this function expects 4 arguments. The value for a is provided explicitly whereas for arguments b and c, the function will expand *(5,6) and consider the value of b as 5 and value of c as 6. Since the default value of d is provided in function declaration, d value will be 5. However it is recommended to use the feature of positional arguments at the end."
      ],
      "metadata": {
        "id": "szTXZxqgFf9Y"
      }
    },
    {
      "cell_type": "code",
      "source": [
        "def func(a,b,c=8,d=5):\n",
        "    print(a,b,c,d)\n",
        "func(1,*(5,6))"
      ],
      "metadata": {
        "colab": {
          "base_uri": "https://localhost:8080/"
        },
        "id": "cvvjgHSLCi2m",
        "outputId": "69578540-a2ce-485a-82c1-8c6a90141cc6"
      },
      "execution_count": 5,
      "outputs": [
        {
          "output_type": "stream",
          "name": "stdout",
          "text": [
            "1 5 6 5\n"
          ]
        }
      ]
    },
    {
      "cell_type": "markdown",
      "source": [
        "Question no.6. what is the result of this, and explain?\n",
        ">>> def func(a, b, c): a = 2; b[0] = 'x'; c['a'] = 'y'\n",
        ">>> l=1; m=[1]; n={'a':0}\n",
        ">>> func(l, m, n)\n"
      ],
      "metadata": {
        "id": "svLDn5CUB_eT"
      }
    },
    {
      "cell_type": "markdown",
      "source": [
        "Ans: The output of above code is 1, ['x'], {'a': 'y'}.\n",
        "\n",
        "Even though Python gives importance to indentation, it provides a facility to declare an entire function in one single line where statements in a function body are sepereated by ;\n",
        "When l,m,n are provided as inputs to the function, it modifies the values of l,m,n and sets the value of l=2 ,m=['x'] and n={'a':'y'}"
      ],
      "metadata": {
        "id": "RYGWLYeXFm-T"
      }
    },
    {
      "cell_type": "code",
      "source": [
        "def func(a, b, c): a = 2; b[0] = 'x'; c['a'] = 'y'\n",
        "l=1; m=[1]; n={'a':0}\n",
        "func(l, m, n)\n",
        "l,m,n"
      ],
      "metadata": {
        "colab": {
          "base_uri": "https://localhost:8080/"
        },
        "id": "bbJnIumoCjl_",
        "outputId": "8d77abe0-8dca-4d9f-dff3-fc1d69e41d37"
      },
      "execution_count": 6,
      "outputs": [
        {
          "output_type": "execute_result",
          "data": {
            "text/plain": [
              "(1, ['x'], {'a': 'y'})"
            ]
          },
          "metadata": {},
          "execution_count": 6
        }
      ]
    }
  ]
}