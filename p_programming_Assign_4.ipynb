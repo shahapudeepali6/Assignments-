{
  "nbformat": 4,
  "nbformat_minor": 0,
  "metadata": {
    "colab": {
      "provenance": []
    },
    "kernelspec": {
      "name": "python3",
      "display_name": "Python 3"
    },
    "language_info": {
      "name": "python"
    }
  },
  "cells": [
    {
      "cell_type": "markdown",
      "source": [
        "Question no.1 .\tWrite a Python Program to Find the Factorial of a Number?"
      ],
      "metadata": {
        "id": "caCCNkhgUKep"
      }
    },
    {
      "cell_type": "code",
      "source": [
        "def factorial(num):\n",
        "    if (num < 1):\n",
        "        return 1\n",
        "    else:\n",
        "        return num*factorial(num-1)\n",
        "num = int(input('Enter a number: '))\n",
        "value = factorial(num)\n",
        "print(f'The Factorial of {num} is {value}')"
      ],
      "metadata": {
        "id": "Z1zJyzqJVRXX",
        "colab": {
          "base_uri": "https://localhost:8080/"
        },
        "outputId": "3c859143-91e1-43d6-b48d-1048591d02de"
      },
      "execution_count": 1,
      "outputs": [
        {
          "output_type": "stream",
          "name": "stdout",
          "text": [
            "Enter a number: 10\n",
            "The Factorial of 10 is 3628800\n"
          ]
        }
      ]
    },
    {
      "cell_type": "markdown",
      "source": [
        "Question no.2.\tWrite a Python Program to Display the multiplication Table?"
      ],
      "metadata": {
        "id": "_0Uxw73lUmNI"
      }
    },
    {
      "cell_type": "code",
      "source": [
        "def generateTable(base,entries):\n",
        "    for x in range(1,entries+1):\n",
        "        print(f'{base} X {x} = {base*x}')\n",
        "\n",
        "num = int(input('Enter a number: '))\n",
        "values = int(input('Enter no of entries: '))\n",
        "generateTable(num,values)"
      ],
      "metadata": {
        "id": "WhCh3TodVSBq",
        "colab": {
          "base_uri": "https://localhost:8080/"
        },
        "outputId": "4f934052-254e-487d-92fc-0d14f9c9df4a"
      },
      "execution_count": 2,
      "outputs": [
        {
          "output_type": "stream",
          "name": "stdout",
          "text": [
            "Enter a number: 89\n",
            "Enter no of entries: 12\n",
            "89 X 1 = 89\n",
            "89 X 2 = 178\n",
            "89 X 3 = 267\n",
            "89 X 4 = 356\n",
            "89 X 5 = 445\n",
            "89 X 6 = 534\n",
            "89 X 7 = 623\n",
            "89 X 8 = 712\n",
            "89 X 9 = 801\n",
            "89 X 10 = 890\n",
            "89 X 11 = 979\n",
            "89 X 12 = 1068\n"
          ]
        }
      ]
    },
    {
      "cell_type": "markdown",
      "source": [
        "Question no.3.\tWrite a Python Program to Print the Fibonacci sequence?"
      ],
      "metadata": {
        "id": "DiYFNMGUUthO"
      }
    },
    {
      "cell_type": "code",
      "source": [
        "s_count = int(input('Enter the no of fibonacci sequences you want? '))\n",
        "initial_list = [0,1]\n",
        "if s_count < 0:\n",
        "    print('Fibonacci Numbers are not available for Negative Numbers')\n",
        "elif s_count <= 2 and s_count >= 0:\n",
        "    print(initial_list)\n",
        "else:\n",
        "    for ins in range(s_count):\n",
        "        if ins >= 2:\n",
        "            initial_list.append(initial_list[ins-1]+initial_list[ins-2])\n",
        "    print(f'The First {s_count} fibonacci series are: ',initial_list)"
      ],
      "metadata": {
        "id": "IppUzXMHVSug",
        "colab": {
          "base_uri": "https://localhost:8080/"
        },
        "outputId": "69b677eb-025d-4ebc-a2e0-77a4005d2821"
      },
      "execution_count": 3,
      "outputs": [
        {
          "output_type": "stream",
          "name": "stdout",
          "text": [
            "Enter the no of fibonacci sequences you want? 25\n",
            "The First 25 fibonacci series are:  [0, 1, 1, 2, 3, 5, 8, 13, 21, 34, 55, 89, 144, 233, 377, 610, 987, 1597, 2584, 4181, 6765, 10946, 17711, 28657, 46368]\n"
          ]
        }
      ]
    },
    {
      "cell_type": "markdown",
      "source": [
        "Question no.4.\tWrite a Python Program to Check Armstrong Number?"
      ],
      "metadata": {
        "id": "fS5cZydpU1wi"
      }
    },
    {
      "cell_type": "code",
      "source": [
        "def checkArmstrongNumber():\n",
        "    in_num = input('Enter a number: ')\n",
        "    sum = 0\n",
        "    for char in range(len(in_num)):\n",
        "        sum = sum + pow(int(in_num[char]),3)\n",
        "    if sum == int(in_num):\n",
        "        print(f'{in_num} is a Armstrong Number')\n",
        "    else:\n",
        "        print(f'{in_num} is a Not Armstrong Number')\n",
        "\n",
        "for x in range(2):\n",
        "    checkArmstrongNumber()"
      ],
      "metadata": {
        "id": "JRtBwABbVTuI",
        "colab": {
          "base_uri": "https://localhost:8080/"
        },
        "outputId": "f14a2727-1fcb-4f1d-889f-b044a87db93e"
      },
      "execution_count": 4,
      "outputs": [
        {
          "output_type": "stream",
          "name": "stdout",
          "text": [
            "Enter a number: 8\n",
            "8 is a Not Armstrong Number\n",
            "Enter a number: 66\n",
            "66 is a Not Armstrong Number\n"
          ]
        }
      ]
    },
    {
      "cell_type": "markdown",
      "source": [
        "Question no.5.\tWrite a Python Program to Find Armstrong Number in an Interval?"
      ],
      "metadata": {
        "id": "zt9ufmI6U7UM"
      }
    },
    {
      "cell_type": "code",
      "source": [
        "def checkArmstrongNumber(in_num, storage):\n",
        "    sum = 0\n",
        "    for char in range(len(in_num)):\n",
        "        sum = sum + pow(int(in_num[char]),3)\n",
        "    if sum == int(in_num):\n",
        "        storage.append(int(in_num))\n",
        "\n",
        "start_interval = int(input('Enter the Start of the Interval: '))\n",
        "end_interval = int(input('Enter the End of the Interval: '))\n",
        "list_of_armstrong = []\n",
        "\n",
        "if start_interval > end_interval:\n",
        "    print(\"Start Interval Cannot be Greater than End Interval\")\n",
        "else:\n",
        "    for number in range(start_interval,end_interval+1):\n",
        "        checkArmstrongNumber(str(number),list_of_armstrong)\n",
        "    print(f'The Armstrong numbers between {start_interval} and {end_interval} are {list_of_armstrong}')"
      ],
      "metadata": {
        "id": "sXGfcFJDVUeH",
        "colab": {
          "base_uri": "https://localhost:8080/"
        },
        "outputId": "0e03900f-c394-4d77-f169-b03a6f015d5a"
      },
      "execution_count": 5,
      "outputs": [
        {
          "output_type": "stream",
          "name": "stdout",
          "text": [
            "Enter the Start of the Interval: 12\n",
            "Enter the End of the Interval: 45\n",
            "The Armstrong numbers between 12 and 45 are []\n"
          ]
        }
      ]
    },
    {
      "cell_type": "markdown",
      "source": [
        "Question no.6.\tWrite a Python Program to Find the Sum of Natural Numbers?"
      ],
      "metadata": {
        "id": "skgsNt6fVBqZ"
      }
    },
    {
      "cell_type": "code",
      "source": [
        "def sumOfNaturalNumbers(num):\n",
        "    sum = num*((num+1)/2)\n",
        "    print(f'Sum of {num} natural numbers is {sum}')\n",
        "\n",
        "num = int(input('Enter a number: '))\n",
        "sumOfNaturalNumbers(num)"
      ],
      "metadata": {
        "id": "2SpfuXCGVVVw",
        "colab": {
          "base_uri": "https://localhost:8080/"
        },
        "outputId": "999474e3-c6c2-4346-a50a-7e9f95839642"
      },
      "execution_count": 6,
      "outputs": [
        {
          "output_type": "stream",
          "name": "stdout",
          "text": [
            "Enter a number: 6689\n",
            "Sum of 6689 natural numbers is 22374705.0\n"
          ]
        }
      ]
    }
  ]
}