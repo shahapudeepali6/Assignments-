{
  "nbformat": 4,
  "nbformat_minor": 0,
  "metadata": {
    "colab": {
      "provenance": []
    },
    "kernelspec": {
      "name": "python3",
      "display_name": "Python 3"
    },
    "language_info": {
      "name": "python"
    }
  },
  "cells": [
    {
      "cell_type": "markdown",
      "source": [
        "Question no 1. Write a Python program to convert kilometers to miles?"
      ],
      "metadata": {
        "id": "E3DisAcF0wqT"
      }
    },
    {
      "cell_type": "code",
      "source": [
        "kilometers=5.5\n",
        "conv=0.621371\n",
        "miles=kilometers*conv\n",
        "print(\"%0.3f kilometers is equal to% 0.3f miles\" % (kilometers,miles))"
      ],
      "metadata": {
        "colab": {
          "base_uri": "https://localhost:8080/"
        },
        "id": "jr5U9ZxG1BUb",
        "outputId": "443a6776-fb5f-4dbf-da2a-d66ec90e1319"
      },
      "execution_count": 3,
      "outputs": [
        {
          "output_type": "stream",
          "name": "stdout",
          "text": [
            "5.500 kilometers is equal to 3.418 miles\n"
          ]
        }
      ]
    },
    {
      "cell_type": "markdown",
      "source": [
        "Question no 2.\tWrite a Python program to convert Celsius to Fahrenheit?"
      ],
      "metadata": {
        "id": "BaociNxQ2srW"
      }
    },
    {
      "cell_type": "code",
      "source": [
        "celsius=37.5\n",
        "fahrenheit=(celsius*1.8)+32\n",
        "print(\"%0.1f degree celsius is equal to %0.1f degree fahrenheit\" %(celsius,fahrenheit))"
      ],
      "metadata": {
        "colab": {
          "base_uri": "https://localhost:8080/"
        },
        "id": "B-NDcei023wl",
        "outputId": "f584944a-3b1e-4c19-a3b4-a9c536ed5a3b"
      },
      "execution_count": 7,
      "outputs": [
        {
          "output_type": "stream",
          "name": "stdout",
          "text": [
            "37.5 degree celsius is equal to 99.5 degree fahrenheit\n"
          ]
        }
      ]
    },
    {
      "cell_type": "markdown",
      "source": [
        "Question no 3.\tWrite a Python program to display calendar?"
      ],
      "metadata": {
        "id": "DRKxHphc4Iaf"
      }
    },
    {
      "cell_type": "code",
      "source": [
        "import calendar\n",
        "yy= 2022  # year\n",
        "mm=11  #month\n",
        "\n",
        "yy=int(input(\"Enter year:\"))\n",
        "mm=int(input(\"Enter month:\"))\n",
        "\n",
        "print(calendar.month(yy,mm))"
      ],
      "metadata": {
        "colab": {
          "base_uri": "https://localhost:8080/"
        },
        "id": "gHeehErD4Ph9",
        "outputId": "897927d7-9221-4a1c-af00-90d817b57d1d"
      },
      "execution_count": 9,
      "outputs": [
        {
          "output_type": "stream",
          "name": "stdout",
          "text": [
            "Enter year:2022\n",
            "Enter month:04\n",
            "     April 2022\n",
            "Mo Tu We Th Fr Sa Su\n",
            "             1  2  3\n",
            " 4  5  6  7  8  9 10\n",
            "11 12 13 14 15 16 17\n",
            "18 19 20 21 22 23 24\n",
            "25 26 27 28 29 30\n",
            "\n"
          ]
        }
      ]
    },
    {
      "cell_type": "markdown",
      "source": [
        "Question no 4.\tWrite a Python program to solve quadratic equation?"
      ],
      "metadata": {
        "id": "vNpbGhMn5Mce"
      }
    },
    {
      "cell_type": "code",
      "source": [
        "import cmath\n",
        "a=5\n",
        "b=8\n",
        "c=3\n",
        "d=(b**2)-(4*a*c)\n",
        "sol1=(-b-cmath.sqrt(d))/(2*a)\n",
        "sol2=(-b+cmath.sqrt(d))/(2*a)\n",
        "\n",
        "print(\"The solutions are {0} and {1}\".format(sol1,sol2))"
      ],
      "metadata": {
        "colab": {
          "base_uri": "https://localhost:8080/"
        },
        "id": "5sQuTM0v5lEO",
        "outputId": "83aa0964-398c-478e-ec41-33423801d7b6"
      },
      "execution_count": 12,
      "outputs": [
        {
          "output_type": "stream",
          "name": "stdout",
          "text": [
            "The solutions are (-1+0j) and (-0.6+0j)\n"
          ]
        }
      ]
    },
    {
      "cell_type": "markdown",
      "source": [
        "Question no 5.\tWrite a Python program to swap two variables without temp variable?"
      ],
      "metadata": {
        "id": "iLt1WyRB6le9"
      }
    },
    {
      "cell_type": "code",
      "source": [
        "x=10\n",
        "y=15\n",
        "print(\"before swapping:\")\n",
        "print(\"value of x: \",x,\"and y : \",y)\n",
        "x=x+y\n",
        "y=x-y\n",
        "x=x-y\n",
        "print(\"after swapping:\")\n",
        "print(\"value of x: \",x,\"and y: \",y)"
      ],
      "metadata": {
        "colab": {
          "base_uri": "https://localhost:8080/"
        },
        "id": "ckZHPc7x6sy2",
        "outputId": "3df1ab83-c13c-4b01-94c3-e2f91e876ae6"
      },
      "execution_count": 15,
      "outputs": [
        {
          "output_type": "stream",
          "name": "stdout",
          "text": [
            "before swapping:\n",
            "value of x:  10 and y :  15\n",
            "after swapping:\n",
            "value of x:  15 and y:  10\n"
          ]
        }
      ]
    }
  ]
}