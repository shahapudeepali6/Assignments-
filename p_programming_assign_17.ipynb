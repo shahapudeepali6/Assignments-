{
  "nbformat": 4,
  "nbformat_minor": 0,
  "metadata": {
    "colab": {
      "provenance": []
    },
    "kernelspec": {
      "name": "python3",
      "display_name": "Python 3"
    },
    "language_info": {
      "name": "python"
    }
  },
  "cells": [
    {
      "cell_type": "markdown",
      "source": [
        "Question1. Create a function that takes three arguments a, b, c and returns the sum of the numbers that are evenly divided by c from the range a, b inclusive.\n",
        "Examples\n",
        "evenly_divisible(1, 10, 20) ➞ 0\n",
        "# No number between 1 and 10 can be evenly divided by 20.\n",
        "\n",
        "evenly_divisible(1, 10, 2) ➞ 30\n",
        "# 2 + 4 + 6 + 8 + 10 = 30\n",
        "\n",
        "evenly_divisible(1, 10, 3) ➞ 18\n",
        "# 3 + 6 + 9 = 18\n"
      ],
      "metadata": {
        "id": "Y8gjfRYRWzM3"
      }
    },
    {
      "cell_type": "code",
      "source": [
        "def evenDivisible(a,b,c):\n",
        "    divList = []\n",
        "    for num in range(a,b+1):\n",
        "        if num%c == 0:\n",
        "            divList.append(num)\n",
        "    print(f'{a,b,c} ➞ {sum(divList)}')\n",
        "\n",
        "evenDivisible(1,10,20)\n",
        "evenDivisible(1,10,2)\n",
        "evenDivisible(1,10,3)"
      ],
      "metadata": {
        "colab": {
          "base_uri": "https://localhost:8080/"
        },
        "id": "qaq6_HrdXBmT",
        "outputId": "0ec76e72-91b0-4a75-bb6a-e8e71a950c35"
      },
      "execution_count": 1,
      "outputs": [
        {
          "output_type": "stream",
          "name": "stdout",
          "text": [
            "(1, 10, 20) ➞ 0\n",
            "(1, 10, 2) ➞ 30\n",
            "(1, 10, 3) ➞ 18\n"
          ]
        }
      ]
    },
    {
      "cell_type": "markdown",
      "source": [
        "Question2.Create a function that returns True if a given inequality expression is correct and False otherwise.\n",
        "Examples\n",
        "correct_signs(\"3 < 7 < 11\") ➞ True\n",
        "\n",
        "correct_signs(\"13 > 44 > 33 > 1\") ➞ False\n",
        "\n",
        "correct_signs(\"1 < 2 < 6 < 9 > 3\") ➞ True\n"
      ],
      "metadata": {
        "id": "AH0xGan5W-Lt"
      }
    },
    {
      "cell_type": "code",
      "source": [
        "def checkEquality():\n",
        "    in_string = input('Enter the inequality: ')\n",
        "    out_bool = eval(in_string)\n",
        "    print(f'{in_string} ➞ {out_bool}')\n",
        "\n",
        "for x in range(3):\n",
        "    checkEquality()"
      ],
      "metadata": {
        "colab": {
          "base_uri": "https://localhost:8080/"
        },
        "id": "CX-lB7_NXCIa",
        "outputId": "5a695887-e847-43ab-8a6b-f81087aabbe1"
      },
      "execution_count": 3,
      "outputs": [
        {
          "output_type": "stream",
          "name": "stdout",
          "text": [
            "Enter the inequality: 3<7<11\n",
            "3<7<11 ➞ True\n",
            "Enter the inequality: 13>44>33>1\n",
            "13>44>33>1 ➞ False\n",
            "Enter the inequality: 1<2<6<9<3\n",
            "1<2<6<9<3 ➞ False\n"
          ]
        }
      ]
    },
    {
      "cell_type": "markdown",
      "source": [
        "Question3.Create a function that replaces all the vowels in a string with a specified character.\n",
        "Examples\n",
        "replace_vowels(\"the aardvark\", \"#\") ➞ \"th# ##rdv#rk\"\n",
        "\n",
        "replace_vowels(\"minnie mouse\", \"?\") ➞ \"m?nn?? m??s?\"\n",
        "\n",
        "replace_vowels(\"shakespeare\", \"*\") ➞ \"sh*k*sp**r*\"\n"
      ],
      "metadata": {
        "id": "wiGz4TVTXCX3"
      }
    },
    {
      "cell_type": "code",
      "source": [
        "def replaceVowels():\n",
        "    vowels = ['a','e','i','o','u','A','E','I','O','U']\n",
        "    in_string = input(\"String: \")\n",
        "    in_string_copy = in_string\n",
        "    in_char = input('Replacement character: ')\n",
        "    for ele in in_string:\n",
        "        if ele in vowels:\n",
        "            in_string = in_string.replace(ele,in_char)\n",
        "    print(f'{in_string_copy} {in_char} ➞ {in_string}')\n",
        "\n",
        "for x in range(3):\n",
        "    replaceVowels()"
      ],
      "metadata": {
        "colab": {
          "base_uri": "https://localhost:8080/"
        },
        "id": "4yJ6c_kEXF1C",
        "outputId": "5ae28e54-a559-43d4-ad3f-3ef3f86efdda"
      },
      "execution_count": 6,
      "outputs": [
        {
          "output_type": "stream",
          "name": "stdout",
          "text": [
            "String: aardvark\n",
            "Replacement character: #\n",
            "aardvark # ➞ ##rdv#rk\n",
            "String: minnie mouse\n",
            "Replacement character: ?\n",
            "minnie mouse ? ➞ m?nn?? m??s?\n",
            "String: shakespeare\n",
            "Replacement character: *\n",
            "shakespeare * ➞ sh*k*sp**r*\n"
          ]
        }
      ]
    },
    {
      "cell_type": "markdown",
      "source": [
        "Question4.Write a function that calculates the factorial of a number recursively.\n",
        "Examples\n",
        "factorial(5) ➞ 120\n",
        "\n",
        "factorial(3) ➞ 6\n",
        "\n",
        "factorial(1) ➞ 1\n",
        "\n",
        "factorial(0) ➞ 1\n"
      ],
      "metadata": {
        "id": "ZiPOaMRRXGDA"
      }
    },
    {
      "cell_type": "code",
      "source": [
        "def factorial(n):\n",
        "    if n==0:\n",
        "        return 1\n",
        "    return n * factorial(n-1)\n",
        "\n",
        "print(f'factorial(5) ➞ {factorial(5)}')\n",
        "print(f'factorial(3) ➞ {factorial(3)}')\n",
        "print(f'factorial(1) ➞ {factorial(1)}')\n",
        "print(f'factorial(0) ➞ {factorial(0)}')\n"
      ],
      "metadata": {
        "colab": {
          "base_uri": "https://localhost:8080/"
        },
        "id": "Reg1ZN0cXIyt",
        "outputId": "df09fb33-52f6-4f1e-e67d-5259c1fb795e"
      },
      "execution_count": 7,
      "outputs": [
        {
          "output_type": "stream",
          "name": "stdout",
          "text": [
            "factorial(5) ➞ 120\n",
            "factorial(3) ➞ 6\n",
            "factorial(1) ➞ 1\n",
            "factorial(0) ➞ 1\n"
          ]
        }
      ]
    },
    {
      "cell_type": "markdown",
      "source": [
        "Question 5\n",
        "Hamming distance is the number of characters that differ between two strings.\n",
        "To illustrate:\n",
        "String1: \"abcbba\"\n",
        "String2: \"abcbda\"\n",
        "\n",
        "Hamming Distance: 1 - \"b\" vs. \"d\" is the only difference.\n",
        "Create a function that computes the hamming distance between two strings.\n",
        "Examples\n",
        "hamming_distance(\"abcde\", \"bcdef\") ➞ 5\n",
        "\n",
        "hamming_distance(\"abcde\", \"abcde\") ➞ 0\n",
        "\n",
        "hamming_distance(\"strong\", \"strung\") ➞ 1\n"
      ],
      "metadata": {
        "id": "bCaPC6XaXI_u"
      }
    },
    {
      "cell_type": "code",
      "source": [
        "def genHamDistance():\n",
        "    in_string_1 = input('Enter the String_1: ')\n",
        "    in_string_2 = input('Enter the String_2: ')\n",
        "    if len(in_string_1) == len(in_string_2):\n",
        "        count = 0\n",
        "        for i in range(len(in_string_1)):\n",
        "            if in_string_1[i] != in_string_2[i]:\n",
        "                count = count+1\n",
        "        print(f'Hamning Distance b/w {in_string_1} and {in_string_2} ➞ {count}')\n",
        "    else:\n",
        "        print('Both Strings Must be of Same Length')\n",
        "\n",
        "for x in range(3):\n",
        "    genHamDistance()"
      ],
      "metadata": {
        "colab": {
          "base_uri": "https://localhost:8080/"
        },
        "id": "X2qZIxYiXMLY",
        "outputId": "1446aaea-1be9-475d-831b-9f0800952ea4"
      },
      "execution_count": 8,
      "outputs": [
        {
          "output_type": "stream",
          "name": "stdout",
          "text": [
            "Enter the String_1: abcde\n",
            "Enter the String_2: bcdef\n",
            "Hamning Distance b/w abcde and bcdef ➞ 5\n",
            "Enter the String_1: abcde\n",
            "Enter the String_2: abcde\n",
            "Hamning Distance b/w abcde and abcde ➞ 0\n",
            "Enter the String_1: strong\n",
            "Enter the String_2: strung\n",
            "Hamning Distance b/w strong and strung ➞ 1\n"
          ]
        }
      ]
    }
  ]
}