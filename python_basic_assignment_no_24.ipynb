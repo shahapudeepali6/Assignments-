{
  "nbformat": 4,
  "nbformat_minor": 0,
  "metadata": {
    "colab": {
      "provenance": []
    },
    "kernelspec": {
      "name": "python3",
      "display_name": "Python 3"
    },
    "language_info": {
      "name": "python"
    }
  },
  "cells": [
    {
      "cell_type": "markdown",
      "source": [
        "Question no.1. What is the relationship between def statements and lambda expressions ?"
      ],
      "metadata": {
        "id": "prwCYCPRCwGZ"
      }
    },
    {
      "cell_type": "markdown",
      "source": [
        "Ans: def statement is used to create a normal function whereas lambda expressions are used to create Anonymous functionswhich can be assigned to a variable and can be called using the variable later in function.\n",
        "\n",
        "Lambda's body is a single expression and not a block of statements like def statement. The lambda expression's body is similar to what we wouldd put in a def body's return statement. We simply type the result as an expression instead of explicitly returning it. Because it is limited to an expression, a lambda is less general than a def statement.\n",
        "\n",
        "Example of Lambda Function is shown below:"
      ],
      "metadata": {
        "id": "bNHJbOs3IBds"
      }
    },
    {
      "cell_type": "code",
      "source": [
        "x = lambda a, b, c : a + b + c\n",
        "print(x(5, 6, 2))"
      ],
      "metadata": {
        "colab": {
          "base_uri": "https://localhost:8080/"
        },
        "id": "vti3LpgLIF0f",
        "outputId": "16e9c649-1cb6-4002-ab04-47cc4f34f438"
      },
      "execution_count": 3,
      "outputs": [
        {
          "output_type": "stream",
          "name": "stdout",
          "text": [
            "13\n"
          ]
        }
      ]
    },
    {
      "cell_type": "markdown",
      "source": [
        "Question no.2. What is the benefit of lambda?"
      ],
      "metadata": {
        "id": "oSSC9y3UC4H7"
      }
    },
    {
      "cell_type": "markdown",
      "source": [
        "2. What is the benefit of lambda?\n",
        "Ans: The following are some of the benefits of lambda expressions:\n",
        "\n",
        "1.It can be used to create Nameless/Anonymous functions inside some complex functions if we are planning to use it only once.\n",
        "2.Moderate to small functions can be created in a single line\n",
        "3.Fuctions created using lambda expressions can be assigned to a variable and can be used by simply calling the variable"
      ],
      "metadata": {
        "id": "zVGxq69lGeO7"
      }
    },
    {
      "cell_type": "markdown",
      "source": [
        "Question no.3. Compare and contrast map, filter, and reduce."
      ],
      "metadata": {
        "id": "Y0gCHSS3C4tO"
      }
    },
    {
      "cell_type": "markdown",
      "source": [
        "Ans: The differences between map, filter and reduce are:\n",
        "\n",
        "1.map(): The map() function is a type of higher-order. This function takes another function as a parameter\n",
        "along with a sequence of iterables and returns an output after applying the function to each iterable present in the sequence. 2. filter(): The filter() function is used to create an output list consisting of values for which the function returns true. 3. reduce(): The reduce() function, as the name describes, applies a given function to the iterables and returns a single value"
      ],
      "metadata": {
        "id": "26WjEVA8GkfO"
      }
    },
    {
      "cell_type": "code",
      "source": [
        "from functools import reduce\n",
        "# map function\n",
        "print('Map ->',list(map(lambda x:x+x, [1,2,3,8])))\n",
        "# fitler function\n",
        "print('Filter ->',list(filter(lambda x:x%2 !=0, [1,2,3,9])))\n",
        "# reduce function\n",
        "print('Reduce ->',reduce(lambda x,y:x+y, [1,2,3,4,5,7]))"
      ],
      "metadata": {
        "colab": {
          "base_uri": "https://localhost:8080/"
        },
        "id": "HldVogCrGw83",
        "outputId": "609ae3cd-69ef-464f-d4ff-83835a4bd62e"
      },
      "execution_count": 1,
      "outputs": [
        {
          "output_type": "stream",
          "name": "stdout",
          "text": [
            "Map -> [2, 4, 6, 16]\n",
            "Filter -> [1, 3, 9]\n",
            "Reduce -> 22\n"
          ]
        }
      ]
    },
    {
      "cell_type": "markdown",
      "source": [
        "Question no.4. What are function annotations, and how are they used?"
      ],
      "metadata": {
        "id": "TkY1eowDC5Q3"
      }
    },
    {
      "cell_type": "markdown",
      "source": [
        "Ans: Function annotations provide a way of associating various parts of a function with arbitrary python expressions at compile time.\n",
        "Annotations of simple parameters def func(x: expression, y: expression = 20):\n",
        "Whereas the annotations for excess parameters are as − def func (**args: expression, **kwargs: expression):\n",
        "\n",
        "Purpose of Function Annotations:\n",
        "\n",
        "1.Python supports dynamic typing and hence no module is provided for type checking.\n",
        "2.String based annotations can be used by the libraries to provide better help messages at compile time regarding the functionalities of various methods, classes and modules.\n",
        "\n",
        "Example of Annotations:\n",
        "\n",
        "1.Annotations for simple parameters : def foo(a: expression, b: expression = 5):\n",
        "2.Annotations for excess parameters : def foo(args: expression, kwargs: expression):\n",
        "3.Annotations for nested parameters : def foo((a: expression, b: expression), (c: expression, d: expression)):"
      ],
      "metadata": {
        "id": "7ov_oGK9HGui"
      }
    },
    {
      "cell_type": "markdown",
      "source": [
        "Question no.5. What are recursive functions, and how are they used?"
      ],
      "metadata": {
        "id": "_wRD2mpxC5xl"
      }
    },
    {
      "cell_type": "markdown",
      "source": [
        "Ans: A recursive function is a function that calls itself during its execution. The process may repeat several times, outputting the result and the end of each iteration. An example is mentioned below:"
      ],
      "metadata": {
        "id": "N4e3qQDcHVjH"
      }
    },
    {
      "cell_type": "code",
      "source": [
        "def tri_recursion(k):\n",
        "  if(k>0):\n",
        "    result = k+tri_recursion(k-1)\n",
        "    print(result)\n",
        "  else:\n",
        "    result = 0\n",
        "  return result\n",
        "\n",
        "print(\"\\n\\nRecursion Example Results\")\n",
        "tri_recursion(9)"
      ],
      "metadata": {
        "colab": {
          "base_uri": "https://localhost:8080/"
        },
        "id": "Tn3hPGj3HYI3",
        "outputId": "1399ce45-fa3e-4742-e65e-f8974fdcfed1"
      },
      "execution_count": 2,
      "outputs": [
        {
          "output_type": "stream",
          "name": "stdout",
          "text": [
            "\n",
            "\n",
            "Recursion Example Results\n",
            "1\n",
            "3\n",
            "6\n",
            "10\n",
            "15\n",
            "21\n",
            "28\n",
            "36\n",
            "45\n"
          ]
        },
        {
          "output_type": "execute_result",
          "data": {
            "text/plain": [
              "45"
            ]
          },
          "metadata": {},
          "execution_count": 2
        }
      ]
    },
    {
      "cell_type": "markdown",
      "source": [
        "Question no.6. What are some general design guidelines for coding functions?"
      ],
      "metadata": {
        "id": "Ekuv-UhuC6M_"
      }
    },
    {
      "cell_type": "markdown",
      "source": [
        "\n",
        "Ans: Some of the general design guidelines for coding functions are:\n",
        "\n",
        "1.Always use a docstring to explain the functionality of the function\n",
        "2.Avoid using or limit use of global variables\n",
        "3.Proper Indentation to increase the code readability\n",
        "4.Try to follow a proper naming convention for function names (pascalCase or camelCase) and stick with the same convention throughout the application.\n",
        "5.Avoid using digits while choosing a variable name\n",
        "6.Try to use a name for the function which conveys the purpose of the function\n",
        "7.Local variables should be named using camelCase format (ex: localVariable) whereas Global variables names should be using PascalCase (ex:GlobalVariable).\n",
        "8.Constant should be represented in allcaps (ex:CONSTANT)."
      ],
      "metadata": {
        "id": "zE6ZuuxFHlif"
      }
    },
    {
      "cell_type": "markdown",
      "source": [
        "Question no.7. Name three or more ways that functions can communicate results to a caller."
      ],
      "metadata": {
        "id": "WGWuH6EqC6qt"
      }
    },
    {
      "cell_type": "markdown",
      "source": [
        "Ans: Some of the ways in which a function can communicate with the calling function is:\n",
        "\n",
        "1.print\n",
        "2.return\n",
        "3yield"
      ],
      "metadata": {
        "id": "gZmvM758Hhez"
      }
    }
  ]
}