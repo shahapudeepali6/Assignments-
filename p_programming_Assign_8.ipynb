{
  "nbformat": 4,
  "nbformat_minor": 0,
  "metadata": {
    "colab": {
      "provenance": []
    },
    "kernelspec": {
      "name": "python3",
      "display_name": "Python 3"
    },
    "language_info": {
      "name": "python"
    }
  },
  "cells": [
    {
      "cell_type": "markdown",
      "source": [
        "Question no.1.\tWrite a Python Program to Add Two Matrices?"
      ],
      "metadata": {
        "id": "xt_CJXmvkAdi"
      }
    },
    {
      "cell_type": "code",
      "source": [
        "def addMatrices(a,b):\n",
        "    print(f'Inputs: {a},{b}')\n",
        "    if len(a) == len(b):\n",
        "        out_matrix = []\n",
        "        for ele in range(len(a)):\n",
        "            if len(a[ele]) == len(b[ele]):\n",
        "                out_matrix.append([])\n",
        "                for sub_ele in range(len(a[ele])):\n",
        "                    out_matrix[ele].append(a[ele][sub_ele]+b[ele][sub_ele])\n",
        "            else:\n",
        "                print('Both Matrices must contains same no of rows and columns')\n",
        "    else:\n",
        "        print('Both Matrices must contains same no of rows and columns')\n",
        "    print(f'Output: {out_matrix}')\n",
        "\n",
        "addMatrices([[1,2,3],[4,5,6],[7,8,9]],[[10,11,12],[13,14,15],[16,17,18]])\n",
        "addMatrices([[2,3,5],[1,1,1],[2,2,2]],[[4,3,5],[1,2,3],[3,2,1]])"
      ],
      "metadata": {
        "colab": {
          "base_uri": "https://localhost:8080/"
        },
        "id": "s3KY16xLkm0D",
        "outputId": "fbf454ef-8eeb-468d-9fe3-25aeacf62cdd"
      },
      "execution_count": 1,
      "outputs": [
        {
          "output_type": "stream",
          "name": "stdout",
          "text": [
            "Inputs: [[1, 2, 3], [4, 5, 6], [7, 8, 9]],[[10, 11, 12], [13, 14, 15], [16, 17, 18]]\n",
            "Output: [[11, 13, 15], [17, 19, 21], [23, 25, 27]]\n",
            "Inputs: [[2, 3, 5], [1, 1, 1], [2, 2, 2]],[[4, 3, 5], [1, 2, 3], [3, 2, 1]]\n",
            "Output: [[6, 6, 10], [2, 3, 4], [5, 4, 3]]\n"
          ]
        }
      ]
    },
    {
      "cell_type": "markdown",
      "source": [
        "Question no.2.\tWrite a Python Program to Multiply Two Matrices?"
      ],
      "metadata": {
        "id": "Xt-WWSNgkFla"
      }
    },
    {
      "cell_type": "code",
      "source": [
        "a = [[9,4,3],[1,2,3],[3,3,3]]\n",
        "b = [[12,13,11],[2,4,7],[6,7,8]]\n",
        "\n",
        "def multiply_matrice(a,b):\n",
        "    output = []\n",
        "    if len(a[0]) == len(b):\n",
        "        for ele in range(len(a[0])):\n",
        "            output.append([0 for ele in range(len(b[0]))])\n",
        "        for i in range(len(a)):\n",
        "            for j in range(len(b[0])):\n",
        "                for k in range(len(b)):\n",
        "                    output[i][j] += a[i][k]*b[k][j]\n",
        "        print(output)\n",
        "    else:\n",
        "        print('Matrix Multiplication is Not Possible')\n",
        "\n",
        "multiply_matrice(a,b)"
      ],
      "metadata": {
        "colab": {
          "base_uri": "https://localhost:8080/"
        },
        "id": "nO3bJ2gVknce",
        "outputId": "9ad08422-08a5-4663-aad0-fa3c8605bf4b"
      },
      "execution_count": 6,
      "outputs": [
        {
          "output_type": "stream",
          "name": "stdout",
          "text": [
            "[[134, 154, 151], [34, 42, 49], [60, 72, 78]]\n"
          ]
        }
      ]
    },
    {
      "cell_type": "markdown",
      "source": [
        "Question no.3.\tWrite a Python Program to Transpose a Matrix?"
      ],
      "metadata": {
        "id": "AMkvlfWIkGRh"
      }
    },
    {
      "cell_type": "code",
      "source": [
        "a = [[1,2,3],[1,2,3],[1,2,3]]\n",
        "b = [[3,4],[8,9],[1,2]]\n",
        "c = [[2,7,8],[2,2,4]]\n",
        "\n",
        "def generate_transpose(in_matrix):\n",
        "    out_matrix = []\n",
        "    for ele in range(len(in_matrix[0])):\n",
        "        out_matrix.append([0 for i in range(len(in_matrix))])\n",
        "    for i in range(len(in_matrix)):\n",
        "        for j in range(len(in_matrix[i])):\n",
        "            out_matrix[j][i] = in_matrix[i][j]\n",
        "    print(f'{in_matrix} -> {out_matrix}')\n",
        "\n",
        "generate_transpose(a)\n",
        "generate_transpose(b)\n",
        "generate_transpose(c)"
      ],
      "metadata": {
        "colab": {
          "base_uri": "https://localhost:8080/"
        },
        "id": "ibddw54AkoC5",
        "outputId": "70ac4b86-82b6-4a0c-e9ac-0163b22ecfe9"
      },
      "execution_count": 7,
      "outputs": [
        {
          "output_type": "stream",
          "name": "stdout",
          "text": [
            "[[1, 2, 3], [1, 2, 3], [1, 2, 3]] -> [[1, 1, 1], [2, 2, 2], [3, 3, 3]]\n",
            "[[3, 4], [8, 9], [1, 2]] -> [[3, 8, 1], [4, 9, 2]]\n",
            "[[2, 7, 8], [2, 2, 4]] -> [[2, 2], [7, 2], [8, 4]]\n"
          ]
        }
      ]
    },
    {
      "cell_type": "markdown",
      "source": [
        "Question no.4.\tWrite a Python Program to Sort Words in Alphabetic Order?"
      ],
      "metadata": {
        "id": "iA-6EMh3kG4H"
      }
    },
    {
      "cell_type": "code",
      "source": [
        "def sortString():\n",
        "    in_string = input(\"Enter a String: \").title()\n",
        "    sorted_list = sorted(in_string.split(' '))\n",
        "    print(' '.join(sorted_list))\n",
        "\n",
        "sortString()"
      ],
      "metadata": {
        "colab": {
          "base_uri": "https://localhost:8080/"
        },
        "id": "QAnXPN83koyp",
        "outputId": "f9b3515d-81e4-4d68-f4f0-18928b927cb9"
      },
      "execution_count": 4,
      "outputs": [
        {
          "output_type": "stream",
          "name": "stdout",
          "text": [
            "Enter a String: Deepa shahapure\n",
            "Deepa Shahapure\n"
          ]
        }
      ]
    },
    {
      "cell_type": "markdown",
      "source": [
        "Question no.5.\tWrite a Python Program to Remove Punctuation From a String?"
      ],
      "metadata": {
        "id": "DuWxs4stkHTu"
      }
    },
    {
      "cell_type": "code",
      "source": [
        "punctuations = '''!()-[]{};:'\"\\,<>./?@#$%^&*_~'''\n",
        "my_str = input(\"Enter a string with punctuations :\\n \")\n",
        "print(\"\\nEntered string is :\\n \",my_str)\n",
        "no_punct = \"\"\n",
        "for char in my_str:\n",
        "    if char not in punctuations:\n",
        "        no_punct = no_punct + char\n",
        "print(\"\\nAfter removing punctuations, the string is : \\n\",no_punct)"
      ],
      "metadata": {
        "colab": {
          "base_uri": "https://localhost:8080/"
        },
        "id": "znpKdeYtkpda",
        "outputId": "007b292b-03a9-473e-ac0c-8e9124dbd985"
      },
      "execution_count": 5,
      "outputs": [
        {
          "output_type": "stream",
          "name": "stdout",
          "text": [
            "Enter a string with punctuations :\n",
            " can apple is blue?\n",
            "\n",
            "Entered string is :\n",
            "  can apple is blue?\n",
            "\n",
            "After removing punctuations, the string is : \n",
            " can apple is blue\n"
          ]
        }
      ]
    }
  ]
}