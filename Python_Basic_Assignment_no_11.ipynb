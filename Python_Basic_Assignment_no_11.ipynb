{
  "nbformat": 4,
  "nbformat_minor": 0,
  "metadata": {
    "colab": {
      "provenance": []
    },
    "kernelspec": {
      "name": "python3",
      "display_name": "Python 3"
    },
    "language_info": {
      "name": "python"
    }
  },
  "cells": [
    {
      "cell_type": "markdown",
      "source": [
        "Question no.1=1. Create an assert statement that throws an AssertionError if the variable spam is a negative integer."
      ],
      "metadata": {
        "id": "QSwjAc7OLu5d"
      }
    },
    {
      "cell_type": "code",
      "source": [
        "spam=-33\n",
        "assert spam>=0, \"variable spam should not be a negative number\""
      ],
      "metadata": {
        "colab": {
          "base_uri": "https://localhost:8080/",
          "height": 183
        },
        "id": "CW6Nj19xMkmj",
        "outputId": "4ffab3b5-d602-4788-9c5f-730e3df763da"
      },
      "execution_count": null,
      "outputs": [
        {
          "output_type": "error",
          "ename": "AssertionError",
          "evalue": "ignored",
          "traceback": [
            "\u001b[0;31m---------------------------------------------------------------------------\u001b[0m",
            "\u001b[0;31mAssertionError\u001b[0m                            Traceback (most recent call last)",
            "\u001b[0;32m<ipython-input-4-1db527cc4026>\u001b[0m in \u001b[0;36m<cell line: 2>\u001b[0;34m()\u001b[0m\n\u001b[1;32m      1\u001b[0m \u001b[0mspam\u001b[0m\u001b[0;34m=\u001b[0m\u001b[0;34m-\u001b[0m\u001b[0;36m33\u001b[0m\u001b[0;34m\u001b[0m\u001b[0;34m\u001b[0m\u001b[0m\n\u001b[0;32m----> 2\u001b[0;31m \u001b[0;32massert\u001b[0m \u001b[0mspam\u001b[0m\u001b[0;34m>=\u001b[0m\u001b[0;36m0\u001b[0m\u001b[0;34m,\u001b[0m \u001b[0;34m\"variable spam should not be a negative number\"\u001b[0m\u001b[0;34m\u001b[0m\u001b[0;34m\u001b[0m\u001b[0m\n\u001b[0m",
            "\u001b[0;31mAssertionError\u001b[0m: variable spam should not be a negative number"
          ]
        }
      ]
    },
    {
      "cell_type": "markdown",
      "source": [
        "Question no.2=Write an assert statement that triggers an AssertionError if the variables eggs and bacon contain strings that are the same as each other, even if their cases are different (that is, 'hello' and 'hello' are considered the same, and 'goodbye' and 'GOODbye' are also considered the same)."
      ],
      "metadata": {
        "id": "xN9siT7QN09L"
      }
    },
    {
      "cell_type": "code",
      "source": [
        "def raise_assert(egg,bacon):\n",
        "    egg = egg.upper()\n",
        "    bacon = bacon.upper()\n",
        "    assert not(egg == bacon), 'Eggs/Bacon should not be same, which are same now'"
      ],
      "metadata": {
        "id": "ScgTV-WRN79-"
      },
      "execution_count": null,
      "outputs": []
    },
    {
      "cell_type": "code",
      "source": [
        "raise_assert('hello','HELLO')"
      ],
      "metadata": {
        "colab": {
          "base_uri": "https://localhost:8080/",
          "height": 252
        },
        "id": "2stqdRRiOYLZ",
        "outputId": "cca958b3-581e-49c3-bf36-63091a955727"
      },
      "execution_count": null,
      "outputs": [
        {
          "output_type": "error",
          "ename": "AssertionError",
          "evalue": "ignored",
          "traceback": [
            "\u001b[0;31m---------------------------------------------------------------------------\u001b[0m",
            "\u001b[0;31mAssertionError\u001b[0m                            Traceback (most recent call last)",
            "\u001b[0;32m<ipython-input-6-66993e9183bf>\u001b[0m in \u001b[0;36m<cell line: 1>\u001b[0;34m()\u001b[0m\n\u001b[0;32m----> 1\u001b[0;31m \u001b[0mraise_assert\u001b[0m\u001b[0;34m(\u001b[0m\u001b[0;34m'hello'\u001b[0m\u001b[0;34m,\u001b[0m\u001b[0;34m'HELLO'\u001b[0m\u001b[0;34m)\u001b[0m\u001b[0;34m\u001b[0m\u001b[0;34m\u001b[0m\u001b[0m\n\u001b[0m",
            "\u001b[0;32m<ipython-input-5-aeff50e9b554>\u001b[0m in \u001b[0;36mraise_assert\u001b[0;34m(egg, bacon)\u001b[0m\n\u001b[1;32m      2\u001b[0m     \u001b[0megg\u001b[0m \u001b[0;34m=\u001b[0m \u001b[0megg\u001b[0m\u001b[0;34m.\u001b[0m\u001b[0mupper\u001b[0m\u001b[0;34m(\u001b[0m\u001b[0;34m)\u001b[0m\u001b[0;34m\u001b[0m\u001b[0;34m\u001b[0m\u001b[0m\n\u001b[1;32m      3\u001b[0m     \u001b[0mbacon\u001b[0m \u001b[0;34m=\u001b[0m \u001b[0mbacon\u001b[0m\u001b[0;34m.\u001b[0m\u001b[0mupper\u001b[0m\u001b[0;34m(\u001b[0m\u001b[0;34m)\u001b[0m\u001b[0;34m\u001b[0m\u001b[0;34m\u001b[0m\u001b[0m\n\u001b[0;32m----> 4\u001b[0;31m     \u001b[0;32massert\u001b[0m \u001b[0;32mnot\u001b[0m\u001b[0;34m(\u001b[0m\u001b[0megg\u001b[0m \u001b[0;34m==\u001b[0m \u001b[0mbacon\u001b[0m\u001b[0;34m)\u001b[0m\u001b[0;34m,\u001b[0m \u001b[0;34m'Eggs/Bacon should not be same, which are same now'\u001b[0m\u001b[0;34m\u001b[0m\u001b[0;34m\u001b[0m\u001b[0m\n\u001b[0m",
            "\u001b[0;31mAssertionError\u001b[0m: Eggs/Bacon should not be same, which are same now"
          ]
        }
      ]
    },
    {
      "cell_type": "code",
      "source": [
        "raise_assert('goodbye','GOODbye')"
      ],
      "metadata": {
        "colab": {
          "base_uri": "https://localhost:8080/",
          "height": 252
        },
        "id": "OJ4kho6uOYRP",
        "outputId": "4d8f0376-11dc-4d2c-9200-56020db503e7"
      },
      "execution_count": null,
      "outputs": [
        {
          "output_type": "error",
          "ename": "AssertionError",
          "evalue": "ignored",
          "traceback": [
            "\u001b[0;31m---------------------------------------------------------------------------\u001b[0m",
            "\u001b[0;31mAssertionError\u001b[0m                            Traceback (most recent call last)",
            "\u001b[0;32m<ipython-input-7-5322ce220e06>\u001b[0m in \u001b[0;36m<cell line: 1>\u001b[0;34m()\u001b[0m\n\u001b[0;32m----> 1\u001b[0;31m \u001b[0mraise_assert\u001b[0m\u001b[0;34m(\u001b[0m\u001b[0;34m'goodbye'\u001b[0m\u001b[0;34m,\u001b[0m\u001b[0;34m'GOODbye'\u001b[0m\u001b[0;34m)\u001b[0m\u001b[0;34m\u001b[0m\u001b[0;34m\u001b[0m\u001b[0m\n\u001b[0m",
            "\u001b[0;32m<ipython-input-5-aeff50e9b554>\u001b[0m in \u001b[0;36mraise_assert\u001b[0;34m(egg, bacon)\u001b[0m\n\u001b[1;32m      2\u001b[0m     \u001b[0megg\u001b[0m \u001b[0;34m=\u001b[0m \u001b[0megg\u001b[0m\u001b[0;34m.\u001b[0m\u001b[0mupper\u001b[0m\u001b[0;34m(\u001b[0m\u001b[0;34m)\u001b[0m\u001b[0;34m\u001b[0m\u001b[0;34m\u001b[0m\u001b[0m\n\u001b[1;32m      3\u001b[0m     \u001b[0mbacon\u001b[0m \u001b[0;34m=\u001b[0m \u001b[0mbacon\u001b[0m\u001b[0;34m.\u001b[0m\u001b[0mupper\u001b[0m\u001b[0;34m(\u001b[0m\u001b[0;34m)\u001b[0m\u001b[0;34m\u001b[0m\u001b[0;34m\u001b[0m\u001b[0m\n\u001b[0;32m----> 4\u001b[0;31m     \u001b[0;32massert\u001b[0m \u001b[0;32mnot\u001b[0m\u001b[0;34m(\u001b[0m\u001b[0megg\u001b[0m \u001b[0;34m==\u001b[0m \u001b[0mbacon\u001b[0m\u001b[0;34m)\u001b[0m\u001b[0;34m,\u001b[0m \u001b[0;34m'Eggs/Bacon should not be same, which are same now'\u001b[0m\u001b[0;34m\u001b[0m\u001b[0;34m\u001b[0m\u001b[0m\n\u001b[0m",
            "\u001b[0;31mAssertionError\u001b[0m: Eggs/Bacon should not be same, which are same now"
          ]
        }
      ]
    },
    {
      "cell_type": "markdown",
      "source": [
        "Question no.3=Create an assert statement that throws an AssertionError every time."
      ],
      "metadata": {
        "id": "SUGpJVYIOlLi"
      }
    },
    {
      "cell_type": "code",
      "source": [
        "def assert_always():\n",
        "  assert False, \"always show assertion error\"\n",
        "assert_always()"
      ],
      "metadata": {
        "colab": {
          "base_uri": "https://localhost:8080/",
          "height": 287
        },
        "id": "3XP8ecgKOwn5",
        "outputId": "200cfbe9-cbc0-4b45-b9f1-49fb0737595f"
      },
      "execution_count": null,
      "outputs": [
        {
          "output_type": "error",
          "ename": "AssertionError",
          "evalue": "ignored",
          "traceback": [
            "\u001b[0;31m---------------------------------------------------------------------------\u001b[0m",
            "\u001b[0;31mAssertionError\u001b[0m                            Traceback (most recent call last)",
            "\u001b[0;32m<ipython-input-13-7beeb488936a>\u001b[0m in \u001b[0;36m<cell line: 3>\u001b[0;34m()\u001b[0m\n\u001b[1;32m      1\u001b[0m \u001b[0;32mdef\u001b[0m \u001b[0massert_always\u001b[0m\u001b[0;34m(\u001b[0m\u001b[0;34m)\u001b[0m\u001b[0;34m:\u001b[0m\u001b[0;34m\u001b[0m\u001b[0;34m\u001b[0m\u001b[0m\n\u001b[1;32m      2\u001b[0m   \u001b[0;32massert\u001b[0m \u001b[0;32mFalse\u001b[0m\u001b[0;34m,\u001b[0m \u001b[0;34m\"always show assertion error\"\u001b[0m\u001b[0;34m\u001b[0m\u001b[0;34m\u001b[0m\u001b[0m\n\u001b[0;32m----> 3\u001b[0;31m \u001b[0massert_always\u001b[0m\u001b[0;34m(\u001b[0m\u001b[0;34m)\u001b[0m\u001b[0;34m\u001b[0m\u001b[0;34m\u001b[0m\u001b[0m\n\u001b[0m",
            "\u001b[0;32m<ipython-input-13-7beeb488936a>\u001b[0m in \u001b[0;36massert_always\u001b[0;34m()\u001b[0m\n\u001b[1;32m      1\u001b[0m \u001b[0;32mdef\u001b[0m \u001b[0massert_always\u001b[0m\u001b[0;34m(\u001b[0m\u001b[0;34m)\u001b[0m\u001b[0;34m:\u001b[0m\u001b[0;34m\u001b[0m\u001b[0;34m\u001b[0m\u001b[0m\n\u001b[0;32m----> 2\u001b[0;31m   \u001b[0;32massert\u001b[0m \u001b[0;32mFalse\u001b[0m\u001b[0;34m,\u001b[0m \u001b[0;34m\"always show assertion error\"\u001b[0m\u001b[0;34m\u001b[0m\u001b[0;34m\u001b[0m\u001b[0m\n\u001b[0m\u001b[1;32m      3\u001b[0m \u001b[0massert_always\u001b[0m\u001b[0;34m(\u001b[0m\u001b[0;34m)\u001b[0m\u001b[0;34m\u001b[0m\u001b[0;34m\u001b[0m\u001b[0m\n",
            "\u001b[0;31mAssertionError\u001b[0m: always show assertion error"
          ]
        }
      ]
    },
    {
      "cell_type": "markdown",
      "source": [
        "Question no.4=What are the two lines that must be present in your software in order to call logging.debug()?"
      ],
      "metadata": {
        "id": "bMZFkG8CPf92"
      }
    },
    {
      "cell_type": "code",
      "source": [
        "import logging\n",
        "logging.basicConfig(filename = 'application_log.txt',level=logging.DEBUG, format=\"%(asctime)s - %(levelname)s - %(messages)s \")"
      ],
      "metadata": {
        "id": "8jN80IWxPoI0"
      },
      "execution_count": null,
      "outputs": []
    },
    {
      "cell_type": "markdown",
      "source": [
        "Question no.6=What are the five levels of logging?"
      ],
      "metadata": {
        "id": "Q6F4OA8dRX3J"
      }
    },
    {
      "cell_type": "markdown",
      "source": [
        "Answer= 1.DEBUG,2.INFO,3.WARNING,4.ERROR & 5.CRITICAL  these are five levels of logging"
      ],
      "metadata": {
        "id": "Lb0SbsXNRdk6"
      }
    },
    {
      "cell_type": "markdown",
      "source": [
        "Question no.7=What line of code would you add to your software to disable all logging messages?"
      ],
      "metadata": {
        "id": "9rQ9HhVTRyzE"
      }
    },
    {
      "cell_type": "code",
      "source": [
        "logging.disable=True"
      ],
      "metadata": {
        "id": "xyCMUmLdSBsT"
      },
      "execution_count": null,
      "outputs": []
    },
    {
      "cell_type": "markdown",
      "source": [
        "Question no.8=Why is using logging messages better than using print() to display the same message?"
      ],
      "metadata": {
        "id": "vpH57T4KSGHN"
      }
    },
    {
      "cell_type": "markdown",
      "source": [
        "Answer=Post devlopment of our code, we can disable logging messages without removing the logging function, whereas we need to manually remove print() statements, which would become a tedious activity. Also, print is used when we want to display any particular message or help whereas logging is used to record all events such as error, info, debug messages, timestamps."
      ],
      "metadata": {
        "id": "QzigN0LsSU6o"
      }
    },
    {
      "cell_type": "markdown",
      "source": [
        "Question no.9=What are the differences between the Step Over, Step In, and Step Out buttons in the debugger?"
      ],
      "metadata": {
        "id": "ttEFVZN6SW8R"
      }
    },
    {
      "cell_type": "markdown",
      "source": [
        "Answer=The Differences between Step Over, Step In, Step Out buttons in debugger are:\n",
        "\n",
        "1.Step in - Step In button will cause the debugger to execute the next line of code and then pause again.\n",
        "2.Step Over - Step Over button will execute the next line of code, similar to the Step In button. However, if the next line of code is a function call, the Step Over button will “step over” the code in the function. The function’s code will be executed at full speed, and the debugger will pause as soon as the function call returns.\n",
        "3.Step out - Step Out button will cause the debugger to execute lines of code at full speed until it returns from the current function."
      ],
      "metadata": {
        "id": "nGFgYcpmSfKW"
      }
    },
    {
      "cell_type": "markdown",
      "source": [
        "Question no.10=After you click Continue, when will the debugger stop ?"
      ],
      "metadata": {
        "id": "JDQcPIePSttY"
      }
    },
    {
      "cell_type": "markdown",
      "source": [
        "Answer=This will cause the program to continue running normally, without pausing for debugging untill it terminates or reaches a breakpoint."
      ],
      "metadata": {
        "id": "DfASLQIgS2bj"
      }
    },
    {
      "cell_type": "markdown",
      "source": [
        "Question no.11=What is the concept of a breakpoint?"
      ],
      "metadata": {
        "id": "dWLMkKLpS4iP"
      }
    },
    {
      "cell_type": "markdown",
      "source": [
        "Answer=Breakpoint is a setting on a line of code that causes the debugger to pause when the program execution reaches the line\n",
        "\n"
      ],
      "metadata": {
        "id": "LfRci5eyS90L"
      }
    }
  ]
}