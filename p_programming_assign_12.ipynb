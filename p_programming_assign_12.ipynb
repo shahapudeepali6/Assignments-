{
  "nbformat": 4,
  "nbformat_minor": 0,
  "metadata": {
    "colab": {
      "provenance": []
    },
    "kernelspec": {
      "name": "python3",
      "display_name": "Python 3"
    },
    "language_info": {
      "name": "python"
    }
  },
  "cells": [
    {
      "cell_type": "markdown",
      "source": [
        "Question no.1.\tWrite a Python program to Extract Unique values dictionary values?"
      ],
      "metadata": {
        "id": "hQsAD6vfbb2c"
      }
    },
    {
      "cell_type": "code",
      "source": [
        "test_dict={'gfg':[5,6,7,8],\n",
        "           'is':[10,11,7,8],\n",
        "           'best':[6,12,10,8],\n",
        "           'for':[1,3,2]}\n",
        "\n",
        "print(\"the original dictionary is : \"+ str(test_dict))\n",
        "\n",
        "res=list(sorted({ele for val in test_dict.values()for ele in val}))\n",
        "print(\"the unique values list is : \"+ str(res))"
      ],
      "metadata": {
        "colab": {
          "base_uri": "https://localhost:8080/"
        },
        "id": "kvZNSvV0b619",
        "outputId": "0b17361d-f1f5-47c8-e28c-35457c028656"
      },
      "execution_count": 2,
      "outputs": [
        {
          "output_type": "stream",
          "name": "stdout",
          "text": [
            "the original dictionary is : {'gfg': [5, 6, 7, 8], 'is': [10, 11, 7, 8], 'best': [6, 12, 10, 8], 'for': [1, 3, 2]}\n",
            "the unique values list is : [1, 2, 3, 5, 6, 7, 8, 10, 11, 12]\n"
          ]
        }
      ]
    },
    {
      "cell_type": "markdown",
      "source": [
        "Question no.2.\tWrite a Python program to find the sum of all items in a dictionary?"
      ],
      "metadata": {
        "id": "wjmJtJk_bfqU"
      }
    },
    {
      "cell_type": "code",
      "source": [
        "def returnsum(dict):\n",
        "  sum=0\n",
        "  for i in dict.values():\n",
        "    sum=sum+i\n",
        "\n",
        "  return sum\n",
        "\n",
        "dict={'a':100,'b':300,'c':190,'d':400}\n",
        "\n",
        "print(\"sum :\",returnsum(dict))"
      ],
      "metadata": {
        "colab": {
          "base_uri": "https://localhost:8080/"
        },
        "id": "flSUY1e9b7ml",
        "outputId": "f54fa4c2-bf03-456e-9c80-b3d8560da150"
      },
      "execution_count": 4,
      "outputs": [
        {
          "output_type": "stream",
          "name": "stdout",
          "text": [
            "sum : 990\n"
          ]
        }
      ]
    },
    {
      "cell_type": "markdown",
      "source": [
        "Question no.3.\tWrite a Python program to Merging two Dictionaries?"
      ],
      "metadata": {
        "id": "hj4Dp60Ibgtk"
      }
    },
    {
      "cell_type": "code",
      "source": [
        "def merging(dict1,dict2):\n",
        "  return (dict2.update(dict1))\n",
        "\n",
        "dict1={'a':1,'b':3,'c':6}\n",
        "dict2={'m':9,'n':8,'o':7}\n",
        "\n",
        "print(merging(dict1,dict2))\n",
        "\n",
        "print(dict2)\n"
      ],
      "metadata": {
        "colab": {
          "base_uri": "https://localhost:8080/"
        },
        "id": "8lQRhEhZxamm",
        "outputId": "df27d66b-a903-482c-d79a-f5e507d6ce63"
      },
      "execution_count": 5,
      "outputs": [
        {
          "output_type": "stream",
          "name": "stdout",
          "text": [
            "None\n",
            "{'m': 9, 'n': 8, 'o': 7, 'a': 1, 'b': 3, 'c': 6}\n"
          ]
        }
      ]
    },
    {
      "cell_type": "markdown",
      "source": [
        "Question no.4.\tWrite a Python program to convert key-values list to flat dictionary?"
      ],
      "metadata": {
        "id": "3lSjmDkkbhWu"
      }
    },
    {
      "cell_type": "code",
      "source": [
        "test_dict={'month':[1,2,3],\n",
        "            'name':['jan','feb','march']}\n",
        "\n",
        "print(\"the original dictionary is : \"+str(test_dict))\n",
        "\n",
        "x=list(test_dict.values())\n",
        "a=x[0]\n",
        "b=x[1]\n",
        "c=test_dict\n",
        "for i in range(0,len(a)):\n",
        "  c[a[i]]=b[i]\n",
        "print(\"flattened dictionary : \"+ str(c))"
      ],
      "metadata": {
        "colab": {
          "base_uri": "https://localhost:8080/"
        },
        "id": "R427s9zayjnH",
        "outputId": "a26ccd79-4dd7-41f9-db4b-0bb1aa2763fb"
      },
      "execution_count": 13,
      "outputs": [
        {
          "output_type": "stream",
          "name": "stdout",
          "text": [
            "the original dictionary is : {'month': [1, 2, 3], 'name': ['jan', 'feb', 'march']}\n",
            "flattened dictionary : {'month': [1, 2, 3], 'name': ['jan', 'feb', 'march'], 1: 'jan', 2: 'feb', 3: 'march'}\n"
          ]
        }
      ]
    },
    {
      "cell_type": "markdown",
      "source": [
        "Question no.5.\tWrite a Python program to insertion at the beginning in OrderedDict?"
      ],
      "metadata": {
        "id": "6HHigKm9bh-c"
      }
    },
    {
      "cell_type": "code",
      "source": [
        "from collections import OrderedDict\n",
        "\n",
        "dict1=OrderedDict([('veera',\"1\"),('maya','2')])\n",
        "dict2=OrderedDict([('nikhil','8'),('vansh','9')])\n",
        "\n",
        "both=OrderedDict(list(dict2.items())+list(dict1.items()))\n",
        "\n",
        "print(\"resultant dictionary : \"+ str(both))\n"
      ],
      "metadata": {
        "colab": {
          "base_uri": "https://localhost:8080/"
        },
        "id": "Xr9bawP30s3K",
        "outputId": "0952c49f-3e8f-4933-d36e-da0c3f7a91a6"
      },
      "execution_count": 14,
      "outputs": [
        {
          "output_type": "stream",
          "name": "stdout",
          "text": [
            "resultant dictionary : OrderedDict([('nikhil', '8'), ('vansh', '9'), ('veera', '1'), ('maya', '2')])\n"
          ]
        }
      ]
    },
    {
      "cell_type": "markdown",
      "source": [
        "Question no.6.\tWrite a Python program to check order of character in string using OrderedDict()?"
      ],
      "metadata": {
        "id": "e6Kc-1X8bifZ"
      }
    },
    {
      "cell_type": "code",
      "source": [
        "def check_order(string, pattern):\n",
        "    i, j = 0, 0\n",
        "    for char in string:\n",
        "        if char == pattern[j]:\n",
        "            j += 1\n",
        "        if j == len(pattern):\n",
        "            return True\n",
        "        i += 1\n",
        "\n",
        "    return False\n",
        "string = 'engineers rock'\n",
        "pattern = 'er'\n",
        "print(check_order(string, pattern))"
      ],
      "metadata": {
        "colab": {
          "base_uri": "https://localhost:8080/"
        },
        "id": "3Wp96eHT2HO4",
        "outputId": "40d25fa9-30c6-4cd5-ed02-b0a6c02b459f"
      },
      "execution_count": 15,
      "outputs": [
        {
          "output_type": "stream",
          "name": "stdout",
          "text": [
            "True\n"
          ]
        }
      ]
    },
    {
      "cell_type": "markdown",
      "source": [
        "Question no.7.\tWrite a Python program to sort Python Dictionaries by Key or Value?"
      ],
      "metadata": {
        "id": "piq344vgbjJp"
      }
    },
    {
      "cell_type": "code",
      "source": [
        "myDict = {'ankit': 10, 'krishna': 9,\n",
        "        'sanjeevani': 15, 'piyush': 2, 'yashraj': 32}\n",
        "\n",
        "myKeys = list(myDict.keys())\n",
        "myKeys.sort()\n",
        "sorted_dict = {i: myDict[i] for i in myKeys}\n",
        "\n",
        "print(sorted_dict)"
      ],
      "metadata": {
        "colab": {
          "base_uri": "https://localhost:8080/"
        },
        "id": "tU9K2p382sBg",
        "outputId": "3a9b7df4-d593-4004-8656-33a31a19ca14"
      },
      "execution_count": 17,
      "outputs": [
        {
          "output_type": "stream",
          "name": "stdout",
          "text": [
            "{'ankit': 10, 'krishna': 9, 'piyush': 2, 'sanjeevani': 15, 'yashraj': 32}\n"
          ]
        }
      ]
    }
  ]
}