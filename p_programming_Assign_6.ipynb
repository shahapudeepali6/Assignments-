{
  "nbformat": 4,
  "nbformat_minor": 0,
  "metadata": {
    "colab": {
      "provenance": []
    },
    "kernelspec": {
      "name": "python3",
      "display_name": "Python 3"
    },
    "language_info": {
      "name": "python"
    }
  },
  "cells": [
    {
      "cell_type": "markdown",
      "source": [
        "Question no.1.\tWrite a Python Program to Display Fibonacci Sequence Using Recursion?"
      ],
      "metadata": {
        "id": "4rtGBURUhwbZ"
      }
    },
    {
      "cell_type": "code",
      "source": [
        "def genFibonacci(n,a,b):\n",
        "    if n == 0:\n",
        "        return 1\n",
        "    else:\n",
        "        result = a+b\n",
        "        print(result, end=', ')\n",
        "        genFibonacci(n-1,b,result)\n",
        "in_num = int(input('Enter the length of Series: '))\n",
        "print('0, 1',end=', ')\n",
        "genFibonacci(in_num,1,2)"
      ],
      "metadata": {
        "colab": {
          "base_uri": "https://localhost:8080/"
        },
        "id": "BiZ12EKyimGm",
        "outputId": "44ca5e79-8d0c-4bfd-8de6-b7894c125330"
      },
      "execution_count": 1,
      "outputs": [
        {
          "output_type": "stream",
          "name": "stdout",
          "text": [
            "Enter the length of Series: 12\n",
            "0, 1, 3, 5, 8, 13, 21, 34, 55, 89, 144, 233, 377, 610, "
          ]
        }
      ]
    },
    {
      "cell_type": "markdown",
      "source": [
        "Question no.2.\tWrite a Python Program to Find Factorial of Number Using Recursion?"
      ],
      "metadata": {
        "id": "2KXEnlqih5nY"
      }
    },
    {
      "cell_type": "code",
      "source": [
        "def factorial(num):\n",
        "    if (num < 1):\n",
        "        return 1\n",
        "    else:\n",
        "        return num*factorial(num-1)\n",
        "num = int(input('Enter a number: '))\n",
        "value = factorial(num)\n",
        "print(f'The Factorial of {num} is {value}')"
      ],
      "metadata": {
        "colab": {
          "base_uri": "https://localhost:8080/"
        },
        "id": "6Q6_Gtk0inGH",
        "outputId": "65f09cbf-2e04-4e0f-afb7-b4510979e643"
      },
      "execution_count": 2,
      "outputs": [
        {
          "output_type": "stream",
          "name": "stdout",
          "text": [
            "Enter a number: 30\n",
            "The Factorial of 30 is 265252859812191058636308480000000\n"
          ]
        }
      ]
    },
    {
      "cell_type": "markdown",
      "source": [
        "Question no.3.\tWrite a Python Program to calculate your Body Mass Index?"
      ],
      "metadata": {
        "id": "VHwJsX4ph6oO"
      }
    },
    {
      "cell_type": "code",
      "source": [
        "def calculateBMI():\n",
        "    in_weight = eval(input('Enter your Weight(kgs): '))\n",
        "    in_height = eval(input('Enter your Height(mts): '))\n",
        "    calc_bmi = in_weight/pow(in_height,2)\n",
        "    if (calc_bmi < 18.5):\n",
        "        status = 'Underweight'\n",
        "    elif (calc_bmi >= 18.5 and calc_bmi < 24.9):\n",
        "        status = 'Healthy'\n",
        "    elif (calc_bmi >= 24.9 and calc_bmi < 30):\n",
        "        status = 'Overweight'\n",
        "    elif (calc_bmi >=30):\n",
        "        status = 'Suffering from Obesity'\n",
        "    print(f'Your\\'re BMI is {calc_bmi} and status is {status} ')\n",
        "calculateBMI()"
      ],
      "metadata": {
        "colab": {
          "base_uri": "https://localhost:8080/"
        },
        "id": "3ksmLe3gin3X",
        "outputId": "cf2c8189-8812-4897-da09-023c09d048a6"
      },
      "execution_count": 3,
      "outputs": [
        {
          "output_type": "stream",
          "name": "stdout",
          "text": [
            "Enter your Weight(kgs): 45\n",
            "Enter your Height(mts): 112\n",
            "Your're BMI is 0.003587372448979592 and status is Underweight \n"
          ]
        }
      ]
    },
    {
      "cell_type": "markdown",
      "source": [
        "Question no.4.\tWrite a Python Program to calculate the natural logarithm of any number?"
      ],
      "metadata": {
        "id": "7wVwYyVfh7T-"
      }
    },
    {
      "cell_type": "code",
      "source": [
        "import math\n",
        "def genNatLog():\n",
        "    in_num = eval(input(\"Enter a Number:\"))\n",
        "    print(math.log(in_num))\n",
        "\n",
        "genNatLog()"
      ],
      "metadata": {
        "colab": {
          "base_uri": "https://localhost:8080/"
        },
        "id": "zg9Xet2liohw",
        "outputId": "c3c39381-f0a9-440b-fdf8-a1417b24e040"
      },
      "execution_count": 4,
      "outputs": [
        {
          "output_type": "stream",
          "name": "stdout",
          "text": [
            "Enter a Number:77\n",
            "4.343805421853684\n"
          ]
        }
      ]
    },
    {
      "cell_type": "markdown",
      "source": [
        "Question no.5.\tWrite a Python Program for cube sum of first n natural numbers?"
      ],
      "metadata": {
        "id": "u1KMtKtTh8PV"
      }
    },
    {
      "cell_type": "code",
      "source": [
        "def cubeOfNaturalNumbers():\n",
        "    in_num = int(input(\"Enter the no of Natural Numbers: \"))\n",
        "    result = pow(((in_num * (in_num +1))/2),2)\n",
        "    print(f'The Cube Sum of First {in_num} Natural Numbers is {result}')\n",
        "\n",
        "cubeOfNaturalNumbers()"
      ],
      "metadata": {
        "colab": {
          "base_uri": "https://localhost:8080/"
        },
        "id": "F9obteTeipR-",
        "outputId": "cc000803-221b-4736-de2b-e0ad197903db"
      },
      "execution_count": 5,
      "outputs": [
        {
          "output_type": "stream",
          "name": "stdout",
          "text": [
            "Enter the no of Natural Numbers: 9\n",
            "The Cube Sum of First 9 Natural Numbers is 2025.0\n"
          ]
        }
      ]
    }
  ]
}