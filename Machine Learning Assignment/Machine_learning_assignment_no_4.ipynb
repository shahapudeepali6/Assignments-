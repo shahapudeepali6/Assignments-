{
  "nbformat": 4,
  "nbformat_minor": 0,
  "metadata": {
    "colab": {
      "provenance": []
    },
    "kernelspec": {
      "name": "python3",
      "display_name": "Python 3"
    },
    "language_info": {
      "name": "python"
    }
  },
  "cells": [
    {
      "cell_type": "markdown",
      "source": [
        "Question no.1. What are the key tasks involved in getting ready to work with machine learning modeling?"
      ],
      "metadata": {
        "id": "TNFrgMqB81YI"
      }
    },
    {
      "cell_type": "markdown",
      "source": [
        "Ans: The Key Tasks involved in getting ready to work with Machine learning Modelling are:\n",
        "\n",
        "1.Data collection: Defining the problem and assembling a dataset.\n",
        "2.Data preparation: Preparing your data.\n",
        "3.Choosing a Model\n",
        "4.Training the Model: Developing a model that does better than a baseline.\n",
        "5.Evaluating the Model: Choosing a measure of success. Deciding on an evaluation protocol.\n",
        "6.Parameter tuning: Scaling up: developing a model that overfits.Regularizing your model and tuning your parameters.\n",
        "7.Prediction or Inference.\n"
      ],
      "metadata": {
        "id": "Pud_SQrF93-c"
      }
    },
    {
      "cell_type": "markdown",
      "source": [
        "Question no.2. What are the different forms of data used in machine learning? Give a specific example for each of them."
      ],
      "metadata": {
        "id": "-2nTZia29Axx"
      }
    },
    {
      "cell_type": "markdown",
      "source": [
        "Ans: Most data can be categorized into 4 basic types from a Machine Learning perspective: Numerical Data, Categorical Data, Time-Series Data, and Text data.\n",
        "\n",
        "Numerical Data:\n",
        "Numerical data is any data where data points are exact numbers. Statisticians also might call numerical data, quantitative data. This data has meaning as a measurement such as house prices or as a count, such as a number of residential properties in Los Angeles or how many houses sold in the past year.\n",
        "\n",
        "Numerical data can be characterized by continuous or discrete data. Continuous data can assume any value within a range whereas discrete data has distinct values.\n",
        "\n",
        "Categorical Data:\n",
        "Categorical data represents characteristics, such as a hockey player’s position, team, hometown. Categorical data can take numerical values. For example, maybe we would use 1 for the colour red and 2 for blue. But these numbers don’t have a mathematical meaning. That is, we can’t add them together or take the average.\n",
        "\n",
        "Time Series Data:\n",
        "Time series data is a sequence of numbers collected at regular intervals over some period of time. It is very important, especially in particular fields like finance. Time series data has a temporal value attached to it, so this would be something like a date or a timestamp that you can look for trends in time.\n",
        "\n",
        "Text:\n",
        "Text data is basically just words. A lot of the time the first thing that you do with text is you turn it into numbers using some interesting functions like the bag of words formulation."
      ],
      "metadata": {
        "id": "Rk31FRhN-CvD"
      }
    },
    {
      "cell_type": "markdown",
      "source": [
        "Question no.3. Distinguish:\n",
        "\n",
        "1. Numeric vs. categorical attributes\n",
        "\n",
        "2. Feature selection vs. dimensionality reduction\n"
      ],
      "metadata": {
        "id": "-iVEFuBu9BQj"
      }
    },
    {
      "cell_type": "markdown",
      "source": [
        "Ans: The following are the differences between:\n",
        "\n",
        "1.Numeric vs. categorical attributes:\n",
        "1.Numerical data are values obtained for quantitative variable, and carries a sense of magnitude related to the context of the variable (hence, they are always numbers or symbols carrying a numerical value).\n",
        "2.Categorical data are values obtained for a qualitative variable. categorical data numbers do not carry a sense of magnitude.\n",
        "3.Numerical data always belong to either ordinal, ratio, or interval type, whereas categorical data belong to nominal type. - - Methods used to analyse quantitative data are different from the methods used for categorical data, even if the principles are the same at least the application has significant differences.\n",
        "4.Numerical data are analysed using statistical methods in descriptive statistics, regression, time series and many more.For categorical data usually descriptive methods and graphical methods are employed. Some non-parametric tests are also used.\n",
        "2.Feature selection vs. dimensionality reduction\n",
        "1.Feature selection you just select a subset of the original feature set, without any manipulation of the data on the other hand.\n",
        "2.Dimensionality reduction is typically choosing a new representation within which you can describe most but not all of the variance within your data, thereby retaining the relevant information, while reducing theamount of information necessary to represent it."
      ],
      "metadata": {
        "id": "gR8ApqbQ-YtS"
      }
    },
    {
      "cell_type": "markdown",
      "source": [
        "Question no.4. Make quick notes on any two of the following:\n",
        "\n",
        "1. The histogram\n",
        "\n",
        "2. Use a scatter plot\n",
        "\n",
        "3.PCA (Personal Computer Aid)\n"
      ],
      "metadata": {
        "id": "BDqBaAmQ9Brl"
      }
    },
    {
      "cell_type": "markdown",
      "source": [
        "Ans: The Quick notes on the following three topics is:\n",
        "\n",
        "The histogram: A Histogram is a graphical representation that organizes a group of data points into user-specified ranges. Similar in appearance to a bar graph, the histogram condenses a data series into an easily interpreted visual by taking many data points and grouping them into logical ranges or bins.\n",
        "\n",
        "Use a scatter plot: A scatter plot (aka scatter chart, scatter graph) uses dots to represent values for two different numeric variables. The position of each dot on the horizontal and vertical axis indicates values for an individual data point. Scatter plots are used to observe relationships between variables.\n",
        "\n",
        "PCA (Personal Computer Aid): Principal Component Analysis or PCA is a widely used technique for dimensionality reduction of the large data set. Reducing the number of components or features costs some accuracy and on the other hand, it makes the large data set simpler, easy to explore and visualize."
      ],
      "metadata": {
        "id": "KRbtz-ZF-tnn"
      }
    },
    {
      "cell_type": "markdown",
      "source": [
        "Question no.5. Why is it necessary to investigate data? Is there a discrepancy in how qualitative and quantitative data are explored?"
      ],
      "metadata": {
        "id": "rwi1tE1C9CB9"
      }
    },
    {
      "cell_type": "markdown",
      "source": [
        "Ans: If your data set is messy, building models will not help you to solve your problem. What will happen is Garbage In, Garbage Out. In order to build a powerful machine learning algorithm. We need to explore and understand our data set before we define a predictive task and solve it."
      ],
      "metadata": {
        "id": "an6QbKwe-x1V"
      }
    },
    {
      "cell_type": "markdown",
      "source": [
        "Question no.6. What are the various histogram shapes? What exactly are ‘bins'?"
      ],
      "metadata": {
        "id": "rpGt2E9n9CYW"
      }
    },
    {
      "cell_type": "markdown",
      "source": [
        "Ans: The different types of a Histogram are:\n",
        "\n",
        "1.Uniform Histogram\n",
        "2.Symmetric Histogram\n",
        "3.Bimodal Histogram\n",
        "4.Probability Histogram.\n",
        "The bin in a histogram is the choice of unit and spacing on the X-axis. All the data in a probability distribution represented visually by a histogram is filled into the corresponding bins. The height of each bin is a measurement of the frequency with which data appears inside the range of that bin in the distribution."
      ],
      "metadata": {
        "id": "8k9X_oFt-3JS"
      }
    },
    {
      "cell_type": "markdown",
      "source": [
        "Question no.7. How do we deal with data outliers?"
      ],
      "metadata": {
        "id": "WXTu9t5l9Cv4"
      }
    },
    {
      "cell_type": "markdown",
      "source": [
        "Ans: We can use Z-Score or any of below methods to deal with data outliers:\n",
        "\n",
        "Univariate Method: This method looks for data points with extreme values on one variable.\n",
        "\n",
        "Multivariate Method: Here, we look for unusual combinations of all the variables.\n",
        "\n",
        "Minkowski Error: This method reduces the contribution of potential outliers in the training process.\n",
        "\n",
        "Z-Score: This can be done with just one line code as we have already calculated the Z-score.\n",
        "boston_df_o = boston_df_o[(z < 3).all(axis=1)]\n",
        "\n",
        "IQR Score: Calculate IQR score to filter out the outliers by keeping only valid values.\n",
        "boston_df_out = boston_df_o1[~((boston_df_o1 < (Q1 - 1.5 * IQR)) |(boston_df_o1 > (Q3 + 1.5 *IQR))).any(axis=1)]\n",
        "boston_df_out.shape\n",
        "\n",
        "Quantile function: Use quantile() to remove amount of data."
      ],
      "metadata": {
        "id": "qTUDVRgB-_Er"
      }
    },
    {
      "cell_type": "markdown",
      "source": [
        "Question no.8. What are the various central inclination measures? Why does mean vary too much from median in certain data sets?"
      ],
      "metadata": {
        "id": "QfHtRC-U9DGF"
      }
    },
    {
      "cell_type": "markdown",
      "source": [
        "Ans: Mean, Median and Mode are Central Inclination Measures. Mean varies more than Median due to presence of outliers, as mean is averaging all points while median in like finding a middle number."
      ],
      "metadata": {
        "id": "X-GZOXdN_BDt"
      }
    },
    {
      "cell_type": "markdown",
      "source": [
        "Question no.9. Describe how a scatter plot can be used to investigate bivariate relationships. Is it possible to find outliers using a scatter plot?"
      ],
      "metadata": {
        "id": "FqBJKMG89Dbt"
      }
    },
    {
      "cell_type": "markdown",
      "source": [
        "Ans: A Scatter Plot (aka scatter chart, scatter graph) uses dots to represent values for two different numeric variables. The position of each dot on the horizontal and vertical axis indicates values for an individual data point. So this visualization gives us the idea of bivariate relationship.\n",
        "\n",
        "Scatter plot can also help finding outliers as outliers can be visualized at farther distance than regular data."
      ],
      "metadata": {
        "id": "MEhtBL4C_D4_"
      }
    },
    {
      "cell_type": "markdown",
      "source": [
        "Question no.10. Describe how cross-tabs can be used to figure out how two variables are related."
      ],
      "metadata": {
        "id": "kGXAsF6l9DwD"
      }
    },
    {
      "cell_type": "markdown",
      "source": [
        "Ans: Cross tabulation is a method to quantitatively analyze the relationship between multiple variables. Also known as contingency tables or cross tabs, cross tabulation groups variables to understand the correlation between different variables. It also shows how correlations change from one variable grouping to another."
      ],
      "metadata": {
        "id": "kLDrieh8_HnB"
      }
    }
  ]
}