{
  "nbformat": 4,
  "nbformat_minor": 0,
  "metadata": {
    "colab": {
      "provenance": []
    },
    "kernelspec": {
      "name": "python3",
      "display_name": "Python 3"
    },
    "language_info": {
      "name": "python"
    }
  },
  "cells": [
    {
      "cell_type": "markdown",
      "source": [
        "Question no.1.\tWrite a Python program to find sum of elements in list?"
      ],
      "metadata": {
        "id": "ChfUc0cML9wl"
      }
    },
    {
      "cell_type": "code",
      "source": [
        "total=0\n",
        "list1=[1,2,3,4,5]\n",
        "\n",
        "for ele in range(0,len(list1)):\n",
        "  total=total+list1[ele]\n",
        "\n",
        "print(\"sum of all elements in given list is: \",total)"
      ],
      "metadata": {
        "colab": {
          "base_uri": "https://localhost:8080/"
        },
        "id": "mUQxIOl9PNUJ",
        "outputId": "efa4deca-8184-41e3-d54f-2a59e3ea6a03"
      },
      "execution_count": 2,
      "outputs": [
        {
          "output_type": "stream",
          "name": "stdout",
          "text": [
            "sum of all elements in given list is:  15\n"
          ]
        }
      ]
    },
    {
      "cell_type": "markdown",
      "source": [
        "Question no.2.\tWrite a Python program to  Multiply all numbers in the list?"
      ],
      "metadata": {
        "id": "NGQtSVJ6L_CR"
      }
    },
    {
      "cell_type": "code",
      "source": [
        "def multiplylist(mylist):\n",
        "  result=1\n",
        "  for x in mylist:\n",
        "    result=result*x\n",
        "  return  result\n",
        "\n",
        "list1=[1,2,3]\n",
        "list2=[4,5,6]\n",
        "print(multiplylist(list1))\n",
        "print(multiplylist(list2))\n",
        "\n"
      ],
      "metadata": {
        "colab": {
          "base_uri": "https://localhost:8080/"
        },
        "id": "HtLV2n_iPN_g",
        "outputId": "bc4ed08a-6cc7-429f-9518-8c6474642431"
      },
      "execution_count": 3,
      "outputs": [
        {
          "output_type": "stream",
          "name": "stdout",
          "text": [
            "6\n",
            "120\n"
          ]
        }
      ]
    },
    {
      "cell_type": "markdown",
      "source": [
        "Question no.3.\tWrite a Python program to find smallest number in a list?"
      ],
      "metadata": {
        "id": "DwWWLT77L_zn"
      }
    },
    {
      "cell_type": "code",
      "source": [
        "list1=[12,3,5,6,2,77,86,43]\n",
        "\n",
        "list1.sort()\n",
        "\n",
        "print(\"smallest element is: \", list1[0])"
      ],
      "metadata": {
        "colab": {
          "base_uri": "https://localhost:8080/"
        },
        "id": "_PoHH3RdPOoU",
        "outputId": "f0497760-8b57-4282-cf40-3c79f9b69c2b"
      },
      "execution_count": 5,
      "outputs": [
        {
          "output_type": "stream",
          "name": "stdout",
          "text": [
            "smallest element is:  2\n"
          ]
        }
      ]
    },
    {
      "cell_type": "markdown",
      "source": [
        "Question no.4.\tWrite a Python program to find largest number in a list?"
      ],
      "metadata": {
        "id": "ZHlnL_f6MAeC"
      }
    },
    {
      "cell_type": "code",
      "source": [
        "list1=[12,3,5,6,2,77,86,43]\n",
        "\n",
        "list1.sort()\n",
        "\n",
        "print(\"smallest element is: \", list1[-1])"
      ],
      "metadata": {
        "colab": {
          "base_uri": "https://localhost:8080/"
        },
        "id": "RswLzZY1PPb0",
        "outputId": "3aad9e67-7ef6-4c3d-9e5f-fa1a19bbcc7f"
      },
      "execution_count": 6,
      "outputs": [
        {
          "output_type": "stream",
          "name": "stdout",
          "text": [
            "smallest element is:  86\n"
          ]
        }
      ]
    },
    {
      "cell_type": "markdown",
      "source": [
        "Question no.5.\tWrite a Python program to find second largest number in a list?"
      ],
      "metadata": {
        "id": "2yKsQNM-MBLu"
      }
    },
    {
      "cell_type": "code",
      "source": [
        "list1=[12,3,5,6,2,77,86,43]\n",
        "\n",
        "list1.sort()\n",
        "\n",
        "print(\"smallest element is: \", list1[-2])"
      ],
      "metadata": {
        "colab": {
          "base_uri": "https://localhost:8080/"
        },
        "id": "ctshSJ28PQJo",
        "outputId": "15ae4ea2-ed61-4740-fc75-2afb46db8d99"
      },
      "execution_count": 7,
      "outputs": [
        {
          "output_type": "stream",
          "name": "stdout",
          "text": [
            "smallest element is:  77\n"
          ]
        }
      ]
    },
    {
      "cell_type": "markdown",
      "source": [
        "Question no.6.\tWrite a Python program to find N largest elements from a list?"
      ],
      "metadata": {
        "id": "234YSXk9MB6q"
      }
    },
    {
      "cell_type": "code",
      "source": [
        "list=[12,34,33,56,77,89,-21,900]\n",
        "n=3\n",
        "\n",
        "list.sort()\n",
        "print(list[-n: ])"
      ],
      "metadata": {
        "colab": {
          "base_uri": "https://localhost:8080/"
        },
        "id": "UxpLFStcPQ7Z",
        "outputId": "3cc354ef-f6e4-4c54-e35d-c20ac7d9cc8f"
      },
      "execution_count": 8,
      "outputs": [
        {
          "output_type": "stream",
          "name": "stdout",
          "text": [
            "[77, 89, 900]\n"
          ]
        }
      ]
    },
    {
      "cell_type": "markdown",
      "source": [
        "Question no.7.\tWrite a Python program to print even numbers in a list?"
      ],
      "metadata": {
        "id": "z0tQWTfRMCnG"
      }
    },
    {
      "cell_type": "code",
      "source": [
        "list=[12,34,33,56,77,89,-21,900]\n",
        "\n",
        "for num in list:\n",
        "  if num%2==0:\n",
        "    print(num,end=\" \")"
      ],
      "metadata": {
        "colab": {
          "base_uri": "https://localhost:8080/"
        },
        "id": "jNtWLHpyPRtH",
        "outputId": "a0f0ab7d-261c-4498-f116-aeab097ca876"
      },
      "execution_count": 10,
      "outputs": [
        {
          "output_type": "stream",
          "name": "stdout",
          "text": [
            "12 34 56 900 "
          ]
        }
      ]
    },
    {
      "cell_type": "markdown",
      "source": [
        "Question no.8.\tWrite a Python program to print odd numbers in a List?"
      ],
      "metadata": {
        "id": "93qzgqUhMDbH"
      }
    },
    {
      "cell_type": "code",
      "source": [
        "list=[12,34,33,56,77,89,-21,900]\n",
        "\n",
        "for num in list:\n",
        "  if num % 2 !=0:\n",
        "    print(num,end=\" \")"
      ],
      "metadata": {
        "colab": {
          "base_uri": "https://localhost:8080/"
        },
        "id": "xMObqwRQPSQy",
        "outputId": "67d2be62-6d90-4d65-fc26-3b65cd51b97a"
      },
      "execution_count": 13,
      "outputs": [
        {
          "output_type": "stream",
          "name": "stdout",
          "text": [
            "33 77 89 -21 "
          ]
        }
      ]
    },
    {
      "cell_type": "markdown",
      "source": [
        "Question no.9.\tWrite a Python program to Remove empty List from List?"
      ],
      "metadata": {
        "id": "c5l1IJypMEGm"
      }
    },
    {
      "cell_type": "code",
      "source": [
        "test_list=[1,4,[],9,10,[],12,98,[]]\n",
        "\n",
        "print(\"the original list is : \"+ str(test_list))\n",
        "\n",
        "res=[ele for ele in test_list if ele != []]\n",
        "\n",
        "print(\"list after empty list removal : \"+ str(res))"
      ],
      "metadata": {
        "colab": {
          "base_uri": "https://localhost:8080/"
        },
        "id": "DzO6wPX7PS24",
        "outputId": "42f8022c-2e9b-47e0-af28-c89a23c5efff"
      },
      "execution_count": 14,
      "outputs": [
        {
          "output_type": "stream",
          "name": "stdout",
          "text": [
            "the original list is : [1, 4, [], 9, 10, [], 12, 98, []]\n",
            "list after empty list removal : [1, 4, 9, 10, 12, 98]\n"
          ]
        }
      ]
    },
    {
      "cell_type": "markdown",
      "source": [
        "Question no.10.\tWrite a Python program to Cloning or Copying a list?"
      ],
      "metadata": {
        "id": "21JI5AeYMGWh"
      }
    },
    {
      "cell_type": "code",
      "source": [
        "def cloning(list1):\n",
        "  li_copy=list1\n",
        "  return li_copy\n",
        "\n",
        "list1=[1,2,3,4,5,6]\n",
        "list2=cloning(list1)\n",
        "\n",
        "print(\"original list: \",list1)\n",
        "print(\"after cloning: \",list2)"
      ],
      "metadata": {
        "colab": {
          "base_uri": "https://localhost:8080/"
        },
        "id": "EuXwDUz1PTcp",
        "outputId": "3d146e4f-200f-4115-90ac-9f218c666123"
      },
      "execution_count": 16,
      "outputs": [
        {
          "output_type": "stream",
          "name": "stdout",
          "text": [
            "original list:  [1, 2, 3, 4, 5, 6]\n",
            "after cloning:  [1, 2, 3, 4, 5, 6]\n"
          ]
        }
      ]
    },
    {
      "cell_type": "markdown",
      "source": [
        "Question no.11.\tWrite a Python program to Count occurrences of an element in a list?"
      ],
      "metadata": {
        "id": "nY-14O78M0pM"
      }
    },
    {
      "cell_type": "code",
      "source": [
        "def countx(list1,x):\n",
        "  return list1.count(x)\n",
        "\n",
        "list1=[90,1,3,1,4,5,6,1,7,2,3,1,9,1,3,1]\n",
        "x=1\n",
        "\n",
        "print('{} has occured {} times'.format(x,countx(list1,x)))\n"
      ],
      "metadata": {
        "colab": {
          "base_uri": "https://localhost:8080/"
        },
        "id": "olPXFSURPUS4",
        "outputId": "6aaef610-ac7a-4b86-bda6-4467b1a03601"
      },
      "execution_count": 34,
      "outputs": [
        {
          "output_type": "stream",
          "name": "stdout",
          "text": [
            "1 has occured 6 times\n"
          ]
        }
      ]
    }
  ]
}