{
  "nbformat": 4,
  "nbformat_minor": 0,
  "metadata": {
    "colab": {
      "provenance": []
    },
    "kernelspec": {
      "name": "python3",
      "display_name": "Python 3"
    },
    "language_info": {
      "name": "python"
    }
  },
  "cells": [
    {
      "cell_type": "markdown",
      "source": [
        "Question no 1. In what modes should the PdfFileReader() and PdfFileWriter() File objects will be opened?"
      ],
      "metadata": {
        "id": "znR7sUNZgg-Y"
      }
    },
    {
      "cell_type": "markdown",
      "source": [
        "Ans: For PdfFileReader() file objects WILL be opened in rb -> read binary mode, Whereas for PdfFileWriter() file objects WILL be opened in wb -> write binary mode."
      ],
      "metadata": {
        "id": "rVxde18WhFyr"
      }
    },
    {
      "cell_type": "markdown",
      "source": [
        "Question no 2. From a PdfFileReader object, how do you get a Page object for page 5?"
      ],
      "metadata": {
        "id": "3X-zQT9nhIDa"
      }
    },
    {
      "cell_type": "markdown",
      "source": [
        "Ans: Calling pdfReader.getPage(4) will return a Page object , since page 0 is the first page."
      ],
      "metadata": {
        "id": "erG4LPAyhXN6"
      }
    },
    {
      "cell_type": "markdown",
      "source": [
        "Question no 3. What PdfFileReader variable stores the number of pages in the PDF document?"
      ],
      "metadata": {
        "id": "ZKr5dCQNhYc7"
      }
    },
    {
      "cell_type": "markdown",
      "source": [
        "Ans:The number_of_Pages variable stores an integer of the number of pages in the PdfFileReader object."
      ],
      "metadata": {
        "id": "80jDHSXzhefu"
      }
    },
    {
      "cell_type": "markdown",
      "source": [
        "Question no 4. If a PdfFileReader object’s PDF is encrypted with the password swordfish, what must you do before you can obtain Page objects from it?"
      ],
      "metadata": {
        "id": "B7cTTDFLhi96"
      }
    },
    {
      "cell_type": "markdown",
      "source": [
        "Ans: By Calling pdfReader.decrypt('swordfish')"
      ],
      "metadata": {
        "id": "MEwyAfOohpz4"
      }
    },
    {
      "cell_type": "markdown",
      "source": [
        "Question no 5. What methods do you use to rotate a page?"
      ],
      "metadata": {
        "id": "Nc2IiCUJhuJW"
      }
    },
    {
      "cell_type": "markdown",
      "source": [
        "Ans: PyPDF2 Package provides 2 methods to rotate a page:\n",
        "\n",
        "1.rotateClockWise() -> For Clockwise rotation\n",
        "2. rotateCounterClockWise() -> For Counter Clockwise rotation"
      ],
      "metadata": {
        "id": "c863IuXwh0v0"
      }
    },
    {
      "cell_type": "markdown",
      "source": [
        "Question no 6. What is the difference between a Run object and a Paragraph object?"
      ],
      "metadata": {
        "id": "EuOmyssIh_AI"
      }
    },
    {
      "cell_type": "markdown",
      "source": [
        "Ans: The structure of a document is represented by three different data types in python-Docx. At the highest level, a Document object represents the entire document. The Document object contains a list of Paragraph objects for the paragraphs in the document. (A new paragraph begins whenever the user presses ENTER or RETURN while typing in a Word document.) Each of these Paragraph objects contains a list of one or more Run objects.\n",
        "\n",
        "The text in a Word document is more than just a string. It has font, size, color, and other styling information associated with it. A style in Word is a collection of these attributes. A Run object is a contiguous run of text with the same style. A new Run object is needed whenever the text style changes."
      ],
      "metadata": {
        "id": "0Lma7vAtiFzh"
      }
    },
    {
      "cell_type": "markdown",
      "source": [
        "Question no 7. How do you obtain a list of Paragraph objects for a Document object that’s stored in a variable named doc?"
      ],
      "metadata": {
        "id": "R58t-RKniMED"
      }
    },
    {
      "cell_type": "markdown",
      "source": [
        "Ans: By using doc.paragraphs"
      ],
      "metadata": {
        "id": "mz-W3mQAiRso"
      }
    },
    {
      "cell_type": "markdown",
      "source": [
        "Question no 8. What type of object has bold, underline, italic, strike, and outline variables?"
      ],
      "metadata": {
        "id": "VjN8LNcgiVzY"
      }
    },
    {
      "cell_type": "markdown",
      "source": [
        "Ans: Run object has bold, underline, italic, strike, and outline variables. The text in a Word document is more than just a string. It has font, size, color, and other styling information associated with it.\n",
        "\n",
        "A style in Word is a collection of these attributes. A Run object is a contiguous run of text with the same style. A new Run object is needed whenever the text style changes."
      ],
      "metadata": {
        "id": "YQjv1C5zicxM"
      }
    },
    {
      "cell_type": "markdown",
      "source": [
        "Question no 9. What is the difference between False, True, and None for the bold variable?"
      ],
      "metadata": {
        "id": "IW02m8EWii7H"
      }
    },
    {
      "cell_type": "code",
      "source": [
        "bold = True  # Style Set to Bold\n",
        "bold = False # Style Not Set to Bold\n",
        "bold = None # Style is Not Applicable"
      ],
      "metadata": {
        "id": "ziWAOJHMit8i"
      },
      "execution_count": 4,
      "outputs": []
    },
    {
      "cell_type": "markdown",
      "source": [
        "Question no 10. How do you create a Document object for a new Word document?"
      ],
      "metadata": {
        "id": "-qMpsWCfiwm2"
      }
    },
    {
      "cell_type": "markdown",
      "source": [
        "Ans: By Calling docx.Document()."
      ],
      "metadata": {
        "id": "pEeYvq0Gi21j"
      }
    },
    {
      "cell_type": "markdown",
      "source": [
        "Question no 11. How do you add a paragraph with the text 'Hello, there!' to a Document object stored in a variable named doc?"
      ],
      "metadata": {
        "id": "VHgYMsWLi6g9"
      }
    },
    {
      "cell_type": "markdown",
      "source": [
        "Ans: doc.add_paragraph('Hello there!')"
      ],
      "metadata": {
        "id": "_YSRJgBdi6o2"
      }
    },
    {
      "cell_type": "markdown",
      "source": [
        "Question no 12. What integers represent the levels of headings available in Word documents?"
      ],
      "metadata": {
        "id": "48cgkbFni60W"
      }
    },
    {
      "cell_type": "markdown",
      "source": [
        "Ans: The levels for a heading in a word document can be specified by using the level attribute inside the add_heading method. There are a total of 5 levels statring for 0 to 4. where level 0 makes a headline with the horizontal line below the text, whereas the heading level 1 is the main heading. Similarly, the other headings are sub-heading with their's font-sizes in decreasing order."
      ],
      "metadata": {
        "id": "cxyWYWS_jLFd"
      }
    }
  ]
}