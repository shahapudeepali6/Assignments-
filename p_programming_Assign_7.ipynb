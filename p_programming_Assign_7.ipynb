{
  "nbformat": 4,
  "nbformat_minor": 0,
  "metadata": {
    "colab": {
      "provenance": []
    },
    "kernelspec": {
      "name": "python3",
      "display_name": "Python 3"
    },
    "language_info": {
      "name": "python"
    }
  },
  "cells": [
    {
      "cell_type": "markdown",
      "source": [
        "Question no.1.\tWrite a Python Program to find sum of array?"
      ],
      "metadata": {
        "id": "tev0buT1i36n"
      }
    },
    {
      "cell_type": "code",
      "source": [
        "def sumOfArray():\n",
        "    in_arr = eval(input(\"Enter the Array: \"))\n",
        "    print(f'The sum of {in_arr} is {sum(in_arr)}')\n",
        "\n",
        "sumOfArray()\n"
      ],
      "metadata": {
        "colab": {
          "base_uri": "https://localhost:8080/"
        },
        "id": "Um6Do0EFjoIL",
        "outputId": "1f370904-d809-4af4-dcd4-8dbf39e53ca1"
      },
      "execution_count": 1,
      "outputs": [
        {
          "output_type": "stream",
          "name": "stdout",
          "text": [
            "Enter the Array: 10,20,30,40,50\n",
            "The sum of (10, 20, 30, 40, 50) is 150\n"
          ]
        }
      ]
    },
    {
      "cell_type": "markdown",
      "source": [
        "Question no.2.\tWrite a Python Program to find largest element in an array?"
      ],
      "metadata": {
        "id": "__OLtep-jCLu"
      }
    },
    {
      "cell_type": "code",
      "source": [
        "def largestElement():\n",
        "    in_arr = eval(input(\"Enter the Array: \"))\n",
        "    print(f\"The Largest Element in {in_arr} is {sorted(in_arr, reverse=True)[0]}\")\n",
        "\n",
        "largestElement()"
      ],
      "metadata": {
        "colab": {
          "base_uri": "https://localhost:8080/"
        },
        "id": "4w4wnHxKjoxo",
        "outputId": "1583ff8d-5ee9-4946-814a-6d3fc1bb7010"
      },
      "execution_count": 2,
      "outputs": [
        {
          "output_type": "stream",
          "name": "stdout",
          "text": [
            "Enter the Array: 2,133,45,99,76,1190,1,23,44\n",
            "The Largest Element in (2, 133, 45, 99, 76, 1190, 1, 23, 44) is 1190\n"
          ]
        }
      ]
    },
    {
      "cell_type": "markdown",
      "source": [
        "Question no.3.\tWrite a Python Program for array rotation?"
      ],
      "metadata": {
        "id": "wWxoio8ZjC4d"
      }
    },
    {
      "cell_type": "code",
      "source": [
        "\n",
        "def reverseOfArray():\n",
        "    in_arr = eval(input(\"Enter the Array: \"))\n",
        "    print(f\"The Reverse of Array {in_arr} is {in_arr[::-1]}\")\n",
        "\n",
        "reverseOfArray()"
      ],
      "metadata": {
        "colab": {
          "base_uri": "https://localhost:8080/"
        },
        "id": "7gKKqmTujppp",
        "outputId": "6db5ca7b-c7de-401c-a5cb-b9958d2956d5"
      },
      "execution_count": 3,
      "outputs": [
        {
          "output_type": "stream",
          "name": "stdout",
          "text": [
            "Enter the Array: 2,3,5,4,7,6,8\n",
            "The Reverse of Array (2, 3, 5, 4, 7, 6, 8) is (8, 6, 7, 4, 5, 3, 2)\n"
          ]
        }
      ]
    },
    {
      "cell_type": "markdown",
      "source": [
        "Question no.4.\tWrite a Python Program to Split the array and add the first part to the end?"
      ],
      "metadata": {
        "id": "2rx7nBW8jDhs"
      }
    },
    {
      "cell_type": "code",
      "source": [
        "def sumOfSplits():\n",
        "    in_arr = eval(input(\"Enter the Array: \"))\n",
        "    print(f\"The Sum of First and Last Elements of Array {in_arr} is {in_arr[0]+in_arr[-1]}\")\n",
        "\n",
        "sumOfSplits()"
      ],
      "metadata": {
        "colab": {
          "base_uri": "https://localhost:8080/"
        },
        "id": "5MroTy3Djqfb",
        "outputId": "2fbb474a-3b13-47d7-a92f-6df257cbfb6e"
      },
      "execution_count": 4,
      "outputs": [
        {
          "output_type": "stream",
          "name": "stdout",
          "text": [
            "Enter the Array: 12,22,32,33,23,1\n",
            "The Sum of First and Last Elements of Array (12, 22, 32, 33, 23, 1) is 13\n"
          ]
        }
      ]
    },
    {
      "cell_type": "markdown",
      "source": [
        "Question no.5.\tWrite a Python Program to check if given array is Monotonic?"
      ],
      "metadata": {
        "id": "7bq26DqgjD7Y"
      }
    },
    {
      "cell_type": "code",
      "source": [
        "def checkMonotonic():\n",
        "    in_arr = eval(input(\"Enter the Array: \"))\n",
        "    if(all(in_arr[i]<=in_arr[i+1] for i in range(len(in_arr)-1)) or all(in_arr[i]>=in_arr[i+1] for i in range(len(in_arr)-1))):\n",
        "        print(f'Array {in_arr} is Monotonic')\n",
        "    else:\n",
        "        print(f'Array {in_arr} is Not Monotonic')\n",
        "\n",
        "checkMonotonic()\n",
        "checkMonotonic()\n"
      ],
      "metadata": {
        "colab": {
          "base_uri": "https://localhost:8080/"
        },
        "id": "kPXhN0EPjrjL",
        "outputId": "63a53454-c5fb-499f-e620-5041ac4c7d0f"
      },
      "execution_count": 5,
      "outputs": [
        {
          "output_type": "stream",
          "name": "stdout",
          "text": [
            "Enter the Array: 1,9,2,5,6,7\n",
            "Array (1, 9, 2, 5, 6, 7) is Not Monotonic\n",
            "Enter the Array: 10,20,30,40\n",
            "Array (10, 20, 30, 40) is Monotonic\n"
          ]
        }
      ]
    }
  ]
}