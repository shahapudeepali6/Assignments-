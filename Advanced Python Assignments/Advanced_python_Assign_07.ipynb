{
  "nbformat": 4,
  "nbformat_minor": 0,
  "metadata": {
    "colab": {
      "provenance": []
    },
    "kernelspec": {
      "name": "python3",
      "display_name": "Python 3"
    },
    "language_info": {
      "name": "python"
    }
  },
  "cells": [
    {
      "cell_type": "markdown",
      "source": [
        "Q1. What is the purpose of the try statement?"
      ],
      "metadata": {
        "id": "vO3P4g4k7na4"
      }
    },
    {
      "cell_type": "markdown",
      "source": [
        "Ans: try statement is used for exception handling in python. It consists of a block of risky statements which might cause an exception during runtime. If code within try block raises exception, then the exception will be reverted to the corresponding except block when multiple except blocks are present, else it will be reverted to the default except block. In short, try and except in union avoid programs from crashing during runtime due to exceptions."
      ],
      "metadata": {
        "id": "doZS6vHH7_mw"
      }
    },
    {
      "cell_type": "code",
      "source": [
        "x=\"7\"\n",
        "try:\n",
        "  if x>2:\n",
        "    print(\"x is larger than 2\")\n",
        "except TypeError:\n",
        "  print(\"oops!  x was not a valid number. Try again...\")"
      ],
      "metadata": {
        "colab": {
          "base_uri": "https://localhost:8080/"
        },
        "id": "wLMdoq79FvoA",
        "outputId": "6bf4de2e-501c-45ab-f9f7-175ae953ef41"
      },
      "execution_count": 2,
      "outputs": [
        {
          "output_type": "stream",
          "name": "stdout",
          "text": [
            "oops!  x was not a valid number. Try again...\n"
          ]
        }
      ]
    },
    {
      "cell_type": "markdown",
      "source": [
        "Q2. What are the two most popular try statement variations?"
      ],
      "metadata": {
        "id": "ojL-2c2o7up6"
      }
    },
    {
      "cell_type": "markdown",
      "source": [
        "Ans: The Popular try statement variations are:\n",
        "\n",
        "try,except\n",
        "try,except,finally\n",
        "try,except,finally,else\n",
        "The try block is used to check code for exceptions during runtime. i.e. code inside try block will execute completely when there is no error in the program where as the code inside except block will execute whenever the program encounters some error in the preceeding try block.\n",
        "\n",
        "Where as the code enters the else block if and only if the try clause does not raise an exception. The code in the finally block will execute irrespective of exception."
      ],
      "metadata": {
        "id": "5HzNZ4MRF0Ua"
      }
    },
    {
      "cell_type": "markdown",
      "source": [
        "\n",
        "Q3. What is the purpose of the raise statement?\n"
      ],
      "metadata": {
        "id": "ofKIc-bp7xgL"
      }
    },
    {
      "cell_type": "markdown",
      "source": [
        "Ans: raise statement is used to trigger an exception explicitly, if a certain condition is not as per requirement of programmer. raise statement helps in triggering exception as per programming logic."
      ],
      "metadata": {
        "id": "dzWw7vH58A7t"
      }
    },
    {
      "cell_type": "markdown",
      "source": [
        "Q4. What does the assert statement do, and what other statement is it like?"
      ],
      "metadata": {
        "id": "lh1c1LIt70FU"
      }
    },
    {
      "cell_type": "markdown",
      "source": [
        "Ans: There are few assertions that programmer always want to be true to avoid code failure. This type of requirement is fulfilled by assert statement. This statement takes a boolean condition output of which is True which in turn helps Further Program Execute. If output of assert statement is False, it raises an Assertion Error."
      ],
      "metadata": {
        "id": "r1nFMm2Q8Bif"
      }
    },
    {
      "cell_type": "code",
      "source": [
        "assert(2 == 10), f'this is not a valid statement'"
      ],
      "metadata": {
        "colab": {
          "base_uri": "https://localhost:8080/",
          "height": 182
        },
        "id": "8c5Mss-RGFqA",
        "outputId": "99ee6747-26e0-4d29-ef0b-69176d184c9d"
      },
      "execution_count": 1,
      "outputs": [
        {
          "output_type": "error",
          "ename": "AssertionError",
          "evalue": "ignored",
          "traceback": [
            "\u001b[0;31m---------------------------------------------------------------------------\u001b[0m",
            "\u001b[0;31mAssertionError\u001b[0m                            Traceback (most recent call last)",
            "\u001b[0;32m<ipython-input-1-32a4b0eccebf>\u001b[0m in \u001b[0;36m<cell line: 1>\u001b[0;34m()\u001b[0m\n\u001b[0;32m----> 1\u001b[0;31m \u001b[0;32massert\u001b[0m\u001b[0;34m(\u001b[0m\u001b[0;36m2\u001b[0m \u001b[0;34m==\u001b[0m \u001b[0;36m10\u001b[0m\u001b[0;34m)\u001b[0m\u001b[0;34m,\u001b[0m \u001b[0;34mf'this is not a valid statement'\u001b[0m\u001b[0;34m\u001b[0m\u001b[0;34m\u001b[0m\u001b[0m\n\u001b[0m",
            "\u001b[0;31mAssertionError\u001b[0m: this is not a valid statement"
          ]
        }
      ]
    },
    {
      "cell_type": "markdown",
      "source": [
        "Q5. What is the purpose of the with/as argument, and what other statement is it like?"
      ],
      "metadata": {
        "id": "RAU8CrcG72h5"
      }
    },
    {
      "cell_type": "markdown",
      "source": [
        "Ans: with/as statement simplifies use of file handling in python. When we use a with statement for file reading, there is no need for programmer to explicitly take care of activities like resource deallocation and file closing by using file.close() method. with statement itself ensures proper acquisition and release of resources. This avoids triggering of exceptions if the file closing is unknowingly forgotten in the code execution.\n",
        "\n",
        "with open('sample_file.txt','w') as file: file.write('Hello World')"
      ],
      "metadata": {
        "id": "d5g8FT_t8CgZ"
      }
    }
  ]
}