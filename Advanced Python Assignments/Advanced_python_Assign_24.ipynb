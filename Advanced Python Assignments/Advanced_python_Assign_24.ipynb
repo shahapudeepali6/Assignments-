{
  "nbformat": 4,
  "nbformat_minor": 0,
  "metadata": {
    "colab": {
      "provenance": []
    },
    "kernelspec": {
      "name": "python3",
      "display_name": "Python 3"
    },
    "language_info": {
      "name": "python"
    }
  },
  "cells": [
    {
      "cell_type": "markdown",
      "source": [
        "Q1. Is it permissible to use several import statements to import the same module? What would the goal be? Can you think of a situation where it would be beneficial?"
      ],
      "metadata": {
        "id": "ehLK54Am6Q7h"
      }
    },
    {
      "cell_type": "markdown",
      "source": [
        "Ans: Yes, it is permissible to use several import statements to import the same module. It is used in case when we have to import multiple functions from same module."
      ],
      "metadata": {
        "id": "z3Y2Tue1A_rq"
      }
    },
    {
      "cell_type": "markdown",
      "source": [
        "Q2. What are some of a module's characteristics? (Name at least one.)"
      ],
      "metadata": {
        "id": "BCo-aMDd6Z2K"
      }
    },
    {
      "cell_type": "markdown",
      "source": [
        "Ans: The following are some of a module's characteristics:\n",
        "\n",
        "__name__ : It returns the name of the module\n",
        "__doc__ : It denotes the documentation string line written in a module code.\n",
        "__file__ : It holds the name and path of the module file from which it is loaded\n",
        "__dict__ : It returns a dictionary object of module attributes, functions and other definitions and their respective values"
      ],
      "metadata": {
        "id": "MNAwu6T8BA6R"
      }
    },
    {
      "cell_type": "markdown",
      "source": [
        "Q3. Circular importing, such as when two modules import each other, can lead to dependencies and bugs that aren't visible. How can you go about creating a program that avoids mutual importing?"
      ],
      "metadata": {
        "id": "Grea4yr26cSJ"
      }
    },
    {
      "cell_type": "markdown",
      "source": [
        "Ans: Circular importing means importing the two modules in each other. If suppose we are wokring in MOD1.py file and it is importing some function say F2() from some other module say MOD2.PY file or we can do vice-versa. What will happen is: This will give an import error.\n",
        "\n",
        "This is because when we import F2() function from module MOD2.py, then this will execute MOD2.py file and in MOD2.py file, there is another statement of importing MOD1.py module.\n",
        "\n",
        "This will result in endless loop. To avoid this error, we can use if __name__ == '__main__'\n",
        "\n",
        "In this function, we can't directly refer to the function in the program. The addition of this sentence avoids the endless loop of the program . We can use an if name == \"main\" block to allow or prevent parts of code from being run when the modules are imported. When the Python interpreter reads a file, the name variable is set as main if the module being run, or as the module's name if it is imported"
      ],
      "metadata": {
        "id": "kHnhXty8BHZL"
      }
    },
    {
      "cell_type": "markdown",
      "source": [
        "\n",
        "Q4. Why is  _ _all_ _ in Python?\n"
      ],
      "metadata": {
        "id": "ryHE55t86evs"
      }
    },
    {
      "cell_type": "markdown",
      "source": [
        "Ans: It provides the list of all modules present in a library."
      ],
      "metadata": {
        "id": "WysSAG9VBKth"
      }
    },
    {
      "cell_type": "markdown",
      "source": [
        "Q5. In what situation is it useful to refer to the _ _name_ _ attribute or the string '_ _main_ _'?"
      ],
      "metadata": {
        "id": "8k4YYE_j6g2M"
      }
    },
    {
      "cell_type": "markdown",
      "source": [
        "Ans: During the time of execution of the code, if we want to refer the module in which we are working on, then we use __name__ attribute. In that case it will return the module in which we are working on. Suppose if the module is being imported from some other module, then name will have the name of that module from where the current module has been imported. The current module in which we are working is refer to the string __main __.\n",
        "\n",
        "This built-in attributes prints the name of the class, type, function, method, descriptor, or generator instance.\n",
        "\n",
        "For example, if the python interpreter is running that module (the source file) as the main program, it sets the special name variable to have a value \"main\". If this file is being imported from another module, name will be set to the module's name."
      ],
      "metadata": {
        "id": "guSRI8n1BQHe"
      }
    },
    {
      "cell_type": "markdown",
      "source": [
        "Q6. What are some of the benefits of attaching a program counter to the RPN interpreter application, which interprets an RPN script line by line?"
      ],
      "metadata": {
        "id": "R4HrmHiw6ljE"
      }
    },
    {
      "cell_type": "markdown",
      "source": [
        "\n",
        "Ans:The advantage of reverse Polish notation is that it removes the need for order of operations and parentheses that are required by infix notation and can be evaluated linearly, left-to-right."
      ],
      "metadata": {
        "id": "9bwWpdr5BjSY"
      }
    },
    {
      "cell_type": "markdown",
      "source": [
        "Q7. What are the minimum expressions or statements (or both) that you'd need to render a basic programming language like RPN primitive but complete— that is, capable of carrying out any computerised task theoretically possible?"
      ],
      "metadata": {
        "id": "lk3KbkRe6osF"
      }
    },
    {
      "cell_type": "markdown",
      "source": [
        "Ans:An assignment statement always has a single variable on the left hand side. The value of the expression (which can contain math operators and other variables) on the right of the = sign is stored in the variable on the left."
      ],
      "metadata": {
        "id": "lYRZJ3XLBv9O"
      }
    }
  ]
}