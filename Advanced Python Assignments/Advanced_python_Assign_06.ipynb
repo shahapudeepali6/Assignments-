{
  "nbformat": 4,
  "nbformat_minor": 0,
  "metadata": {
    "colab": {
      "provenance": []
    },
    "kernelspec": {
      "name": "python3",
      "display_name": "Python 3"
    },
    "language_info": {
      "name": "python"
    }
  },
  "cells": [
    {
      "cell_type": "markdown",
      "source": [
        "Q1. Describe three applications for exception processing."
      ],
      "metadata": {
        "id": "uvkL5Lk57Alu"
      }
    },
    {
      "cell_type": "markdown",
      "source": [
        "Ans:Exception Processing is important to find exceptions that causes the runtime error as runtime errors halt the program execution when exception occurs.\n",
        "\n",
        "Exception Processing is used in Various Applications. Few examples are:\n",
        "\n",
        "1.Checking Appropriate use of input in an application\n",
        "2.Checking for Arithmetic exceptions in mathematical executions\n",
        "3.Checking File I/O exceptions during File handling"
      ],
      "metadata": {
        "id": "aNXHuN2eDSYQ"
      }
    },
    {
      "cell_type": "markdown",
      "source": [
        "Q2. What happens if you don't do something extra to treat an exception?"
      ],
      "metadata": {
        "id": "iPXhOEve7H4P"
      }
    },
    {
      "cell_type": "markdown",
      "source": [
        "Ans:If you don't do something extra to treat an exception, then you can't handle the exceptions, and your program will crash. In that situation, python will print the exception traceback so that you can figure out how to fix the problem."
      ],
      "metadata": {
        "id": "rhHCxWmf76-x"
      }
    },
    {
      "cell_type": "markdown",
      "source": [
        "Q3. What are your options for recovering from an exception in your script?"
      ],
      "metadata": {
        "id": "2530zE1o7KU7"
      }
    },
    {
      "cell_type": "markdown",
      "source": [
        "Ans: \"Try\" and \"except\" statements are used to catch and handle exceptions in python.Statements that can raise exceptions are kept inside the try clause and the statements that handle the exception are written inside except clause."
      ],
      "metadata": {
        "id": "jnOhjfWw77rK"
      }
    },
    {
      "cell_type": "code",
      "source": [
        "x=5\n",
        "y=\"hello\"\n",
        "\n",
        "try:\n",
        "  z=x+y\n",
        "\n",
        "except TypeError:\n",
        "  print(\"Error: cannot add an int and a str\")"
      ],
      "metadata": {
        "colab": {
          "base_uri": "https://localhost:8080/"
        },
        "id": "9LxJkNiwA0Aa",
        "outputId": "2e0eba67-6677-46b3-c784-7779faf914ae"
      },
      "execution_count": 1,
      "outputs": [
        {
          "output_type": "stream",
          "name": "stdout",
          "text": [
            "Error: cannot add an int and a str\n"
          ]
        }
      ]
    },
    {
      "cell_type": "markdown",
      "source": [
        "Q4. Describe two methods for triggering exceptions in your script."
      ],
      "metadata": {
        "id": "gkhTbaP_7Mpb"
      }
    },
    {
      "cell_type": "markdown",
      "source": [
        "Ans:raise and assert are two methods that can be used to trigger manual exceptions in our script.\n",
        "\n",
        "raise method triggers an exception if condition provided to it turns out to be True.\n",
        "assert will let the program to continue execution if condition provided to it turns out to be True else exception will be raised"
      ],
      "metadata": {
        "id": "qzWzsVgIDDy6"
      }
    },
    {
      "cell_type": "code",
      "source": [
        "# Example of raise\n",
        "x = 101\n",
        "raise Exception(f'X Value Should not exceed 5 The Provided Value of X is {x}')"
      ],
      "metadata": {
        "colab": {
          "base_uri": "https://localhost:8080/",
          "height": 219
        },
        "id": "rVwlaKjbD2KQ",
        "outputId": "60ee435c-e57f-46bd-e788-27ea85fd1b4e"
      },
      "execution_count": 4,
      "outputs": [
        {
          "output_type": "error",
          "ename": "Exception",
          "evalue": "ignored",
          "traceback": [
            "\u001b[0;31m---------------------------------------------------------------------------\u001b[0m",
            "\u001b[0;31mException\u001b[0m                                 Traceback (most recent call last)",
            "\u001b[0;32m<ipython-input-4-2ca1ac08df5e>\u001b[0m in \u001b[0;36m<cell line: 3>\u001b[0;34m()\u001b[0m\n\u001b[1;32m      1\u001b[0m \u001b[0;31m# Example of raise\u001b[0m\u001b[0;34m\u001b[0m\u001b[0;34m\u001b[0m\u001b[0m\n\u001b[1;32m      2\u001b[0m \u001b[0mx\u001b[0m \u001b[0;34m=\u001b[0m \u001b[0;36m101\u001b[0m\u001b[0;34m\u001b[0m\u001b[0;34m\u001b[0m\u001b[0m\n\u001b[0;32m----> 3\u001b[0;31m \u001b[0;32mraise\u001b[0m \u001b[0mException\u001b[0m\u001b[0;34m(\u001b[0m\u001b[0;34mf'X Value Should not exceed 5 The Provided Value of X is {x}'\u001b[0m\u001b[0;34m)\u001b[0m\u001b[0;34m\u001b[0m\u001b[0;34m\u001b[0m\u001b[0m\n\u001b[0m",
            "\u001b[0;31mException\u001b[0m: X Value Should not exceed 5 The Provided Value of X is 101"
          ]
        }
      ]
    },
    {
      "cell_type": "code",
      "source": [
        "# Example of assert\n",
        "assert(2==10), \"2 is not equal to 4\""
      ],
      "metadata": {
        "colab": {
          "base_uri": "https://localhost:8080/",
          "height": 200
        },
        "id": "LT9BeQcZD5Vh",
        "outputId": "1d10e71e-4288-46c3-c899-5466408c48eb"
      },
      "execution_count": 5,
      "outputs": [
        {
          "output_type": "error",
          "ename": "AssertionError",
          "evalue": "ignored",
          "traceback": [
            "\u001b[0;31m---------------------------------------------------------------------------\u001b[0m",
            "\u001b[0;31mAssertionError\u001b[0m                            Traceback (most recent call last)",
            "\u001b[0;32m<ipython-input-5-d5761c283d02>\u001b[0m in \u001b[0;36m<cell line: 2>\u001b[0;34m()\u001b[0m\n\u001b[1;32m      1\u001b[0m \u001b[0;31m# Example of assert\u001b[0m\u001b[0;34m\u001b[0m\u001b[0;34m\u001b[0m\u001b[0m\n\u001b[0;32m----> 2\u001b[0;31m \u001b[0;32massert\u001b[0m\u001b[0;34m(\u001b[0m\u001b[0;36m2\u001b[0m\u001b[0;34m==\u001b[0m\u001b[0;36m10\u001b[0m\u001b[0;34m)\u001b[0m\u001b[0;34m,\u001b[0m \u001b[0;34m\"2 is not equal to 4\"\u001b[0m\u001b[0;34m\u001b[0m\u001b[0;34m\u001b[0m\u001b[0m\n\u001b[0m",
            "\u001b[0;31mAssertionError\u001b[0m: 2 is not equal to 4"
          ]
        }
      ]
    },
    {
      "cell_type": "markdown",
      "source": [
        "Q5. Identify two methods for specifying actions to be executed at termination time, regardless of whether or not an exception exists."
      ],
      "metadata": {
        "id": "HYSRvSvB7brN"
      }
    },
    {
      "cell_type": "markdown",
      "source": [
        "Ans: Python Provides else and finally blocks for specifying actions to be executed at termination time, regardless of whether an exceptions exists or not."
      ],
      "metadata": {
        "id": "DfGKql-Y79VZ"
      }
    }
  ]
}