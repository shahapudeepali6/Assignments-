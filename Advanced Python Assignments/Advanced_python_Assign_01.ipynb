{
  "nbformat": 4,
  "nbformat_minor": 0,
  "metadata": {
    "colab": {
      "provenance": []
    },
    "kernelspec": {
      "name": "python3",
      "display_name": "Python 3"
    },
    "language_info": {
      "name": "python"
    }
  },
  "cells": [
    {
      "cell_type": "markdown",
      "source": [
        "Q1. What is the purpose of Python's OOP?"
      ],
      "metadata": {
        "id": "ZI29_Ps60E9Y"
      }
    },
    {
      "cell_type": "markdown",
      "source": [
        "Answer= Python's OOP makes code more reusable and easier to work with larger programs.OOP programs prevent you from repeating code bacause a class can be defined once and reused many times except it gives reusability, productivity, easily upgradable and scalable, interface descriptions, security and flexibility."
      ],
      "metadata": {
        "id": "tYDTCq2A1lNz"
      }
    },
    {
      "cell_type": "markdown",
      "source": [
        "Q2. Where does an inheritance search look for an attribute?"
      ],
      "metadata": {
        "id": "dazct4hT0KYE"
      }
    },
    {
      "cell_type": "markdown",
      "source": [
        "Answer=An inheritance search look for an attribute first in the instance object, then in the class the instance was created from, then in all higher superclasses, progressing from left to right."
      ],
      "metadata": {
        "id": "bvKB5BN32yAL"
      }
    },
    {
      "cell_type": "markdown",
      "source": [
        "Q3. How do you distinguish between a class object and an instance object?"
      ],
      "metadata": {
        "id": "na_KbwCm0RWw"
      }
    },
    {
      "cell_type": "markdown",
      "source": [
        "Answer=The basic concept of OOP is this: Class >> Object >> Instance. The class=the blue print. The object is an actual thing that is build based on the 'blue print'(like the house). An insance is a vertual copy (but not a real copy) of the object,"
      ],
      "metadata": {
        "id": "F-h_8YCJ3ea6"
      }
    },
    {
      "cell_type": "markdown",
      "source": [
        "Q4. What makes the first argument in a class’s method function special?"
      ],
      "metadata": {
        "id": "fGaHViEG0Ua1"
      }
    },
    {
      "cell_type": "markdown",
      "source": [
        "Answer=Whenever you call a method of an object created from a class, the object is automatically passed as the first argument using the “self” parameter. This enables you to modify the object's properties and execute tasks unique to that particular instance"
      ],
      "metadata": {
        "id": "H-2Wr30y3hMd"
      }
    },
    {
      "cell_type": "markdown",
      "source": [
        "Q5. What is the purpose of the __init__ method?"
      ],
      "metadata": {
        "id": "TxTgpdMZ0XT1"
      }
    },
    {
      "cell_type": "markdown",
      "source": [
        "Answer= The __init__ method lets the class initialize the object's attributes and serves no other purpose. It is oly used within classes."
      ],
      "metadata": {
        "id": "GSMRhph03ibk"
      }
    },
    {
      "cell_type": "markdown",
      "source": [
        "Q6. What is the process for creating a class instance?"
      ],
      "metadata": {
        "id": "Y9Bstkgn0aOY"
      }
    },
    {
      "cell_type": "markdown",
      "source": [
        "Answer=To create instance of a class, you have to call the class using class name and pass in whatever arguments its __init__ methos accepts."
      ],
      "metadata": {
        "id": "KXLz2Otj3jxR"
      }
    },
    {
      "cell_type": "code",
      "source": [
        "class GFG:\n",
        "    def __init__(self, name, company):\n",
        "        self.name = name\n",
        "        self.company = company\n",
        "\n",
        "    def show(self):\n",
        "        print(\"Hello my name is \" + self.name+\" and I\" +\n",
        "              \" work in \"+self.company+\".\")\n",
        "\n",
        "\n",
        "obj = GFG(\"John\", \"GeeksForGeeks\")\n",
        "obj.show()"
      ],
      "metadata": {
        "colab": {
          "base_uri": "https://localhost:8080/"
        },
        "id": "r8dzOKUn7sIT",
        "outputId": "528b6aa0-3145-40c9-ac92-c5d5cd84d472"
      },
      "execution_count": 1,
      "outputs": [
        {
          "output_type": "stream",
          "name": "stdout",
          "text": [
            "Hello my name is John and I work in GeeksForGeeks.\n"
          ]
        }
      ]
    },
    {
      "cell_type": "markdown",
      "source": [
        "Q7. What is the process for creating a class?"
      ],
      "metadata": {
        "id": "GSlGmhtM0c7X"
      }
    },
    {
      "cell_type": "markdown",
      "source": [
        "Answer=class keyword is used to created a class in python. The syntax to create a class in python is class <classname>:\n",
        "\n",
        "Example: class Shape: ➞ this creates a class called Shape"
      ],
      "metadata": {
        "id": "58tkYllO3k8X"
      }
    },
    {
      "cell_type": "markdown",
      "source": [
        "Q8. How would you define the superclasses of a class?"
      ],
      "metadata": {
        "id": "mIIrTmXm0iUe"
      }
    },
    {
      "cell_type": "markdown",
      "source": [
        "Answer=Superclass/Parent class is given as a arugment to the child class\n",
        "\n",
        "Example: class Employee(Person): Here child class Employee inherits attributes and methods/functions from Superclass/Parent Person"
      ],
      "metadata": {
        "id": "40VIKpsE3mHl"
      }
    }
  ]
}