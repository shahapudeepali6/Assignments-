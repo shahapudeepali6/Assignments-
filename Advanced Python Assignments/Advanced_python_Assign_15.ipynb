{
  "nbformat": 4,
  "nbformat_minor": 0,
  "metadata": {
    "colab": {
      "provenance": []
    },
    "kernelspec": {
      "name": "python3",
      "display_name": "Python 3"
    },
    "language_info": {
      "name": "python"
    }
  },
  "cells": [
    {
      "cell_type": "markdown",
      "source": [
        "Question no.1.\tWhat are the new features added in Python 3.8 version?"
      ],
      "metadata": {
        "id": "51Yg5SSeaRGy"
      }
    },
    {
      "cell_type": "markdown",
      "source": [
        "Ans: Some New Features Added in Python 3.8 Version are:\n",
        "\n",
        "Walrus Operator: This operator is used to assign and return a value in the same expression. This removes the need for initializing the variable upfront. The major benefit of this is it saves some lines of code. It is also known as The Walrus Operator due to its similarity to the eyes and tusks of a walrus.\n",
        "\n",
        "yield and return statements do not require parentheses to return multiple values.\n",
        "\n",
        "Reversed works with a dictionary. The built-in method reversed() can be used for accessing the elements in the reverse order of insertion\n",
        "\n",
        "Dict comprehensions have been modified so that the key is computed first and the value second.\n",
        "\n",
        "importlib_metadata is a new library added in the Python’s standard utility modules, that provides an API for accessing an installed package’s metadata, such as its entry points or its top-level name.\n",
        "\n",
        "f-strings now support = , to make string interpolation easy. Python 3.8 allows the use of the above-discussed assignment operator and equal sign (=) inside the f-strings.\n",
        "\n",
        "In the three-argument form of pow(), when the exponent is -1, it calculates the modular multiplicative inverse of the given value\n",
        "\n",
        "The csv.DictReader now returns instances of dictionary instead of a collections.OrderedDict.\n",
        "\n",
        "If you miss a comma in your code such as a = [(1, 2) (3, 4)], instead of throwing TypeError, it displays an informative Syntax warning."
      ],
      "metadata": {
        "id": "codOnlE1d-uM"
      }
    },
    {
      "cell_type": "markdown",
      "source": [
        "Question no.2.\tWhat is monkey patching in Python?"
      ],
      "metadata": {
        "id": "69XpoDuLau-J"
      }
    },
    {
      "cell_type": "markdown",
      "source": [
        "Ans: In Python, the term monkey patch refers to making dynamic (or run-time) modifications to a class or module. In Python, we can actually change the behavior of code at run-time."
      ],
      "metadata": {
        "id": "oY_kLKDhd_vR"
      }
    },
    {
      "cell_type": "code",
      "source": [
        "class A:\n",
        "    def func(self):\n",
        "        print(\"func() is being called\")\n",
        "\n",
        "def monkey_f(self):\n",
        "    print(\"monkey_f() is being called\")\n",
        "\n",
        "A.func = monkey_f\n",
        "some_object = A()\n",
        "some_object.func()"
      ],
      "metadata": {
        "colab": {
          "base_uri": "https://localhost:8080/"
        },
        "id": "NeDavvLFfK_Q",
        "outputId": "71a2e78a-6e8c-40c7-f8d5-dca3fbf29fec"
      },
      "execution_count": 1,
      "outputs": [
        {
          "output_type": "stream",
          "name": "stdout",
          "text": [
            "monkey_f() is being called\n"
          ]
        }
      ]
    },
    {
      "cell_type": "markdown",
      "source": [
        "Question no.3.\tWhat is the difference between a shallow copy and deep copy?"
      ],
      "metadata": {
        "id": "6XUOwa1bavwe"
      }
    },
    {
      "cell_type": "markdown",
      "source": [
        "Ans: The Differences between a Shallow Copy and deep copy are as follows:\n",
        "\n",
        "When an object is copied using copy(), it is called shallow copy as changes made in copied object will also make corresponding changes in original object, because both the objects will be referencing same address location.\n",
        "\n",
        "When an object is copied using deepcopy(), it is called deep copy as changes made in copied object will not make corresponding changes in original object, because both the objects will not be referencing same address location."
      ],
      "metadata": {
        "id": "tUpo_OakeAXJ"
      }
    },
    {
      "cell_type": "code",
      "source": [
        "from copy import deepcopy, copy\n",
        "l_one = [1,2,[3,4],5,6]\n",
        "l_two = deepcopy(l_one)\n",
        "l_three = l_one\n",
        "print(f'Original Elements of each List\\n{l_one}\\n{l_two}\\n{l_three}')\n",
        "l_two[0] = 10\n",
        "l_three[-1] = 20\n",
        "print(f'New Elements of each List\\n{l_one}\\n{l_two}\\n{l_three}')"
      ],
      "metadata": {
        "colab": {
          "base_uri": "https://localhost:8080/"
        },
        "id": "Qj4AW2C9fVKP",
        "outputId": "c3b81bc6-5f42-4858-8169-2a35b089eb17"
      },
      "execution_count": 2,
      "outputs": [
        {
          "output_type": "stream",
          "name": "stdout",
          "text": [
            "Original Elements of each List\n",
            "[1, 2, [3, 4], 5, 6]\n",
            "[1, 2, [3, 4], 5, 6]\n",
            "[1, 2, [3, 4], 5, 6]\n",
            "New Elements of each List\n",
            "[1, 2, [3, 4], 5, 20]\n",
            "[10, 2, [3, 4], 5, 6]\n",
            "[1, 2, [3, 4], 5, 20]\n"
          ]
        }
      ]
    },
    {
      "cell_type": "markdown",
      "source": [
        "Question no.4.\tWhat is the maximum possible length of an identifier?"
      ],
      "metadata": {
        "id": "Bx8im3qOawQA"
      }
    },
    {
      "cell_type": "markdown",
      "source": [
        "Ans: In Python, the highest possible length of an identifier is 79 characters. Python is a high level programming language. It’s also a complex form and a collector of waste.\n",
        "\n",
        "1.Python, particularly when combined with identifiers, is case-sensitive.\n",
        "2.When writing or using identifiers in Python, it has a maximum of 79 characters.\n",
        "3.Unlikely, Python gives the identifiers unlimited length.\n",
        "4.However, the layout of PEP-8 prevents the user from breaking the rules and includes a 79-character limit."
      ],
      "metadata": {
        "id": "puykUCvPeA71"
      }
    },
    {
      "cell_type": "markdown",
      "source": [
        "Question no.5.\tWhat is generator comprehension?"
      ],
      "metadata": {
        "id": "U2DnTpf9ay4w"
      }
    },
    {
      "cell_type": "markdown",
      "source": [
        "Ans: A generator comprehension is a single-line specification for defining a generator in Python.\n",
        "\n",
        "1.It is absolutely essential to learn this syntax in order to write simple and readable code.\n",
        "2.Generator comprehension uses round bracket unlike square bracket in list comprehension.\n",
        "3.The generator yields one item at a time and generates item only when in demand. Whereas, in a list comprehension, Python reserves memory for the whole list. Thus we can say that the generator expressions are memory efficient than the lists."
      ],
      "metadata": {
        "id": "eEaNDKGJeBqt"
      }
    },
    {
      "cell_type": "code",
      "source": [
        "in_list = [x for x in range(10)] # List Comprehension\n",
        "print(in_list)\n",
        "out_gen = (x for x in in_list if x%2 == 0) # Generator Comprehension\n",
        "print(out_gen) # Returns a Generator Object\n",
        "for ele in out_gen:\n",
        "    print(ele, end=\" \")"
      ],
      "metadata": {
        "colab": {
          "base_uri": "https://localhost:8080/"
        },
        "id": "Jm7ICkMSfnr_",
        "outputId": "634570c2-503c-4d6c-8f96-51748a923c2c"
      },
      "execution_count": 3,
      "outputs": [
        {
          "output_type": "stream",
          "name": "stdout",
          "text": [
            "[0, 1, 2, 3, 4, 5, 6, 7, 8, 9]\n",
            "<generator object <genexpr> at 0x7acf6d9a97e0>\n",
            "0 2 4 6 8 "
          ]
        }
      ]
    }
  ]
}