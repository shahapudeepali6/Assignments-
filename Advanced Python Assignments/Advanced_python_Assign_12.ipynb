{
  "nbformat": 4,
  "nbformat_minor": 0,
  "metadata": {
    "colab": {
      "provenance": []
    },
    "kernelspec": {
      "name": "python3",
      "display_name": "Python 3"
    },
    "language_info": {
      "name": "python"
    }
  },
  "cells": [
    {
      "cell_type": "markdown",
      "source": [
        "Q1. Does assigning a value to a string's indexed character violate Python's string immutability?"
      ],
      "metadata": {
        "id": "y7lYGXoSAWQw"
      }
    },
    {
      "cell_type": "markdown",
      "source": [
        "Ans: String’s indexed character cannot to be assigned a New value as Strings are immutable.\n",
        "Example:\n",
        "name = \"Reinforcement\"\n",
        "print(id(name)) #73472\n",
        "name[0] = \"V\" # Raises TypeError"
      ],
      "metadata": {
        "id": "VTqQ6eQaFIOO"
      }
    },
    {
      "cell_type": "markdown",
      "source": [
        "Q2. Does using the += operator to concatenate strings violate Python's string immutability? Why or why not?"
      ],
      "metadata": {
        "id": "OLz2nWpZAfmY"
      }
    },
    {
      "cell_type": "markdown",
      "source": [
        "Ans: += operator is used to concatenate strings. It does not violate Python’s string immutability Property because doing so creates a new association with data and variable. E.g. str_1=\"a\" and str_1+=\"b. Effect of this statement is to create string ab and reassign it to variable str_1. Any string data is not actually modified."
      ],
      "metadata": {
        "id": "EBTthBkjFMez"
      }
    },
    {
      "cell_type": "code",
      "source": [
        "str_1 = 'a'\n",
        "print(id(str_1))\n",
        "str_1 += 'b'\n",
        "print(id(str_1)) # Does not Modify existing string, Creates a New String Object"
      ],
      "metadata": {
        "colab": {
          "base_uri": "https://localhost:8080/"
        },
        "id": "vmovS0qjFNMm",
        "outputId": "00be189f-02d8-41ed-efb3-0782aaec9c2b"
      },
      "execution_count": 2,
      "outputs": [
        {
          "output_type": "stream",
          "name": "stdout",
          "text": [
            "138509710065456\n",
            "138509417524400\n"
          ]
        }
      ]
    },
    {
      "cell_type": "markdown",
      "source": [
        "Q3. In Python, how many different ways are there to index a character?"
      ],
      "metadata": {
        "id": "l3XXKFf_AiMl"
      }
    },
    {
      "cell_type": "markdown",
      "source": [
        "Ans: A Character in string can be indexed using string name followed by index number of character in square bracket. Positive Indexing i.e. first index is 0 an so on, or Negative Indexing i.e. last letter is -1 and so on can be used to index a character"
      ],
      "metadata": {
        "id": "40ZTiRANFQrf"
      }
    },
    {
      "cell_type": "code",
      "source": [
        "in_string = \"iNeuron Full Stack Data Science\"\n",
        "print(in_string[9],in_string[10],in_string[2]) # Positive Indexing\n",
        "print(in_string[-1],in_string[-5],in_string[-2]) # Negative Indexing"
      ],
      "metadata": {
        "colab": {
          "base_uri": "https://localhost:8080/"
        },
        "id": "6c20toJkFUVN",
        "outputId": "b111c289-8cd8-4d10-aca5-77d5f4963434"
      },
      "execution_count": 1,
      "outputs": [
        {
          "output_type": "stream",
          "name": "stdout",
          "text": [
            "u l e\n",
            "e i c\n"
          ]
        }
      ]
    },
    {
      "cell_type": "markdown",
      "source": [
        "Q4. What is the relationship between indexing and slicing?"
      ],
      "metadata": {
        "id": "tlnmGx-ZAlOM"
      }
    },
    {
      "cell_type": "markdown",
      "source": [
        "Ans: We can access elements of sequence datatypes by using slicing and indexing. Indexing is used to obtaining individual element while slicing for sequence of elements."
      ],
      "metadata": {
        "id": "BYMqmpJdFXWH"
      }
    },
    {
      "cell_type": "code",
      "source": [
        "in_string = \"iNeuron Full Stack Data Science\"\n",
        "print(in_string[1],in_string[3],in_string[5]) # Indexing\n",
        "print(in_string[1:15]) # Slicing"
      ],
      "metadata": {
        "colab": {
          "base_uri": "https://localhost:8080/"
        },
        "id": "srIASseJFhb3",
        "outputId": "aa3296cc-97ac-44bf-cbea-67f1a54b34fc"
      },
      "execution_count": 3,
      "outputs": [
        {
          "output_type": "stream",
          "name": "stdout",
          "text": [
            "N u o\n",
            "Neuron Full St\n"
          ]
        }
      ]
    },
    {
      "cell_type": "markdown",
      "source": [
        "Q5. What is an indexed character's exact data type? What is the data form of a slicing-generated substring?"
      ],
      "metadata": {
        "id": "XzqnYInpAoNk"
      }
    },
    {
      "cell_type": "markdown",
      "source": [
        "Ans: Indexed characters and sliced substrings have datatype String."
      ],
      "metadata": {
        "id": "kmzI3ck-Fjuf"
      }
    },
    {
      "cell_type": "code",
      "source": [
        "in_string = \"iNeuron Full Stack Data Science\"\n",
        "print(type(in_string[3])) # Indexing -> str\n",
        "print(type(in_string[1:10])) # Indexing -> str"
      ],
      "metadata": {
        "colab": {
          "base_uri": "https://localhost:8080/"
        },
        "id": "pm_tR0SmFnK4",
        "outputId": "292a3811-1357-4f3d-bb31-a8a8a08e7bf8"
      },
      "execution_count": 4,
      "outputs": [
        {
          "output_type": "stream",
          "name": "stdout",
          "text": [
            "<class 'str'>\n",
            "<class 'str'>\n"
          ]
        }
      ]
    },
    {
      "cell_type": "markdown",
      "source": [
        "Q6. What is the relationship between string and character \"types\" in Python?"
      ],
      "metadata": {
        "id": "6n8IPX6YAq_x"
      }
    },
    {
      "cell_type": "markdown",
      "source": [
        "Ans: Object that contains sequence of character datatypes are called String."
      ],
      "metadata": {
        "id": "O3286c90Fq01"
      }
    },
    {
      "cell_type": "markdown",
      "source": [
        "Q7. Identify at least two operators and one method that allow you to combine one or more smaller strings to create a larger string."
      ],
      "metadata": {
        "id": "2P0pknhYAt60"
      }
    },
    {
      "cell_type": "markdown",
      "source": [
        "Ans: +, += and * allow to combine one or more smaller strings to create a larger string. <string>.join(<sep>) method joins element of iterable type like list and tuple to get a combined string."
      ],
      "metadata": {
        "id": "x0KlLXnSFua-"
      }
    },
    {
      "cell_type": "code",
      "source": [
        "in_string = 'iNeuron '\n",
        "in_string += 'Full Stack Data Science'\n",
        "print(in_string + ' FSDS')\n",
        "print('FSDS '*3)\n",
        "print(\" \".join(['I','N','E','U','R','O','N'])) # List Iterable\n",
        "print(\" \".join(('I','N','E','U','R','O','N')).lower()) # Tuple Iterable"
      ],
      "metadata": {
        "colab": {
          "base_uri": "https://localhost:8080/"
        },
        "id": "ORJBbzIzFyh_",
        "outputId": "8fd4cd16-2ef8-437c-8b49-accc06e10080"
      },
      "execution_count": 5,
      "outputs": [
        {
          "output_type": "stream",
          "name": "stdout",
          "text": [
            "iNeuron Full Stack Data Science FSDS\n",
            "FSDS FSDS FSDS \n",
            "I N E U R O N\n",
            "i n e u r o n\n"
          ]
        }
      ]
    },
    {
      "cell_type": "markdown",
      "source": [
        "Q8. What is the benefit of first checking the target string with in or not in before using the index method to find a substring?"
      ],
      "metadata": {
        "id": "In7vLMq4Aw78"
      }
    },
    {
      "cell_type": "markdown",
      "source": [
        "Ans: Checking the target string with in or not Operators before using the index method to find a substring just helps confirming availability of substring and thus avoid raising of ValueError.\n",
        "Example:\n",
        "in_string = \"ineuron\"\n",
        "in_string.index('x') # Raises ValueError\n",
        "in_string.index('u') # 3"
      ],
      "metadata": {
        "id": "AyaNne2uF2FB"
      }
    },
    {
      "cell_type": "markdown",
      "source": [
        "Q9. Which operators and built-in string methods produce simple Boolean (true/false) results?"
      ],
      "metadata": {
        "id": "g2MdKAhGAzN5"
      }
    },
    {
      "cell_type": "markdown",
      "source": [
        "Ans: The String Operators and built-in methods to Produce Simple Boolean (True/False) Results are:\n",
        "\n",
        "in\n",
        "not\n",
        "1.<string>.isalpha()\n",
        "2.<string>.isalnum()\n",
        "3.<string>.isdecimal()\n",
        "4.<string>.isdigit()\n",
        "5.<string>.islower()\n",
        "6.<string>.isnumeric()\n",
        "7.<string>.isprintable()\n",
        "8.<string>.isspace()\n",
        "9.<string>.istitle()"
      ],
      "metadata": {
        "id": "vH48R4W8F5d6"
      }
    }
  ]
}