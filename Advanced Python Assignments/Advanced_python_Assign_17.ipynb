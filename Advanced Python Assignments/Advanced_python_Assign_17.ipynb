{
  "nbformat": 4,
  "nbformat_minor": 0,
  "metadata": {
    "colab": {
      "provenance": []
    },
    "kernelspec": {
      "name": "python3",
      "display_name": "Python 3"
    },
    "language_info": {
      "name": "python"
    }
  },
  "cells": [
    {
      "cell_type": "markdown",
      "source": [
        "Q1. Explain the difference between greedy and non-greedy syntax with visual terms in as few words as possible. What is the bare minimum effort required to transform a greedy pattern into a non-greedy one? What characters or characters can you introduce or change?"
      ],
      "metadata": {
        "id": "9SqIsuv9bza_"
      }
    },
    {
      "cell_type": "markdown",
      "source": [
        "Ans: The Main difference between Greedy and Non Greedy Match Syntax is that the Greedy Match will try to match as many repetitions of the quantified pattern as possible Whereas the Non Greedy Match will try to match as few repetitions of the quantified pattern as possible so that it still can match the pattern in the given string"
      ],
      "metadata": {
        "id": "Q4Kbe8HzePgc"
      }
    },
    {
      "cell_type": "code",
      "source": [
        "import re\n",
        "print(re.findall(\"a*\", \"aaaaaa\")) # Greedy Match Synatx\n",
        "print(re.findall(\"a*?\", \"aaaaaa\")) # Non Greddy Syntax"
      ],
      "metadata": {
        "colab": {
          "base_uri": "https://localhost:8080/"
        },
        "id": "Zp0dRYidhEt7",
        "outputId": "3c8d34e0-89cf-45da-85d7-bd0bb9f5f7ae"
      },
      "execution_count": 4,
      "outputs": [
        {
          "output_type": "stream",
          "name": "stdout",
          "text": [
            "['aaaaaa', '']\n",
            "['', 'a', '', 'a', '', 'a', '', 'a', '', 'a', '', 'a', '']\n"
          ]
        }
      ]
    },
    {
      "cell_type": "markdown",
      "source": [
        "Q2. When exactly does greedy versus non-greedy make a difference?  What if you're looking for a non-greedy match but the only one available is greedy?"
      ],
      "metadata": {
        "id": "zxUTiW04b8K7"
      }
    },
    {
      "cell_type": "markdown",
      "source": [
        "Ans: The Greedy Match will try to match as many repetitions of the quantified pattern as possible. The Non Greedy Match will try to match as few repetitions of the quantified pattern as possible. If only Non Greedy Match is available, we can use other filtering or pattern matching methods of regex and further identify the required pattern."
      ],
      "metadata": {
        "id": "-zXgBD_XeQTp"
      }
    },
    {
      "cell_type": "markdown",
      "source": [
        "Q3. In a simple match of a string, which looks only for one match and does not do any replacement, is the use of a nontagged group likely to make any practical difference?"
      ],
      "metadata": {
        "id": "UL02FSysb-r5"
      }
    },
    {
      "cell_type": "markdown",
      "source": [
        "Ans: In this Case, the Non-Tagged Group will not make any difference. This is shown below:"
      ],
      "metadata": {
        "id": "lgNvjZWfeRJj"
      }
    },
    {
      "cell_type": "code",
      "source": [
        "import re\n",
        "phoneNumRegex = re.compile(r'\\d\\d\\d')\n",
        "num = phoneNumRegex.search('My number is 123-456-7891.')\n",
        "print(f'Phone number found -> {num.group()}') # Non Tagged group\n",
        "print(f'Phone number found -> {num.group(0)}') # Tagged Group"
      ],
      "metadata": {
        "colab": {
          "base_uri": "https://localhost:8080/"
        },
        "id": "HUBKeiBphNXZ",
        "outputId": "90d22f13-a724-471c-b732-d30ed4623feb"
      },
      "execution_count": 5,
      "outputs": [
        {
          "output_type": "stream",
          "name": "stdout",
          "text": [
            "Phone number found -> 123\n",
            "Phone number found -> 123\n"
          ]
        }
      ]
    },
    {
      "cell_type": "markdown",
      "source": [
        "Q4. Describe a scenario in which using a nontagged category would have a significant impact on the program's outcomes."
      ],
      "metadata": {
        "id": "AacqoJHYcBHj"
      }
    },
    {
      "cell_type": "markdown",
      "source": [
        "Ans: Here in the below Code Snippet . decimal is not tagged or captured. Hence, it will be useful in scenarios where the separator of value in a string is of no use and we need to capture only the values."
      ],
      "metadata": {
        "id": "jJTy9rp4eSPU"
      }
    },
    {
      "cell_type": "code",
      "source": [
        "import re\n",
        "text='123.456'\n",
        "pattern=r'(\\d+)(?:.)(\\d+)'\n",
        "regobj=re.compile(pattern)\n",
        "matobj=regobj.search(text)\n",
        "matobj.groups()"
      ],
      "metadata": {
        "colab": {
          "base_uri": "https://localhost:8080/"
        },
        "id": "LgvaOl8zhTeZ",
        "outputId": "eebfb88f-7c09-4566-a54f-8ccadd773348"
      },
      "execution_count": 6,
      "outputs": [
        {
          "output_type": "execute_result",
          "data": {
            "text/plain": [
              "('123', '456')"
            ]
          },
          "metadata": {},
          "execution_count": 6
        }
      ]
    },
    {
      "cell_type": "markdown",
      "source": [
        "Q5. Unlike a normal regex pattern, a look-ahead condition does not consume the characters it examines. Describe a situation in which this could make a difference in the results of your programme."
      ],
      "metadata": {
        "id": "1dk0zJVCcDc-"
      }
    },
    {
      "cell_type": "markdown",
      "source": [
        "Ans: While counting the number of multiple lines or mutiple sentences in a string, the positive look ahead makes a difference, without which we will not be able to get the correct count of lines or sentences in a string."
      ],
      "metadata": {
        "id": "G-EP328reS6I"
      }
    },
    {
      "cell_type": "markdown",
      "source": [
        "Q6. In standard expressions, what is the difference between positive look-ahead and negative look-ahead?"
      ],
      "metadata": {
        "id": "4idLpCXxcF-o"
      }
    },
    {
      "cell_type": "markdown",
      "source": [
        "Ans: Positive Look-ahead allows to add a condition for what follows. Negative Lookahead is similar, but it looks behind. That is, it allows to match a pattern only if there’s something before it.\n",
        "\n",
        "Syntax Positive Look-Ahead: X(?=Y) Syntax Negative Look-Ahead: X(?!Y)"
      ],
      "metadata": {
        "id": "f3897qEfeTqB"
      }
    },
    {
      "cell_type": "code",
      "source": [
        "#Positive Look Ahead\n",
        "import re\n",
        "\n",
        "s = '1 Python is about 4 feet long'\n",
        "pattern = '\\d+(?=\\s*feet)'\n",
        "\n",
        "matches = re.finditer(pattern,s)\n",
        "for match in matches:\n",
        "    print(match.group())"
      ],
      "metadata": {
        "colab": {
          "base_uri": "https://localhost:8080/"
        },
        "id": "ZDAnNdFcg4h3",
        "outputId": "0005d728-3429-41fe-c4e3-8137d3de2e49"
      },
      "execution_count": 2,
      "outputs": [
        {
          "output_type": "stream",
          "name": "stdout",
          "text": [
            "4\n"
          ]
        }
      ]
    },
    {
      "cell_type": "code",
      "source": [
        "#Negative Look Ahead\n",
        "import re\n",
        "\n",
        "s = '1 Python is about 4 feet long'\n",
        "pattern = '\\d+(?!\\s*feet)'\n",
        "\n",
        "matches = re.finditer(pattern,s)\n",
        "for match in matches:\n",
        "    print(match.group())"
      ],
      "metadata": {
        "colab": {
          "base_uri": "https://localhost:8080/"
        },
        "id": "0mW1iW1rg7Pm",
        "outputId": "7a6cc1b2-1c39-41a2-8322-97400fd7ef43"
      },
      "execution_count": 3,
      "outputs": [
        {
          "output_type": "stream",
          "name": "stdout",
          "text": [
            "1\n"
          ]
        }
      ]
    },
    {
      "cell_type": "markdown",
      "source": [
        "Q7. What is the benefit of referring to groups by name rather than by number in a standard expression?"
      ],
      "metadata": {
        "id": "Umu3xIpUcIUR"
      }
    },
    {
      "cell_type": "markdown",
      "source": [
        "Ans: The advantage to named groups is that it adds readability and understandability to the code, so that you can easily see what part of a regular expression match is being referenced."
      ],
      "metadata": {
        "id": "0RSDdda3eUff"
      }
    },
    {
      "cell_type": "markdown",
      "source": [
        "Q8. Can you identify repeated items within a target string using named groups, as in \"The cow jumped over the moon\"?"
      ],
      "metadata": {
        "id": "-y17v2lfcKuY"
      }
    },
    {
      "cell_type": "code",
      "source": [
        "import re\n",
        "text = \"The cow jumped over the moon\"\n",
        "regobj=re.compile(r'(?P<w1>The)',re.I)\n",
        "regobj.findall(text)"
      ],
      "metadata": {
        "colab": {
          "base_uri": "https://localhost:8080/"
        },
        "id": "IagFASC-gv-O",
        "outputId": "b06fbbba-63b9-4d44-eaa4-2c42dabe3c24"
      },
      "execution_count": 1,
      "outputs": [
        {
          "output_type": "execute_result",
          "data": {
            "text/plain": [
              "['The', 'the']"
            ]
          },
          "metadata": {},
          "execution_count": 1
        }
      ]
    },
    {
      "cell_type": "markdown",
      "source": [
        "Q9. When parsing a string, what is at least one thing that the Scanner interface does for you that the re.findall feature does not?"
      ],
      "metadata": {
        "id": "FDj8_9QycNL_"
      }
    },
    {
      "cell_type": "markdown",
      "source": [
        "Ans: re.findall() module is used to search for all occurrences that match a given pattern. In contrast, re.search() will only return the first occurrence that matches the specified pattern. re.findall() will iterate over all the lines of the file and will return all non-overlapping matches of pattern in a single step."
      ],
      "metadata": {
        "id": "K1Ba2aOIeWZ8"
      }
    },
    {
      "cell_type": "markdown",
      "source": [
        "Q10. Does a scanner object have to be named scanner?"
      ],
      "metadata": {
        "id": "_eXSScMTcPeE"
      }
    },
    {
      "cell_type": "markdown",
      "source": [
        "Ans: No, It may have any name. For example instead of naming Scanner object as scanner, we can name as sc"
      ],
      "metadata": {
        "id": "W5-v9FxgeXRH"
      }
    }
  ]
}