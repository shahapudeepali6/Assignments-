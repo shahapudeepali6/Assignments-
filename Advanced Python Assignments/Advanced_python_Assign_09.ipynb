{
  "nbformat": 4,
  "nbformat_minor": 0,
  "metadata": {
    "colab": {
      "provenance": []
    },
    "kernelspec": {
      "name": "python3",
      "display_name": "Python 3"
    },
    "language_info": {
      "name": "python"
    }
  },
  "cells": [
    {
      "cell_type": "markdown",
      "source": [
        "Q1. In Python 3.X, what are the names and functions of string object types?"
      ],
      "metadata": {
        "id": "_lrFVGcSL7_1"
      }
    },
    {
      "cell_type": "markdown",
      "source": [
        "\n",
        "Ans: The following are the names and functions of string object types in Python 3.X\n",
        "\n",
        "1.<stirng>.isdecimal() -> Returns True if all characters in a string are decimal.\n",
        "2.<string>.isalnum() -> Returns True if all characters in the string are AlphaNumeric.\n",
        "3.<string>.istitle() -> Returns True if first character in a string is in Uppercase.\n",
        "4.<string>.partition(<sub_string>) -> Splits string at first occurance of sub string and returns a tuple of 3 elements.\n",
        "5.<string>.rpartition(<sub_string>) -> Splits string at last occurance of sub string and returns a tuple of 3 elements.\n",
        "6.<string>.isidentifier() -> Returns True if give string is a valid identifier name.\n",
        "7.len(<string>) -> Returns the length of the given string.\n",
        "8.<string>.index(<sub_string>) -> Returns the lowest index of substring if substring is found in the string.\n",
        "9.<string>.rindex(<sub_string>) -> Returns the highest index of substring if substring is found in the string.\n",
        "10.max(<string>) -> Returns the highest Alphabetical Character in the string as per ASCII.\n",
        "11.min(<string>) -> Returns the lowest Alphabetical Character in the string as per ASCII.\n",
        "12.<string>.splitlines() -> Returns a list of lines in the string.\n",
        "13.<string>.capitalize() -> Returns the string with first character capitalized.\n",
        "14.<string>.upper() -> Returns the string with all characters in uppercase.\n",
        "15.<string>.lower() -> Returns the string with all characters in lowercase\n",
        "16.<string>.casefold() -> Returns the string in lowercase which can be used for caseless comparisions.\n",
        "17.<string>.expandtabs(no_of_spaces) -> Replaces tabs in a string with specified no of spaces default is 8\n",
        "18.<string>.find(<sub_string>) -> Returns lowest index of substring if substring is found in the string else returns -1.\n",
        "19.<string>.rfind(<sub_string>) -> Returns highest index of substring if substring is found in the string else returns -1.\n",
        "20.<string>.count(<char>) -> Returns the no of occurances of the char in the given string.\n",
        "21.<string>.split(<sep>) -> Returns list of words seperated by given sep else seperated by whitespace.\n",
        "22.<string>.rsplit(<sep>) -> Returns list of words seperated by given sep else seperated by whitespace scanning from end.\n",
        "23.<string>.lstrip() -> Returns a copy of where leading whitespaces are removed.\n",
        "24.<string>.rstrip() -> Returns a copy of where trailed whitespaces are removed.\n",
        "25.<string>.strip() -> Returns a copy of where both leading and trailing whitespaces are removed.\n",
        "26.<string>.swapcase() -> Swaps lowercase characters with uppercase and vice versa.\n",
        "27.<sep>.join(<list>) -> Concatenates a list or tuple of words with intervening occuernces of sep.\n",
        "28.<string>.translate(<mapping_table>) -> translates the characters using table.\n",
        "29.<string>.maketrans(<dict>) -> Creating a mapping translation tbale usable for <string>.translate(<mapping_table>)\n",
        "30.<string>.replace(<char_1>,<char_2>) -> Replace all occurances of char_1 with char_2 in string.\n",
        "31.<string>.encode() -> Encodes string into any encoding supported by python. Default encoding is UTF-8.\n",
        "32.<string>.ljust(<no_of_spaces>) -> Left-justify in a field of given width.\n",
        "33.<string>.rjust(<no_of_spaces>) -> Right-justify in a field of given width.\n",
        "34.<string>.center(<no_of_spaces>) -> Center-justify in a field of given width.\n",
        "35.<stirng>.zfill(<length>) -> Zfill adds zeros to the begining of string until the specified length is reached."
      ],
      "metadata": {
        "id": "-E80TN5UNI8I"
      }
    },
    {
      "cell_type": "code",
      "source": [
        "print('1234567890'.isdecimal())\n",
        "print('IneuronFullStackDS'.isalnum())\n",
        "print('Ineuron Full Stack Data science'.istitle())\n",
        "print('\"I could eat bananas all day, bananas are my favorite fruit\"'.partition('bananas'))\n",
        "print('\"I could eat bananas all day, bananas are my favorite fruit\"'.rpartition('bananas'))\n",
        "print('GeeksForFreaks'.isidentifier())\n",
        "print(len('Linear Regression'))\n",
        "print('Ineuron'.index('n'))\n",
        "print('Ineuron'.rindex('n'))\n",
        "print(max('Data_Scientist'))\n",
        "print(min('Data_Analyst'))\n",
        "print('Ineuron \\n Full Stack \\n Data Science \\n Course '.splitlines())\n",
        "print('finding nemo'.capitalize())\n",
        "print('datapipelines'.upper())\n",
        "print('MLOPS'.lower())\n",
        "print('Doloris Jane Umbridge'.casefold())\n",
        "print('Data science\\tData Analyst'.expandtabs(8))\n",
        "print('Ineuron'.find('n'))\n",
        "print('Ineuron'.rfind('n'))\n",
        "print('Transformers'.count('s'))\n",
        "print('ineuron'.split('n'))\n",
        "print('ineuron'.rsplit('n'))\n",
        "print(' EDA '.lstrip())\n",
        "print(' EDA '.rstrip())\n",
        "print(' EDA '.strip())\n",
        "print('Exploratory Data Analysis'.swapcase())\n",
        "print('_'.join(['Iris','flower','Dataset']))\n",
        "\n",
        "mydict = {83:  80}\n",
        "print(\"Hello Sam!\".translate(mydict))\n",
        "\n",
        "txt = \"Hello Sam!\"\n",
        "mytable = txt.maketrans(\"S\", \"P\")\n",
        "print(txt.translate(mytable))\n",
        "\n",
        "print('Ineuron'.replace('n','2'))\n",
        "print('Natural Language Processing'.encode())\n",
        "print('Nemo'.ljust(10))\n",
        "print('Nemo'.rjust(10))\n",
        "print('Nemo'.center(10))\n",
        "print('Hello'.zfill(10))"
      ],
      "metadata": {
        "colab": {
          "base_uri": "https://localhost:8080/"
        },
        "id": "2GYe2G6yNi_Q",
        "outputId": "1b587d44-d3fc-4a1f-cd0f-3d41e1c62223"
      },
      "execution_count": 2,
      "outputs": [
        {
          "output_type": "stream",
          "name": "stdout",
          "text": [
            "True\n",
            "True\n",
            "False\n",
            "('\"I could eat ', 'bananas', ' all day, bananas are my favorite fruit\"')\n",
            "('\"I could eat bananas all day, ', 'bananas', ' are my favorite fruit\"')\n",
            "True\n",
            "17\n",
            "1\n",
            "6\n",
            "t\n",
            "A\n",
            "['Ineuron ', ' Full Stack ', ' Data Science ', ' Course ']\n",
            "Finding nemo\n",
            "DATAPIPELINES\n",
            "mlops\n",
            "doloris jane umbridge\n",
            "Data science    Data Analyst\n",
            "1\n",
            "6\n",
            "2\n",
            "['i', 'euro', '']\n",
            "['i', 'euro', '']\n",
            "EDA \n",
            " EDA\n",
            "EDA\n",
            "eXPLORATORY dATA aNALYSIS\n",
            "Iris_flower_Dataset\n",
            "Hello Pam!\n",
            "Hello Pam!\n",
            "I2euro2\n",
            "b'Natural Language Processing'\n",
            "Nemo      \n",
            "      Nemo\n",
            "   Nemo   \n",
            "00000Hello\n"
          ]
        }
      ]
    },
    {
      "cell_type": "markdown",
      "source": [
        "Q2. How do the string forms in Python 3.X vary in terms of operations?"
      ],
      "metadata": {
        "id": "-FR-ClJqL-c8"
      }
    },
    {
      "cell_type": "markdown",
      "source": [
        "Ans: In Python3 default format of strings is Unicode Whereas in Pyton2 we need to explicitly mention Unicode value using u."
      ],
      "metadata": {
        "id": "QGUv5PvYNQ6G"
      }
    },
    {
      "cell_type": "markdown",
      "source": [
        "Q3. In 3.X, how do you put non-ASCII Unicode characters in a string?"
      ],
      "metadata": {
        "id": "OodT5CzpL-jk"
      }
    },
    {
      "cell_type": "markdown",
      "source": [
        "Ans: In Python 3.x unidecode() method from unidecode library can be used to put non-ASCII Unicode Characters in a string."
      ],
      "metadata": {
        "id": "ktdEV_AjNVyh"
      }
    },
    {
      "cell_type": "code",
      "source": [
        "# Create devanagari transliteration dictionary\n",
        "devanagari_translit_dict = {\n",
        "\t'\\u0905': 'A', '\\u0906': 'AA', '\\u0907': 'I', '\\u0908': 'II',\n",
        "\t'\\u0909': 'U', '\\u090A': 'UU', '\\u090F': 'E', '\\u0910': 'AI',\n",
        "\t'\\u0913': 'O', '\\u0914': 'AU', '\\u0915': 'K', '\\u0916': 'KH',\n",
        "\t'\\u0917': 'G', '\\u0918': 'GH', '\\u0919': 'NG', '\\u091A': 'C',\n",
        "\t'\\u091B': 'CH', '\\u091C': 'J', '\\u091D': 'JH', '\\u091E': 'NY',\n",
        "\t'\\u091F': 'TT', '\\u0920': 'TTH', '\\u0921': 'DD', '\\u0922': 'DDH',\n",
        "\t'\\u0923': 'NN', '\\u0924': 'T', '\\u0925': 'TH', '\\u0926': 'D',\n",
        "\t'\\u0927': 'DH', '\\u0928': 'N', '\\u092A': 'P', '\\u092B': 'PH',\n",
        "\t'\\u092C': 'B', '\\u092D': 'BH', '\\u092E': 'M', '\\u092F': 'Y',\n",
        "\t'\\u0930': 'R', '\\u0932': 'L', '\\u0933': 'LL', '\\u0935': 'V',\n",
        "\t'\\u0936': 'SH', '\\u0937': 'SS', '\\u0938': 'S', '\\u0939': 'H',\n",
        "\t'\\u093E': 'AA', '\\u093F': 'I', '\\u0940': 'II', '\\u0941': 'U',\n",
        "\t'\\u0942': 'UU', '\\u0947': 'E', '\\u0948': 'AI', '\\u094B': 'O',\n",
        "\t'\\u094C': 'AU', '\\u094D': '', '\\u0902': 'n'}\n",
        "\n",
        "# Define function transliterating text\n",
        "def transliterate(text, translit_dict):\n",
        "\tnew_word = ''\n",
        "\tfor letter in text:\n",
        "\t\tnew_letter = ''\n",
        "\t\tif letter in translit_dict:\n",
        "\t\t\tnew_letter = translit_dict[letter]\n",
        "\t\telse:\n",
        "\t\t\tnew_letter = letter\n",
        "\t\tnew_word += new_letter\n",
        "\treturn new_word\n",
        "\n",
        "# Input text in devanagari\n",
        "text = \"आप नीचे अपनी भाषा और इनपुट उपकरण चुनें और लिखना आरंभ करें\"\n",
        "\n",
        "# Obtain Transliterated text for given input text\n",
        "transliterated_text = transliterate(text, devanagari_translit_dict)\n",
        "print(transliterated_text)\n"
      ],
      "metadata": {
        "colab": {
          "base_uri": "https://localhost:8080/"
        },
        "id": "UFvzj5yV2W32",
        "outputId": "86a3fd4b-0a04-4857-f895-b7770f9bea58"
      },
      "execution_count": 19,
      "outputs": [
        {
          "output_type": "stream",
          "name": "stdout",
          "text": [
            "AAP NIICE APNII BHAASSAA AUR INPUTT UPKRNN CUNEn AUR LIKHNAA AARnBH KREn\n"
          ]
        }
      ]
    },
    {
      "cell_type": "markdown",
      "source": [
        "Q4. In Python 3.X, what are the key differences between text-mode and binary-mode files?"
      ],
      "metadata": {
        "id": "V1XbYsgiL-q8"
      }
    },
    {
      "cell_type": "markdown",
      "source": [
        "Ans: The major difference between these two is that a text file contains textual information in the form of alphabets, digits and special characters or symbols. On the other hand, a binary file contains bytes or a compiled version of a text file.\n",
        "\n",
        "When a file is opened in text mode, reading its data automatically decodes its content (as per the platform default or as per provided encoding), and returns it as a str; writing operation takes a str, and automatically encodes it before transferring to the file. Text mode files also support universal end-of-line translation, and encoding specification arguments.\n",
        "\n",
        "When a file is opened in binary mode by adding a b to the mode string argument in the open() call, reading its data does not decode it in any way, and simply returns its content raw and unchanged, as a bytes object; writing takes a bytes object and transfers it to the file unchanged. Binary-mode files also accept a bytearray object for the content to be written to the file."
      ],
      "metadata": {
        "id": "XkpMYwezNxg4"
      }
    },
    {
      "cell_type": "markdown",
      "source": [
        "Q5. How can you interpret a Unicode text file containing text encoded in a different encoding than your platform's default?"
      ],
      "metadata": {
        "id": "tyvYGWWqL-xC"
      }
    },
    {
      "cell_type": "markdown",
      "source": [
        "Ans: Use of encode() and decode() method can be used to you interpret a Unicode text file containing text encoded in a different encoding than your platform's default, by default encoding parameter is UTF-8"
      ],
      "metadata": {
        "id": "ulfiKKN6N2Mw"
      }
    },
    {
      "cell_type": "markdown",
      "source": [
        "Q6. What is the best way to make a Unicode text file in a particular encoding format?"
      ],
      "metadata": {
        "id": "IqzuZFuHL-37"
      }
    },
    {
      "cell_type": "markdown",
      "source": [
        "Ans: Use str.encode() and file.write() to make a Unicode text file in a particular encoding format, default encoding format is UTF-18.\n",
        "\n",
        "1.Call str.encode(encoding) with encoding set to utf8 to encode str\n",
        "2.Call open(file, mode) to open a file with mode set to wb . wb writes to files in binary mode & preserves UTF-8format.\n",
        "3.Call file.write(data) to write data to the file."
      ],
      "metadata": {
        "id": "xt_lRCDsN44K"
      }
    },
    {
      "cell_type": "code",
      "source": [
        "unicode_text = u\"улыбаться Владимир Путин\"\n",
        "encoded_unicode_text = unicode_text.encode(\"utf-8\")\n",
        "print(encoded_unicode_text,end=\"\\n\\n\")\n",
        "\n",
        "w_file = open(\"w_file.txt\",\"wb\")\n",
        "w_file.write(encoded_unicode_text)\n",
        "w_file.close()\n",
        "\n",
        "r_file = open(\"w_file.txt\",\"rb\")\n",
        "data = r_file.read()\n",
        "print(data)"
      ],
      "metadata": {
        "colab": {
          "base_uri": "https://localhost:8080/"
        },
        "id": "YDjIgun_OMxJ",
        "outputId": "6d58478c-d76a-4b34-c216-efdcc8319da4"
      },
      "execution_count": 3,
      "outputs": [
        {
          "output_type": "stream",
          "name": "stdout",
          "text": [
            "b'\\xd1\\x83\\xd0\\xbb\\xd1\\x8b\\xd0\\xb1\\xd0\\xb0\\xd1\\x82\\xd1\\x8c\\xd1\\x81\\xd1\\x8f \\xd0\\x92\\xd0\\xbb\\xd0\\xb0\\xd0\\xb4\\xd0\\xb8\\xd0\\xbc\\xd0\\xb8\\xd1\\x80 \\xd0\\x9f\\xd1\\x83\\xd1\\x82\\xd0\\xb8\\xd0\\xbd'\n",
            "\n",
            "b'\\xd1\\x83\\xd0\\xbb\\xd1\\x8b\\xd0\\xb1\\xd0\\xb0\\xd1\\x82\\xd1\\x8c\\xd1\\x81\\xd1\\x8f \\xd0\\x92\\xd0\\xbb\\xd0\\xb0\\xd0\\xb4\\xd0\\xb8\\xd0\\xbc\\xd0\\xb8\\xd1\\x80 \\xd0\\x9f\\xd1\\x83\\xd1\\x82\\xd0\\xb8\\xd0\\xbd'\n"
          ]
        }
      ]
    },
    {
      "cell_type": "markdown",
      "source": [
        "Q7. What qualifies ASCII text as a form of Unicode text?"
      ],
      "metadata": {
        "id": "XbT4YYInMLGd"
      }
    },
    {
      "cell_type": "markdown",
      "source": [
        "Ans: Unicode represents most written languages in the world. ASCII has its equivalent in Unicode. The difference between ASCII and Unicode is that ASCII represents lowercase letters (a-z), uppercase letters (A-Z), digits (0–9) and symbols such as punctuation marks while Unicode represents letters of English, Arabic, Greek etc. mathematical symbols, historical scripts, emoji covering a wide range of characters than ASCII."
      ],
      "metadata": {
        "id": "c_HnBk2jOKPj"
      }
    },
    {
      "cell_type": "markdown",
      "source": [
        "Q8. How much of an effect does the change in string types in Python 3.X have on your code?"
      ],
      "metadata": {
        "id": "divajKDtMLN8"
      }
    },
    {
      "cell_type": "markdown",
      "source": [
        "Ans: Python 3 stores strings as Unicode by default whereas Python 2 requires you to mark a string with a u if we want to store it as Unicode. Unicode strings are more versatile than ASCII strings, which are the Python 3.X default, as they can store letters from foreign languages as well as emoji and the standard Roman letters and numerals."
      ],
      "metadata": {
        "id": "WOd3XNJdORan"
      }
    }
  ]
}