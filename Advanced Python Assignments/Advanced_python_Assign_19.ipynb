{
  "nbformat": 4,
  "nbformat_minor": 0,
  "metadata": {
    "colab": {
      "provenance": []
    },
    "kernelspec": {
      "name": "python3",
      "display_name": "Python 3"
    },
    "language_info": {
      "name": "python"
    }
  },
  "cells": [
    {
      "cell_type": "markdown",
      "source": [
        "Q1. Define the relationship between a class and its instances. Is it a one-to-one or a one-to-many partnership, for example?"
      ],
      "metadata": {
        "id": "fwsWgDoodDeY"
      }
    },
    {
      "cell_type": "markdown",
      "source": [
        "Ans: Relationship between a class and its instances is a one to many partnership. Object is a physical entity or real word entity. An object occupies space in memory. Example:-banana,chair,pen etc are objects. Class is a logical entity which does not exist in real world. Or we can say that class is a blueprint to create objects of similiar types. A class does not take space in memory. Examples:-fruits,furniture,vehicles etc."
      ],
      "metadata": {
        "id": "YuUllpxNiKGJ"
      }
    },
    {
      "cell_type": "markdown",
      "source": [
        "\n",
        "Q2. What kind of data is held only in an instance?\n"
      ],
      "metadata": {
        "id": "zhdH0sLSdRsf"
      }
    },
    {
      "cell_type": "markdown",
      "source": [
        "Ans: Instance objects contains the Instance variables which are specific to that specific Instance object."
      ],
      "metadata": {
        "id": "uXBg59fniN5d"
      }
    },
    {
      "cell_type": "markdown",
      "source": [
        "Q3. What kind of knowledge is stored in a class?"
      ],
      "metadata": {
        "id": "5hQYr--CdUmy"
      }
    },
    {
      "cell_type": "markdown",
      "source": [
        "Ans: Class creates a user-defined data structure, which holds its own data members and member functions, which can be accessed and used by creating an instance of that class. A class is like a blueprint for an object. Class is a logical entity which does not exist in real world Or we can say that class is a blueprint to create objects of similiar types. A class does not take space in memory. Examples:-fruits,furniture,vehicles etc."
      ],
      "metadata": {
        "id": "Nhi4gHaqiO59"
      }
    },
    {
      "cell_type": "markdown",
      "source": [
        "\n",
        "Q4. What exactly is a method, and how is it different from a regular function?\n"
      ],
      "metadata": {
        "id": "SqdJBYdodXFS"
      }
    },
    {
      "cell_type": "markdown",
      "source": [
        "Ans: The methods with a class can be used to access the insatnce variables of its instance. So,the object's state can be modified by its method. Function can't access the attributes of an instance of a class or can't modify the state of the object. A function is independent, whereas a method is a function linked with an object. Explicit data is passed on to a function, whereas a method completely passes the object on which it was called in the program. A method is Object-oriented programming while a function has standalone functionality"
      ],
      "metadata": {
        "id": "AsXmTMtDiTTQ"
      }
    },
    {
      "cell_type": "markdown",
      "source": [
        "Q5. Is inheritance supported in Python, and if so, what is the syntax?"
      ],
      "metadata": {
        "id": "mrjV_peOdZWY"
      }
    },
    {
      "cell_type": "markdown",
      "source": [
        "Ans: Yes,Python supports inheritance. The Types of Inheritence Supported by Python are:\n",
        "\n",
        "1.Simple Inheritence\n",
        "2.Multiple Inheritence\n",
        "3.Multilevel lInheritence\n",
        "4.Hybrid Inheritence\n",
        "5.Hierracial Inheritence"
      ],
      "metadata": {
        "id": "WmrHmHZAiZPk"
      }
    },
    {
      "cell_type": "code",
      "source": [
        "class Person:\n",
        "    def __init__(self, fname, lname):\n",
        "        self.first_name = fname\n",
        "        self.last_name = lname\n",
        "class Student(Person):\n",
        "    pass"
      ],
      "metadata": {
        "id": "yo_bS5d3iwgJ"
      },
      "execution_count": 1,
      "outputs": []
    },
    {
      "cell_type": "markdown",
      "source": [
        "Q6. How much encapsulation (making instance or class variables private) does Python support?"
      ],
      "metadata": {
        "id": "7Q9-jiUTdcXz"
      }
    },
    {
      "cell_type": "markdown",
      "source": [
        "Ans: Encapsulation describes the idea of wrapping data and the methods that work on data within one unit. This puts restrictions on accessing variables and methods directly and can prevent the accidental modification of data. To prevent accidental change, an objects variable can only be changed by an objects method."
      ],
      "metadata": {
        "id": "bZnwo_ffiixg"
      }
    },
    {
      "cell_type": "markdown",
      "source": [
        "Q7. How do you distinguish between a class variable and an instance variable?"
      ],
      "metadata": {
        "id": "TgDzzM_ndesP"
      }
    },
    {
      "cell_type": "markdown",
      "source": [
        "Ans: The Class Attribute is available to all the instance objects of that class whereas Instance Attributes are accessible only to the object or Instance of that class.\n",
        "\n",
        "A single copy of Class attributes is maintained by pvm at the class level Whereas different copies of instance attributes are maintained by pvm at objects/instance level."
      ],
      "metadata": {
        "id": "rsKiTHxZi12H"
      }
    },
    {
      "cell_type": "markdown",
      "source": [
        "Q8. When, if ever, can self be included in a class's method definitions?"
      ],
      "metadata": {
        "id": "DmCTU8mcdhOv"
      }
    },
    {
      "cell_type": "markdown",
      "source": [
        "Ans: Yes, self can be included in class method definitions to access the instance variables inside class methods."
      ],
      "metadata": {
        "id": "RnCz24nXi41l"
      }
    },
    {
      "cell_type": "markdown",
      "source": [
        "Q9. What is the difference between the _ _add_ _ and the _ _radd_ _ methods?"
      ],
      "metadata": {
        "id": "JeRQ-q3Fdj8f"
      }
    },
    {
      "cell_type": "markdown",
      "source": [
        "Ans: Entering __radd__ Python will first try __add__(), and if that returns Not Implemented Python will check if the right-hand operand implements __radd__, and if it does, it will call __radd__() rather than raising a TypeError.\n",
        "\n",
        "The expression a+b is internally translated to the method call a.add(b). But if a and b are of different types, it is possible that a's implementation of addition cannot deal with objects of b's type (or maybe a does not have a add method, at all). So, if a.add(b) fails, Python tries b.radd(a) instead, to see if b's implementation can deal with objects of a's type."
      ],
      "metadata": {
        "id": "hDC6FEKdi7d4"
      }
    },
    {
      "cell_type": "markdown",
      "source": [
        "Q10. When is it necessary to use a reflection method? When do you not need it, even though you support the operation in question?"
      ],
      "metadata": {
        "id": "4JG3a6lddkDZ"
      }
    },
    {
      "cell_type": "markdown",
      "source": [
        "Ans: Reflection refers to the ability for code to be able to examine attributes about objects that might be passed as parameters to a function. For example, if we write type(obj) then Python will return an object which represents the type of obj. Using reflection, we can write one recursive reverse function that will work for strings, lists, and any other sequence that supports slicing and concatenation. If an obj is a reference to a string, then Python will return the str type object. Further, if we write str() we get a string which is the empty string. In other words, writing str() is the same thing as writing “”. Likewise, writing list() is the same thing as writing []."
      ],
      "metadata": {
        "id": "9EenNmH-i-IO"
      }
    },
    {
      "cell_type": "code",
      "source": [
        "x = 5\n",
        "\n",
        "def testFunction():\n",
        "  print(\"Test\")\n",
        "\n",
        "y = testFunction\n",
        "\n",
        "if (callable(x)):\n",
        "    print(\"x is callable\")\n",
        "else:\n",
        "    print(\"x is not callable\")\n",
        "\n",
        "if (callable(y)):\n",
        "    print(\"y is callable\")\n",
        "else:\n",
        "    print(\"y is not callable\")"
      ],
      "metadata": {
        "colab": {
          "base_uri": "https://localhost:8080/"
        },
        "id": "6cnazM9ZjAwY",
        "outputId": "9e114b12-ac08-4c17-e39f-fd6c8b2e646f"
      },
      "execution_count": 2,
      "outputs": [
        {
          "output_type": "stream",
          "name": "stdout",
          "text": [
            "x is not callable\n",
            "y is callable\n"
          ]
        }
      ]
    },
    {
      "cell_type": "markdown",
      "source": [
        "Q11. What is the _ _iadd_ _ method called?"
      ],
      "metadata": {
        "id": "IZWU4PcydkLR"
      }
    },
    {
      "cell_type": "markdown",
      "source": [
        "Ans: __iadd__ method is called when we use implementation like a+=b which is a.__iadd__(b)"
      ],
      "metadata": {
        "id": "oGT0tXOtjGDx"
      }
    },
    {
      "cell_type": "markdown",
      "source": [
        "\n",
        "Q12. Is the _ _init_ _ method inherited by subclasses? What do you do if you need to customize its behavior within a subclass?\n"
      ],
      "metadata": {
        "id": "SROMKlvCdklJ"
      }
    },
    {
      "cell_type": "markdown",
      "source": [
        "Ans: Yes, __init__ method will be inherited by subclasses. If we want to customize its behaviour within a subclass, we can use super() method."
      ],
      "metadata": {
        "id": "JVk2-bx1jIrJ"
      }
    }
  ]
}