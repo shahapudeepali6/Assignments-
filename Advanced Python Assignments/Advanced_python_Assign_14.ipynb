{
  "nbformat": 4,
  "nbformat_minor": 0,
  "metadata": {
    "colab": {
      "provenance": []
    },
    "kernelspec": {
      "name": "python3",
      "display_name": "Python 3"
    },
    "language_info": {
      "name": "python"
    }
  },
  "cells": [
    {
      "cell_type": "markdown",
      "source": [
        "Q1. Is an assignment operator like += only for show? Is it possible that it would lead to faster results at the runtime?"
      ],
      "metadata": {
        "id": "gM5bjcNPBhB1"
      }
    },
    {
      "cell_type": "markdown",
      "source": [
        "Ans: A=A+1 evaluates to finding A, adding 1 to it. Then storing the value again in variable A. This expression makes Python to look for memory holder of 'a' twice. But A+=1 simply means value of A is to incremented by 1. As memory address has to be identified once, += leads to faster operation."
      ],
      "metadata": {
        "id": "r_pDBWI3HvlZ"
      }
    },
    {
      "cell_type": "markdown",
      "source": [
        "Q2. What is the smallest number of statements you'd have to write in most programming languages to replace the Python expression a, b = a + b, a?"
      ],
      "metadata": {
        "id": "czUR7kbaBqBn"
      }
    },
    {
      "cell_type": "markdown",
      "source": [
        "Ans: Minimum number of lines required to write above code in languages other Python will be 4, two for assigning initial values for variables a and b, and two for reassignment i.e. a=a+b and b=a."
      ],
      "metadata": {
        "id": "0uu_ouQQHw58"
      }
    },
    {
      "cell_type": "markdown",
      "source": [
        "Q3. In Python, what is the most effective way to set a list of 100 integers to 0?"
      ],
      "metadata": {
        "id": "PFI5ECm4BsLN"
      }
    },
    {
      "cell_type": "markdown",
      "source": [
        "Ans: The Most effective way to set a list of 100 integers to 0 in python is by using repition operator(*) or by using list comprehension."
      ],
      "metadata": {
        "id": "ePL1ysQEH0E-"
      }
    },
    {
      "cell_type": "code",
      "source": [
        "# Method 1\n",
        "list_zero=[0]*100\n",
        "print(list_zero)\n",
        "# Method 2\n",
        "zero_list = [0 for x in range(100)]\n",
        "print(zero_list)"
      ],
      "metadata": {
        "colab": {
          "base_uri": "https://localhost:8080/"
        },
        "id": "_i0FaPu-H252",
        "outputId": "d168e1b9-dba0-4e55-d8af-617f83634b5f"
      },
      "execution_count": 1,
      "outputs": [
        {
          "output_type": "stream",
          "name": "stdout",
          "text": [
            "[0, 0, 0, 0, 0, 0, 0, 0, 0, 0, 0, 0, 0, 0, 0, 0, 0, 0, 0, 0, 0, 0, 0, 0, 0, 0, 0, 0, 0, 0, 0, 0, 0, 0, 0, 0, 0, 0, 0, 0, 0, 0, 0, 0, 0, 0, 0, 0, 0, 0, 0, 0, 0, 0, 0, 0, 0, 0, 0, 0, 0, 0, 0, 0, 0, 0, 0, 0, 0, 0, 0, 0, 0, 0, 0, 0, 0, 0, 0, 0, 0, 0, 0, 0, 0, 0, 0, 0, 0, 0, 0, 0, 0, 0, 0, 0, 0, 0, 0, 0]\n",
            "[0, 0, 0, 0, 0, 0, 0, 0, 0, 0, 0, 0, 0, 0, 0, 0, 0, 0, 0, 0, 0, 0, 0, 0, 0, 0, 0, 0, 0, 0, 0, 0, 0, 0, 0, 0, 0, 0, 0, 0, 0, 0, 0, 0, 0, 0, 0, 0, 0, 0, 0, 0, 0, 0, 0, 0, 0, 0, 0, 0, 0, 0, 0, 0, 0, 0, 0, 0, 0, 0, 0, 0, 0, 0, 0, 0, 0, 0, 0, 0, 0, 0, 0, 0, 0, 0, 0, 0, 0, 0, 0, 0, 0, 0, 0, 0, 0, 0, 0, 0]\n"
          ]
        }
      ]
    },
    {
      "cell_type": "markdown",
      "source": [
        "Q4. What is the most effective way to initialise a list of 99 integers that repeats the sequence 1, 2, 3? S If necessary, show step-by-step instructions on how to accomplish this."
      ],
      "metadata": {
        "id": "O3CbxVqlBuel"
      }
    },
    {
      "cell_type": "code",
      "source": [
        "my_list = [1,2,3]*33\n",
        "print(my_list)"
      ],
      "metadata": {
        "colab": {
          "base_uri": "https://localhost:8080/"
        },
        "id": "iBxEdkijIBOB",
        "outputId": "2ec3dd30-95cf-459b-b30f-fbe459fa6092"
      },
      "execution_count": 2,
      "outputs": [
        {
          "output_type": "stream",
          "name": "stdout",
          "text": [
            "[1, 2, 3, 1, 2, 3, 1, 2, 3, 1, 2, 3, 1, 2, 3, 1, 2, 3, 1, 2, 3, 1, 2, 3, 1, 2, 3, 1, 2, 3, 1, 2, 3, 1, 2, 3, 1, 2, 3, 1, 2, 3, 1, 2, 3, 1, 2, 3, 1, 2, 3, 1, 2, 3, 1, 2, 3, 1, 2, 3, 1, 2, 3, 1, 2, 3, 1, 2, 3, 1, 2, 3, 1, 2, 3, 1, 2, 3, 1, 2, 3, 1, 2, 3, 1, 2, 3, 1, 2, 3, 1, 2, 3, 1, 2, 3, 1, 2, 3]\n"
          ]
        }
      ]
    },
    {
      "cell_type": "markdown",
      "source": [
        "Q5. If you're using IDLE to run a Python application, explain how to print a multidimensional list as efficiently?"
      ],
      "metadata": {
        "id": "5D118fqGBw_l"
      }
    },
    {
      "cell_type": "code",
      "source": [
        "my_list = [[1,1],[2,2],[3,3],[4,4],[5,5]] # 2 dimensional List\n",
        "for x in range(len(my_list)):\n",
        "    for y in range(len(my_list[x])):\n",
        "        print(my_list[x][y],end=\" \")"
      ],
      "metadata": {
        "colab": {
          "base_uri": "https://localhost:8080/"
        },
        "id": "fuGvSpHTIGGv",
        "outputId": "728fca2f-f1bf-45c9-bd39-9e10077215b1"
      },
      "execution_count": 3,
      "outputs": [
        {
          "output_type": "stream",
          "name": "stdout",
          "text": [
            "1 1 2 2 3 3 4 4 5 5 "
          ]
        }
      ]
    },
    {
      "cell_type": "markdown",
      "source": [
        "Q6. Is it possible to use list comprehension with a string? If so, how can you go about doing it?"
      ],
      "metadata": {
        "id": "e8sI7py3BztQ"
      }
    },
    {
      "cell_type": "markdown",
      "source": [
        "Ans: List comprehension with string is possible."
      ],
      "metadata": {
        "id": "8YfAWNhXILup"
      }
    },
    {
      "cell_type": "code",
      "source": [
        "my_list = [ele for ele in 'iNeuron']\n",
        "print(my_list)"
      ],
      "metadata": {
        "colab": {
          "base_uri": "https://localhost:8080/"
        },
        "id": "YvN5-dbTIKAI",
        "outputId": "3b786305-0f7e-4387-f8e4-6830ebe2addd"
      },
      "execution_count": 4,
      "outputs": [
        {
          "output_type": "stream",
          "name": "stdout",
          "text": [
            "['i', 'N', 'e', 'u', 'r', 'o', 'n']\n"
          ]
        }
      ]
    },
    {
      "cell_type": "markdown",
      "source": [
        "Q7. From the command line, how do you get support with a user-written Python programme? Is this possible from inside IDLE?"
      ],
      "metadata": {
        "id": "Q_ulaiKlB2iY"
      }
    },
    {
      "cell_type": "markdown",
      "source": [
        "Ans: Get support with a user-written Python Programme: Start a command prompt (Windows) or terminal window (Linux/Mac). If the current working directory is the same as the location in which you saved the file, you can simply specify the filename as a command-line argument to the Python interpreter.\n",
        "\n",
        "Get support with a User-written Python Program from IDLE: You can also create script files and run them in IDLE. From the Shell window menu, select File → New File. That should open an additional editing window. Type in the code to be executed. From the menu in that window, select File → Save or File → Save As… and save the file to disk. Then select Run → Run Module. The output should appear back in the interpreter"
      ],
      "metadata": {
        "id": "N90iGCq_IQ3v"
      }
    },
    {
      "cell_type": "markdown",
      "source": [
        "Q8. Functions are said to be “first-class objects” in Python but not in most other languages, such as C++ or Java. What can you do in Python with a function (callable object) that you can't do in C or C++?"
      ],
      "metadata": {
        "id": "DK-oDfBTB4_5"
      }
    },
    {
      "cell_type": "markdown",
      "source": [
        "Ans: The tasks which can be performed with the functions in python are:\n",
        "\n",
        "1.A function is an instance of the Object type.\n",
        "2.You can store the function in a variable.\n",
        "3.You can pass the function as a parameter to another function.\n",
        "4.You can return the function from a function.\n",
        "5.You can store them in data structures such as hash tables, lists,"
      ],
      "metadata": {
        "id": "im-TMW7LISAv"
      }
    },
    {
      "cell_type": "markdown",
      "source": [
        "\n",
        "Q9. How do you distinguish between a wrapper, a wrapped feature, and a decorator?\n"
      ],
      "metadata": {
        "id": "CrHSsy_dB7lb"
      }
    },
    {
      "cell_type": "markdown",
      "source": [
        "Ans: Wrappers Around the functions are known as Decrators."
      ],
      "metadata": {
        "id": "Jf9qnCTcIexr"
      }
    },
    {
      "cell_type": "markdown",
      "source": [
        "\n",
        "Q10. If a function is a generator function, what does it return?\n"
      ],
      "metadata": {
        "id": "hSkHE1wVB-R1"
      }
    },
    {
      "cell_type": "markdown",
      "source": [
        "Ans: Generator functions are a special kind of function that return a lazy iterator. These are objects that you can loop over like a list. However, unlike lists, lazy iterators do not store their contents in memory."
      ],
      "metadata": {
        "id": "aXeQyDwUIgUO"
      }
    },
    {
      "cell_type": "markdown",
      "source": [
        "Q11. What is the one improvement that must be made to a function in order for it to become a generator function in the Python language?"
      ],
      "metadata": {
        "id": "J9Llk8TpCBF4"
      }
    },
    {
      "cell_type": "markdown",
      "source": [
        "Ans: Generator is a written as normal function but uses yield keyword to return values instead of return keyword."
      ],
      "metadata": {
        "id": "BbknamIKIjpW"
      }
    },
    {
      "cell_type": "markdown",
      "source": [
        "Q12. Identify at least one benefit of generators."
      ],
      "metadata": {
        "id": "kwcaP8giCDjS"
      }
    },
    {
      "cell_type": "markdown",
      "source": [
        "Ans: return statement sends a specified value back to its caller whereas yield statment can produce a sequence of values. We should use generator when we want to iterate over a sequence, but don’t want to store the entire sequence in memory."
      ],
      "metadata": {
        "id": "5LJFaUCPIm7V"
      }
    }
  ]
}