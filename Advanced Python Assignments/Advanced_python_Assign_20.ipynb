{
  "nbformat": 4,
  "nbformat_minor": 0,
  "metadata": {
    "colab": {
      "provenance": []
    },
    "kernelspec": {
      "name": "python3",
      "display_name": "Python 3"
    },
    "language_info": {
      "name": "python"
    }
  },
  "cells": [
    {
      "cell_type": "markdown",
      "source": [
        "Question.1. Compare and contrast the float and Decimal classes' benefits and drawbacks.\n"
      ],
      "metadata": {
        "id": "_XywOqH93nDN"
      }
    },
    {
      "cell_type": "markdown",
      "source": [
        "Ans: Both the float and decimal types store numerical values in Python.\n",
        "\n",
        "We use floats when convenience and speed matter. A float gives us an approximation of the number we declare.\n",
        "\n",
        "We use decimals when precision matters. Decimals can suffer from their own precision issues, but generally, decimals are more precise than floats. The performance difference between float and decimal, with Python 3, is not outlandish, and in my experience, the precision benefits of a decimal outweigh the performance benefits of a float."
      ],
      "metadata": {
        "id": "IRNWu5JE72Bd"
      }
    },
    {
      "cell_type": "markdown",
      "source": [
        "Question.2. Decimal('1.200') and Decimal('1.2') are two objects to consider. In what sense are these the same object? Are these just two ways of representing the exact same value, or do they correspond to different internal states?"
      ],
      "metadata": {
        "id": "oJPZO9c63oT1"
      }
    },
    {
      "cell_type": "markdown",
      "source": [
        "Ans: Both values are same but internal representation at storage Is different. Precsion differs, Decimal('1.200') gives internally 1.200 and Decimal('1.2') gives 1.2."
      ],
      "metadata": {
        "id": "kMfBm64977t1"
      }
    },
    {
      "cell_type": "markdown",
      "source": [
        "Question.3. What happens if the equality of Decimal('1.200') and Decimal('1.2') is checked?"
      ],
      "metadata": {
        "id": "2z0mB5Yd3qHq"
      }
    },
    {
      "cell_type": "markdown",
      "source": [
        "Ans: Both values are same but internal representation at storage Is different. Precsion differs, Decimal('1.200') gives internally 1.200 and Decimal('1.2') gives 1.2."
      ],
      "metadata": {
        "id": "3dFWAxfD7-8H"
      }
    },
    {
      "cell_type": "markdown",
      "source": [
        "Question.4. Why is it preferable to start a Decimal object with a string rather than a floating-point value?\n"
      ],
      "metadata": {
        "id": "_XYpigct3rOT"
      }
    },
    {
      "cell_type": "markdown",
      "source": [
        "Ans: Floating-point value is converted to Decimal format. Decimal can store float value with absolute precision. But when float value is given as Decimal object,it first has to be converted from floating point value which might already have rounding error.\n",
        "\n",
        "Hence it is preferable to start a Decimal object with a string."
      ],
      "metadata": {
        "id": "PB5emT358Cl8"
      }
    },
    {
      "cell_type": "markdown",
      "source": [
        "Question.5. In an arithmetic phrase, how simple is it to combine Decimal objects with integers?"
      ],
      "metadata": {
        "id": "tKoZ7vnw3r-y"
      }
    },
    {
      "cell_type": "markdown",
      "source": [
        "Ans: We can do it with use of Decimal()."
      ],
      "metadata": {
        "id": "8CAifYEX8GxB"
      }
    },
    {
      "cell_type": "markdown",
      "source": [
        "Question.6. Can Decimal objects and floating-point values be combined easily?\n"
      ],
      "metadata": {
        "id": "AgkQIL523siR"
      }
    },
    {
      "cell_type": "markdown",
      "source": [
        "Ans: Arithmetic operfations like Adding,subtracting or multiplying a Decimal object by a floating-point value generates an error.\n",
        "\n",
        "To do these operations, the floating point has to be converted to a Decimal."
      ],
      "metadata": {
        "id": "nGfemNPI8J3Q"
      }
    },
    {
      "cell_type": "markdown",
      "source": [
        "Question.7. Using the Fraction class but not the Decimal class, give an example of a quantity that can be expressed with absolute precision.\n"
      ],
      "metadata": {
        "id": "j0ce_X6Z3td6"
      }
    },
    {
      "cell_type": "markdown",
      "source": [
        "Ans: Value of 0.5 will be represented as ½."
      ],
      "metadata": {
        "id": "8prSOQhS8Nn-"
      }
    },
    {
      "cell_type": "markdown",
      "source": [
        "Question.8. Describe a quantity that can be accurately expressed by the Decimal or Fraction classes but not by a floating-point value."
      ],
      "metadata": {
        "id": "CSIWI0y43uEO"
      }
    },
    {
      "cell_type": "markdown",
      "source": [
        "Ans: Both will be reduced to 1/2"
      ],
      "metadata": {
        "id": "VBH6sSd08SNv"
      }
    },
    {
      "cell_type": "markdown",
      "source": [
        "Question.Q9.Consider the following two fraction objects: Fraction(1, 2) and Fraction(1, 2). (5, 10). Is the internal state of these two objects the same? Why do you think that is?"
      ],
      "metadata": {
        "id": "klaZQIpL3xXI"
      }
    },
    {
      "cell_type": "markdown",
      "source": [
        "Ans: Fraction class and integer type(int) are related in form of a container. It contains two ints, one in the numerator and the other in the denominator"
      ],
      "metadata": {
        "id": "6e3sHjkP8Ve9"
      }
    },
    {
      "cell_type": "markdown",
      "source": [
        "Question.Q10. How do the Fraction class and the integer type (int) relate to each other? Containment or inheritance?"
      ],
      "metadata": {
        "id": "aayCO0kf3x9-"
      }
    },
    {
      "cell_type": "markdown",
      "source": [
        "Ans: A Fraction instance can be constructed from a pair of integers, from another rational number, or from a string. The Fraction class inherits from the abstract base class numbers."
      ],
      "metadata": {
        "id": "8_lvw1n28g-9"
      }
    }
  ]
}