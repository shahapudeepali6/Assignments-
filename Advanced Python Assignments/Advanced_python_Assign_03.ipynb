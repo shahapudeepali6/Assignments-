{
  "nbformat": 4,
  "nbformat_minor": 0,
  "metadata": {
    "colab": {
      "provenance": []
    },
    "kernelspec": {
      "name": "python3",
      "display_name": "Python 3"
    },
    "language_info": {
      "name": "python"
    }
  },
  "cells": [
    {
      "cell_type": "markdown",
      "source": [
        "1. What is the concept of an abstract superclass?"
      ],
      "metadata": {
        "id": "hh69cuWE_q4Y"
      }
    },
    {
      "cell_type": "markdown",
      "source": [
        "Answer=An abstract class can be considered a blueprint for other classes. It allows you to create a set of methods that must be created within any child classes built from the abstract class. A class that contains one or more abstract methods is called an abstract class. An abstract method is a method that has a declaration but does not have an implementation. While we are designing large functional units we use an abstract class. When we want to provide a common interface for different implementations of a component, we use an abstract class."
      ],
      "metadata": {
        "id": "Dk2a_4PcA0-D"
      }
    },
    {
      "cell_type": "code",
      "source": [
        "import abc\n",
        "\n",
        "class parent:\n",
        "    def geeks(self):\n",
        "        pass\n",
        "\n",
        "class child(parent):\n",
        "    def geeks(self):\n",
        "        print(\"child class\")\n",
        "\n",
        "# Driver code\n",
        "print( issubclass(child, parent))\n",
        "print( isinstance(child(), parent))"
      ],
      "metadata": {
        "colab": {
          "base_uri": "https://localhost:8080/"
        },
        "id": "a4Z4C1PtBMTb",
        "outputId": "5f60d79a-6c8c-4bff-a301-151105cd23dd"
      },
      "execution_count": 1,
      "outputs": [
        {
          "output_type": "stream",
          "name": "stdout",
          "text": [
            "True\n",
            "True\n"
          ]
        }
      ]
    },
    {
      "cell_type": "markdown",
      "source": [
        "2. What happens when a class statement's top level contains a basic assignment statement?"
      ],
      "metadata": {
        "id": "OEyC-hco_srS"
      }
    },
    {
      "cell_type": "markdown",
      "source": [
        "Answer= When a Class statement's top level contains a basic assignment statement, it is usually treated as a class attribute or class level variable where as assignment statements inside methods are treated as instance attributes or local attributes.\n",
        "\n",
        "When an instance of a class is created, a single copy of class attributes is maintained and shared to all instances of class where as each instance object maintains its own copy of instance variables."
      ],
      "metadata": {
        "id": "mZMdLdXjA0EK"
      }
    },
    {
      "cell_type": "code",
      "source": [
        "class Human:\n",
        "    species = 'Homesapiens' # class attribute\n",
        "    def __init__(self,name,gender):\n",
        "        self.name = name # instance attributes\n",
        "        self.gender = gender"
      ],
      "metadata": {
        "id": "Zsp8wMFkBZwg"
      },
      "execution_count": 2,
      "outputs": []
    },
    {
      "cell_type": "markdown",
      "source": [
        "\n",
        "3. Why does a class need to manually call a superclass's __init__ method?\n"
      ],
      "metadata": {
        "id": "iCpL4QZ0_vw8"
      }
    },
    {
      "cell_type": "markdown",
      "source": [
        "Answer= if a child class has __init__ method, then it will not inherit the __init__ method of the parent class. In other words the __init__ method of the child class overrides the __init__ method of the parent class. So, we have to manually call a parent superclass's __init__ using super() method"
      ],
      "metadata": {
        "id": "LqgTMwIaBdYp"
      }
    },
    {
      "cell_type": "code",
      "source": [
        "class Human:\n",
        "    def __init__(self,name,age):\n",
        "        self.name = name\n",
        "        self.age = age\n",
        "class Employee(Human):\n",
        "    def __init__(self,name,age,salary):\n",
        "        super().__init__(name,age)\n",
        "        self.salary = salary\n",
        "emp_1 = Employee('Ankit',22,50000)\n",
        "print(emp_1.__dict__)"
      ],
      "metadata": {
        "colab": {
          "base_uri": "https://localhost:8080/"
        },
        "id": "D0j5YUchBisK",
        "outputId": "e3aace2f-5f5a-4ffb-a04c-8ba84c9b1387"
      },
      "execution_count": 3,
      "outputs": [
        {
          "output_type": "stream",
          "name": "stdout",
          "text": [
            "{'name': 'Ankit', 'age': 22, 'salary': 50000}\n"
          ]
        }
      ]
    },
    {
      "cell_type": "markdown",
      "source": [
        "4. How can you augment, instead of completely replacing, an inherited method?"
      ],
      "metadata": {
        "id": "-3mOMvpc_ys0"
      }
    },
    {
      "cell_type": "markdown",
      "source": [
        "Answer= super() method can be used to augment, instead of completely replacing, an inherited method."
      ],
      "metadata": {
        "id": "woUncNaVBsly"
      }
    },
    {
      "cell_type": "code",
      "source": [
        "class Human:\n",
        "    def __init__(self,name,gender):\n",
        "        self.name = name\n",
        "        self.gender = gender\n",
        "class Employee(Human):\n",
        "    def __init__(self,name,gender,salary):\n",
        "        super().__init__(name,gender)\n",
        "        self.salary = salary\n",
        "emp_1 = Employee('Meera','Female',60000)\n",
        "print(emp_1.__dict__)"
      ],
      "metadata": {
        "colab": {
          "base_uri": "https://localhost:8080/"
        },
        "id": "NxXqLZ45Cfp5",
        "outputId": "f09837ce-4e15-4fbb-aa2b-9b75ca3a6ddb"
      },
      "execution_count": 4,
      "outputs": [
        {
          "output_type": "stream",
          "name": "stdout",
          "text": [
            "{'name': 'Meera', 'gender': 'Female', 'salary': 60000}\n"
          ]
        }
      ]
    },
    {
      "cell_type": "markdown",
      "source": [
        "\n",
        "5. How is the local scope of a class different from that of a function?\n"
      ],
      "metadata": {
        "id": "bOhriwHX_1N4"
      }
    },
    {
      "cell_type": "markdown",
      "source": [
        "Answer= A Variable which is defined inside a function is local to that function. It is accesible from the point at which it is defined until the end of the function, and exists for as long as the function is existing.\n",
        "\n",
        "Similary a variable inside of a class also has a local variable scope. Variables which are defined in the class body (but outside all methods) are called as class level variables or class attributes. They can be referenced by their bare names within the same scope, but they can also be accessed from outside this scope if we use the attribute access operator (.) on a class or an instance of the class."
      ],
      "metadata": {
        "id": "-it8sQx2CwcO"
      }
    },
    {
      "cell_type": "code",
      "source": [
        "def hello(name):\n",
        "    name = name\n",
        "    print(f'you\\'re name is {name}')\n",
        "hello('Meera Sharma')\n",
        "try:\n",
        "    name\n",
        "except NameError:\n",
        "    print('Name varible is not available outside hello function scope')\n",
        "\n",
        "class Person:\n",
        "    species = \"HomeSapiens\"\n",
        "    def __init__(self):\n",
        "        pass\n",
        "print(Person.species) # Accessing species using class name\n",
        "Female= Person()\n",
        "print(Female.species) # Accessing species using instance of class"
      ],
      "metadata": {
        "colab": {
          "base_uri": "https://localhost:8080/"
        },
        "id": "MnTuTKdMC2dV",
        "outputId": "584b702e-35c8-42e6-8544-55348a7b5507"
      },
      "execution_count": 6,
      "outputs": [
        {
          "output_type": "stream",
          "name": "stdout",
          "text": [
            "you're name is Meera Sharma\n",
            "Name varible is not available outside hello function scope\n",
            "HomeSapiens\n",
            "HomeSapiens\n"
          ]
        }
      ]
    }
  ]
}