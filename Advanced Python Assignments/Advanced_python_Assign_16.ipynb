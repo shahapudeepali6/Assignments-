{
  "nbformat": 4,
  "nbformat_minor": 0,
  "metadata": {
    "colab": {
      "provenance": []
    },
    "kernelspec": {
      "name": "python3",
      "display_name": "Python 3"
    },
    "language_info": {
      "name": "python"
    }
  },
  "cells": [
    {
      "cell_type": "markdown",
      "source": [
        "Q1. What is the benefit of regular expressions?"
      ],
      "metadata": {
        "id": "GRwDp7g2bPJJ"
      }
    },
    {
      "cell_type": "markdown",
      "source": [
        "Ans: Regular Expressions, also known as regex or regexp, are used to match strings of text such as particular characters, words, or patterns of characters. It means that we can match and extract any string pattern from the text with the help of regular expressions. it helps the programmers to Write less and cleaner code. it also avoids multiple use of if/else statements. Regular expressions are a powerful feature of any language and solve a particular class of problems extraordinarily well. They can be used to validate user input, extract relevant data from a string, or even modify a string based on its contents.\n",
        "\n",
        "Python's regular expression library is called \"re\" and is based on Perl's regular expression engine, which is pretty much an industry standard now."
      ],
      "metadata": {
        "id": "oK65LKLUeHLl"
      }
    },
    {
      "cell_type": "markdown",
      "source": [
        "Q2. Describe the difference between the effects of \"(ab)c+\" and \"a(bc)+.\" Which of these, if any, is the unqualified pattern \"abc+\"?"
      ],
      "metadata": {
        "id": "SIPMhORtbXkK"
      }
    },
    {
      "cell_type": "markdown",
      "source": [
        "Ans: Both (ab)c+ and a(bc)+ are valid patterns. The difference between both these patterns is that in (ab)c+ ab is a group whereas in a(bc)+ bc is a group. Capturing groups are a way to treat multiple characters as a single unit. They are created by placing the characters to be grouped inside a set of parentheses."
      ],
      "metadata": {
        "id": "2yO2NItreH7f"
      }
    },
    {
      "cell_type": "markdown",
      "source": [
        "Q3. How much do you need to use the following sentence while using regular expressions?\n",
        "\n",
        "\n",
        "\n",
        "import re\n"
      ],
      "metadata": {
        "id": "zvVhC_n7bZ5O"
      }
    },
    {
      "cell_type": "markdown",
      "source": [
        "Ans: import re statement always has to be imported before using regular expressions. In a program, we need to import this once so that we can use Regular Expressions subsequently."
      ],
      "metadata": {
        "id": "C5wIXcsteIxf"
      }
    },
    {
      "cell_type": "markdown",
      "source": [
        "Q4. Which characters have special significance in square brackets when expressing a range, and under what circumstances?"
      ],
      "metadata": {
        "id": "Tq5lctg-bfiP"
      }
    },
    {
      "cell_type": "markdown",
      "source": [
        "Ans: The Characters .,*,?,^,or,(), have a special signiface when used with square brackets. They need not be be explicitly escaped by \\ as in case of pattern texts in a raw string. Range in Regular Expressions Ranges of characters can be indicated by giving two characters and separating them by a ‘-‘, for example [a-z] will match any lowercase ASCII letter, [0-5][0-9] will match all the two-digits numbers from 00 to 59."
      ],
      "metadata": {
        "id": "IDLpe2mseJsl"
      }
    },
    {
      "cell_type": "markdown",
      "source": [
        "Q5. How does compiling a regular-expression object benefit you?"
      ],
      "metadata": {
        "id": "KqsGTH6abicE"
      }
    },
    {
      "cell_type": "markdown",
      "source": [
        "Ans: We can Combine a regular expression pattern into pattern Objects which can be used for pattern matching. It also helps to search a pattern again without rewriting it."
      ],
      "metadata": {
        "id": "0wFU0FfOeLDl"
      }
    },
    {
      "cell_type": "markdown",
      "source": [
        "Q6. What are some examples of how to use the match object returned by re.match and re.search?"
      ],
      "metadata": {
        "id": "5NqWE53abmvL"
      }
    },
    {
      "cell_type": "markdown",
      "source": [
        "Ans: The re.search() and re.match() both are functions of re module in python. These functions are very efficient and fast for searching in strings. The function searches for some substring in a string and returns a match object if found, else it returns none.\n",
        "\n",
        "There is a difference between the use of both functions. Both return the first match of a substring found in the string, but re.match() searches only from the beginning of the string and return match object if found. But if a match of substring is found somewhere in the middle of the string, it returns none.\n",
        "\n",
        "Where as re.search() searches for the whole string even if the string contains multi-lines and tries to find a match of the substring in all the lines of string"
      ],
      "metadata": {
        "id": "3xGm_1j-eMEM"
      }
    },
    {
      "cell_type": "code",
      "source": [
        "import re\n",
        "Substring ='string'\n",
        "String1 ='We are learning regex with iNeuron. Regex is very useful for string matching. It is fast too.'\n",
        "String2 ='string We are learning regex with iNeuron. Regex is very useful for string matching. It is fast too.'\n",
        "print(re.search(Substring, String1, re.IGNORECASE))\n",
        "print(re.match(Substring, String1, re.IGNORECASE))\n",
        "print(re.search(Substring, String2, re.IGNORECASE))\n",
        "print(re.match(Substring, String2, re.IGNORECASE))"
      ],
      "metadata": {
        "colab": {
          "base_uri": "https://localhost:8080/"
        },
        "id": "vL2rpDxqgG-i",
        "outputId": "cff75b1c-71fe-401c-d866-574b35429f7e"
      },
      "execution_count": 1,
      "outputs": [
        {
          "output_type": "stream",
          "name": "stdout",
          "text": [
            "<re.Match object; span=(61, 67), match='string'>\n",
            "None\n",
            "<re.Match object; span=(0, 6), match='string'>\n",
            "<re.Match object; span=(0, 6), match='string'>\n"
          ]
        }
      ]
    },
    {
      "cell_type": "markdown",
      "source": [
        "Q7. What is the difference between using a vertical bar (|) as an alteration and using square brackets as a character set?"
      ],
      "metadata": {
        "id": "OgmLD4Qqbnir"
      }
    },
    {
      "cell_type": "markdown",
      "source": [
        "\n",
        "Ans: When | us used then patterns searches for or option. i.e <pattern_1>|<pattern_2> means it searches as <pattern_1>or<<pattern_2> in the searched string. The first occurance of matched string will be returned as the Match Object. Using Character set in square Brackets searches for all the character set in the square bracket and if match is found, it returns it.\n"
      ],
      "metadata": {
        "id": "Elgdi-y2eMyz"
      }
    },
    {
      "cell_type": "markdown",
      "source": [
        "\n",
        "\n",
        "Q8. In regular-expression search patterns, why is it necessary to use the raw-string indicator (r)? In   replacement strings?\n"
      ],
      "metadata": {
        "id": "WAnklYWBbptD"
      }
    },
    {
      "cell_type": "markdown",
      "source": [
        "Ans: Raw Strings are used in the regular-expression search patterns, so that backslash do not have to be escaped. When one wants to match a literal backslash, it must be escaped in the regular expression. With raw string notation, this means r\"\\\". Without raw string notation, one must use 4 times back slashes"
      ],
      "metadata": {
        "id": "m8TAFWrCeN3E"
      }
    }
  ]
}