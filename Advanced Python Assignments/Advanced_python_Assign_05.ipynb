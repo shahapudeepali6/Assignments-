{
  "nbformat": 4,
  "nbformat_minor": 0,
  "metadata": {
    "colab": {
      "provenance": []
    },
    "kernelspec": {
      "name": "python3",
      "display_name": "Python 3"
    },
    "language_info": {
      "name": "python"
    }
  },
  "cells": [
    {
      "cell_type": "markdown",
      "source": [
        "Q1. What is the meaning of multiple inheritance?"
      ],
      "metadata": {
        "id": "Z_owgOIt57XB"
      }
    },
    {
      "cell_type": "markdown",
      "source": [
        "Ans: Inheritence is nothing but reusing the code of Parent class by the child class. Similary when a child class inherits its properties from multiple Parent classes this scenario is called Multiple Inheritence. Multiple inheritance is a feature of some object-oriented computer programming languages in which an object or class can inherit features from more than one parent object or parent class. It is distinct from single inheritance, where an object or class may only inherit from one particular object or class."
      ],
      "metadata": {
        "id": "rjt0lZdz6mS6"
      }
    },
    {
      "cell_type": "code",
      "source": [
        "class Parent_1:\n",
        "    pass\n",
        "class Parent_2:\n",
        "    pass\n",
        "class child(Parent_1,Parent_2):\n",
        "    pass"
      ],
      "metadata": {
        "id": "NOyCfkdc6nHz"
      },
      "execution_count": 1,
      "outputs": []
    },
    {
      "cell_type": "markdown",
      "source": [
        "Q2. What is the concept of delegation?"
      ],
      "metadata": {
        "id": "kECmYmy56CrT"
      }
    },
    {
      "cell_type": "markdown",
      "source": [
        "Ans: Delegation provides a proxy object for any class that we want on top of the main class. It is like a wrapper to our class so that we can access limited resources of the main class.\n",
        "\n",
        "It wraps the object of main class into a smaller object with limited access\n",
        "\n",
        "In simple terms, Delegation means that we can include an instance of another class as an instance variable, and forward messages to the instance."
      ],
      "metadata": {
        "id": "sT3cVFs36qqw"
      }
    },
    {
      "cell_type": "code",
      "source": [
        "class Myclass:\n",
        "    def sayHi(self):\n",
        "        print('Hey i am back')\n",
        "    def whoAmI(self):\n",
        "        print('Iam the main class')\n",
        "class NewClass:\n",
        "    def __init__(self,obj):\n",
        "        self.main = obj\n",
        "    def welcome(self):\n",
        "        self.main.sayHi()\n",
        "\n",
        "m = Myclass()\n",
        "n = NewClass(m)\n",
        "m.sayHi()\n",
        "n.main.sayHi()\n",
        "n.welcome()\n",
        "n.main.whoAmI()"
      ],
      "metadata": {
        "colab": {
          "base_uri": "https://localhost:8080/"
        },
        "id": "2ph7LJE17Rnr",
        "outputId": "de1364e7-ae93-4ea9-a6af-1e3e1e4ad1d4"
      },
      "execution_count": 2,
      "outputs": [
        {
          "output_type": "stream",
          "name": "stdout",
          "text": [
            "Hey i am back\n",
            "Hey i am back\n",
            "Hey i am back\n",
            "Iam the main class\n"
          ]
        }
      ]
    },
    {
      "cell_type": "markdown",
      "source": [
        "\n",
        "Q3. What is the concept of composition?\n"
      ],
      "metadata": {
        "id": "80teoxJr6FQl"
      }
    },
    {
      "cell_type": "markdown",
      "source": [
        "Ans: In the concept of Composition, a class refers to one or more other classes by using instances of those classes as an instance variable. Irrespective of inheritence, In this approach all the parent class members are not inherited into child class, but only required methods from a class are used by using class instances."
      ],
      "metadata": {
        "id": "_aJRysYD7TDg"
      }
    },
    {
      "cell_type": "code",
      "source": [
        "class Salary:\n",
        "    def __init__(self,pay):\n",
        "        self.pay = pay\n",
        "    def get_total(self):\n",
        "        return self.pay*12\n",
        "\n",
        "class Employee:\n",
        "    def __init__(self,pay,bonus):\n",
        "        self.pay = pay\n",
        "        self.bonus = bonus\n",
        "        self.obj_salary = Salary(self.pay)\n",
        "    def annual_salary(self):\n",
        "        return f'Total Salary : {str(self.obj_salary.get_total())}'\n",
        "\n",
        "obj_emp = Employee(1800,1500)\n",
        "print(obj_emp.annual_salary())"
      ],
      "metadata": {
        "colab": {
          "base_uri": "https://localhost:8080/"
        },
        "id": "39iTZrluEG0M",
        "outputId": "2ef235a5-51db-4445-da39-9713e8b8ae92"
      },
      "execution_count": 4,
      "outputs": [
        {
          "output_type": "stream",
          "name": "stdout",
          "text": [
            "Total Salary : 21600\n"
          ]
        }
      ]
    },
    {
      "cell_type": "markdown",
      "source": [
        "Q4. What are bound methods and how do we use them?"
      ],
      "metadata": {
        "id": "FF8dCR_c6HkZ"
      }
    },
    {
      "cell_type": "markdown",
      "source": [
        "Ans: A bound method is the one which is dependent on the instance of the class as the first argument. It passes the instance as the first argument which is used to access the variables and functions. In Python 3 and newer versions of python, all functions in the class are by default bound methods."
      ],
      "metadata": {
        "id": "0kxnrs4c7ZI9"
      }
    },
    {
      "cell_type": "code",
      "source": [
        "\n",
        "class A:\n",
        "\n",
        "    def func(self, arg):\n",
        "        self.arg = arg\n",
        "        print(\"Value of arg = \", arg)\n",
        "\n",
        "\n",
        "# Creating an instance\n",
        "obj = A()\n",
        "\n",
        "# bound method\n",
        "print(obj.func)"
      ],
      "metadata": {
        "colab": {
          "base_uri": "https://localhost:8080/"
        },
        "id": "QalbZmla82Ew",
        "outputId": "2f0f050a-90fb-4aa1-b1ea-2567114f4d0a"
      },
      "execution_count": 3,
      "outputs": [
        {
          "output_type": "stream",
          "name": "stdout",
          "text": [
            "<bound method A.func of <__main__.A object at 0x7b7889c4e500>>\n"
          ]
        }
      ]
    },
    {
      "cell_type": "markdown",
      "source": [
        "Q5. What is the purpose of pseudoprivate attributes?"
      ],
      "metadata": {
        "id": "Sgv1-RIF6Hqm"
      }
    },
    {
      "cell_type": "markdown",
      "source": [
        "Ans:One of the main problems that the pseudoprivate attribute feature is meant to alleviate has to do with the way instance attributes are stored. In Python, all instance attributes wind up in the single instance object at the bottom of the class tree. This is different from the C++ model, where each class gets its own space for data members it defines.\n",
        "\n",
        "Within a class method in Python, whenever a method assigns to a self attribute (e.g., self.attr = value), it changes or creates an attribute in the instance (inheritance searches happen only on reference, not on assignment). Because this is true even if multiple classes in a hierarchy assign to the same attribute, collisions are possible."
      ],
      "metadata": {
        "id": "ggX3SC369Bp-"
      }
    },
    {
      "cell_type": "code",
      "source": [
        "class Super:\n",
        "    def method(self): # A real application method\n",
        "        pass\n",
        "class Tool:\n",
        "    def _method(self): # becomes _Tool_method\n",
        "        pass\n",
        "    def other(self): # uses internal method\n",
        "        self._method()\n",
        "class Subl(Tool,Super):\n",
        "    def actions(self):\n",
        "        self.method()\n",
        "class Sub2(Tool):\n",
        "    def __init__(self):\n",
        "        self.method = 99"
      ],
      "metadata": {
        "id": "EKatHx7i9VPz"
      },
      "execution_count": 5,
      "outputs": []
    }
  ]
}