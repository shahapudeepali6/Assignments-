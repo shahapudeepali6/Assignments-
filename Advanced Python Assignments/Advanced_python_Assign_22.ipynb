{
  "nbformat": 4,
  "nbformat_minor": 0,
  "metadata": {
    "colab": {
      "provenance": []
    },
    "kernelspec": {
      "name": "python3",
      "display_name": "Python 3"
    },
    "language_info": {
      "name": "python"
    }
  },
  "cells": [
    {
      "cell_type": "markdown",
      "source": [
        "Q1. What are the benefits of the built-in array package, if any?"
      ],
      "metadata": {
        "id": "_jXSQaUg5G4Y"
      }
    },
    {
      "cell_type": "markdown",
      "source": [
        "Ans: Arrays represent multiple data items of the same type using a single name. In arrays, the elements can be accessed randomly by using the index number. Arrays allocate memory in contiguous memory locations for all its elements. Hence, there is no chance of extra memory being allocated in case of arrays. This avoids memory overflow or shortage of memory in arrays.\n",
        "\n",
        "Lists and NumPy Arrays usually are much better alternatives. That’s also the reason why rarely people knows Python has a built-in Array type.\n",
        "\n",
        "However, when something is restricted, it must bring some benefits. That is the so-call “trade-off”. In this case, Python Array will have a smaller size than Python List. This is demonstrated below."
      ],
      "metadata": {
        "id": "kaR06oOE9kaQ"
      }
    },
    {
      "cell_type": "code",
      "source": [
        "from array import array\n",
        "list_large = list(range(0, 100000))\n",
        "arr_large = array('I', list_large)\n",
        "\n",
        "arr_large.__sizeof__()  #Size comes out to be 400064\n",
        "list_large.__sizeof__() #Size comes out to be 900088"
      ],
      "metadata": {
        "colab": {
          "base_uri": "https://localhost:8080/"
        },
        "id": "Ql0d6b4P9mJ2",
        "outputId": "6550fc5d-0cd6-49a9-d0e8-2bf3e98a1f0e"
      },
      "execution_count": 1,
      "outputs": [
        {
          "output_type": "execute_result",
          "data": {
            "text/plain": [
              "800040"
            ]
          },
          "metadata": {},
          "execution_count": 1
        }
      ]
    },
    {
      "cell_type": "code",
      "source": [
        "#Using Built in Array\n",
        "import array as built_in\n",
        "array1 = built_in.array('i', [1, 2])\n",
        "array1.append(3)\n",
        "array1.append(4)\n",
        "print(array1)"
      ],
      "metadata": {
        "colab": {
          "base_uri": "https://localhost:8080/"
        },
        "id": "gURSOwpF9rsy",
        "outputId": "246b305d-9924-4314-8a59-9ab62f5d8995"
      },
      "execution_count": 2,
      "outputs": [
        {
          "output_type": "stream",
          "name": "stdout",
          "text": [
            "array('i', [1, 2, 3, 4])\n"
          ]
        }
      ]
    },
    {
      "cell_type": "markdown",
      "source": [
        "\n",
        "Q2. What are some of the array package's limitations?\n"
      ],
      "metadata": {
        "id": "sEvE1pR15NqL"
      }
    },
    {
      "cell_type": "markdown",
      "source": [
        "Ans:\n",
        "\n",
        "1.The number of elements to be stored in an array should be known in advance.An array is a static structure (which means the array is of fixed size). Once declared the size of the array cannot be modified. The memory which is allocated to it cannot be increased or decreased.\n",
        "\n",
        "2.Insertion and deletion are quite difficult in an array as the elements are stored in consecutive memory locations and the shifting operation is costly.\n",
        "\n",
        "3.Allocating more memory than the requirement leads to wastage of memory space and less allocation of memory also leads to a problem"
      ],
      "metadata": {
        "id": "Gpi2dZ079vSZ"
      }
    },
    {
      "cell_type": "markdown",
      "source": [
        "Q3. Describe the main differences between the array and numpy packages."
      ],
      "metadata": {
        "id": "Az3WqJ8Y5QNB"
      }
    },
    {
      "cell_type": "markdown",
      "source": [
        "Ans: The array package doesn't provide any help with numerical calculation with the items insdie it in number form while NumPy give you a wide variety of numerical operations.\n",
        "\n",
        "An array is a single dimensional entity which hold the numerical data, while numpy can have more than 1 dimension.\n",
        "\n",
        "In case of array, item can be accessed by its index position and it is easy task while in numpy item is accessed by its column and row index, which makes it slightly time taking. Same goes with appending operation.\n",
        "\n",
        "In case of array we do not form a tabular structure, while in numpy it forms a tabular structure"
      ],
      "metadata": {
        "id": "4zx0Wzeo915s"
      }
    },
    {
      "cell_type": "markdown",
      "source": [
        "\n",
        "Q4. Explain the distinctions between the empty, ones, and zeros functions.\n"
      ],
      "metadata": {
        "id": "bkc97jAo5SWH"
      }
    },
    {
      "cell_type": "markdown",
      "source": [
        "Ans: The distinctions between the empty, ones, and zero functions are as follows :\n",
        "\n",
        "1.Empty function: An empty function is a function that does not contain any statement within its body. If you try to write a function definition without any statement in python ,it will return an error. To avoid this, we use pass statement. pass is a special statement in Python that does nothing. It only works as a dummy statement.\n",
        "2.Ones: This function returns a new array of given shape and data type, where the element’s value is 1.\n",
        "3.Zeros: This function returns a new array of given shape and data type, where the element’s value is 0."
      ],
      "metadata": {
        "id": "b27YdF8197h4"
      }
    },
    {
      "cell_type": "markdown",
      "source": [
        "Q5. In the fromfunction function, which is used to construct new arrays, what is the role of the callable argument?"
      ],
      "metadata": {
        "id": "e6CSpMnS5UbT"
      }
    },
    {
      "cell_type": "markdown",
      "source": [
        "Ans: Its function is to execute the function over each coordinate and the resulting array. The function is called with N parameters, where N is the rank of shape. Each parameter represents the coordinates of the array varying along a specific axis."
      ],
      "metadata": {
        "id": "jG-7dvI69322"
      }
    },
    {
      "cell_type": "markdown",
      "source": [
        "\n",
        "Q6. What happens when a numpy array is combined with a single-value operand (a scalar, such as an int or a floating-point value) through addition, as in the expression A + n?\n"
      ],
      "metadata": {
        "id": "ZImJzyo25WoA"
      }
    },
    {
      "cell_type": "markdown",
      "source": [
        "Ans: If any scaler value such as integer is added to the numpy array then all the elements inside the array will add that value in it."
      ],
      "metadata": {
        "id": "3tYUx57Y-E37"
      }
    },
    {
      "cell_type": "markdown",
      "source": [
        "Q7. Can array-to-scalar operations use combined operation-assign operators (such as += or *=)? What is the outcome?"
      ],
      "metadata": {
        "id": "pNlwP_8h5ZII"
      }
    },
    {
      "cell_type": "markdown",
      "source": [
        "Ans: It will carry out provided operation on all elements of array."
      ],
      "metadata": {
        "id": "iR1gDiEp-IJ9"
      }
    },
    {
      "cell_type": "markdown",
      "source": [
        "Q8. Does a numpy array contain fixed-length strings? What happens if you allocate a longer string to one of these arrays?"
      ],
      "metadata": {
        "id": "Uy_J_1Cj5blm"
      }
    },
    {
      "cell_type": "markdown",
      "source": [
        "Ans: : Yes, it is possible that we can include a string of fixed length in numpy array. The dtype of any numpy array containing string values is the maximum length of any string present in the array.Once set, it will only be able to store new string having length not more than the maximum length at the time of the creation. If we try to reassign some another string value having length greater than the maximum length of the existing elements, it simply discards all the values beyond the maximum length accept upto those values which are under the limit."
      ],
      "metadata": {
        "id": "3pM0Sp4U-LD9"
      }
    },
    {
      "cell_type": "markdown",
      "source": [
        "Q9. What happens when you combine two numpy arrays using an operation like addition (+) or multiplication (*)? What are the conditions for combining two numpy arrays?"
      ],
      "metadata": {
        "id": "sgNmmX-05d1j"
      }
    },
    {
      "cell_type": "markdown",
      "source": [
        "Ans: It will simply add or multiply element to element at same position."
      ],
      "metadata": {
        "id": "nUgK-7Jq-Nv6"
      }
    },
    {
      "cell_type": "markdown",
      "source": [
        "Q10. What is the best way to use a Boolean array to mask another array?"
      ],
      "metadata": {
        "id": "3okGIzeC5gJB"
      }
    },
    {
      "cell_type": "markdown",
      "source": [
        "Ans: The best way to use a Boolean array to mask another array is by Using masked_where of numpy package"
      ],
      "metadata": {
        "id": "626QID_U-UUO"
      }
    },
    {
      "cell_type": "markdown",
      "source": [
        "Q11. What are three different ways to get the standard deviation of a wide collection of data using both standard Python and its packages? Sort the three of them by how quickly they execute."
      ],
      "metadata": {
        "id": "sTJL-ETF5izc"
      }
    },
    {
      "cell_type": "markdown",
      "source": [
        "Ans: std() from Numpy package, stdev() from Statistics package and the third way is to write our own code as done with the help of math package below:"
      ],
      "metadata": {
        "id": "SG3WFXND-XOL"
      }
    },
    {
      "cell_type": "code",
      "source": [
        "import numpy as np #for declaring an array\n",
        "\n",
        "def mean(data):\n",
        "  n = len(data)\n",
        "  mean = sum(data) / n\n",
        "  return mean\n",
        "\n",
        "def variance(data):\n",
        "  n = len(data)\n",
        "  mean = sum(data) / n\n",
        "  deviations = [(x - mean) ** 2 for x in data]\n",
        "  variance = sum(deviations) / n\n",
        "  return variance\n",
        "\n",
        "def stdev(data):\n",
        "  import math\n",
        "  var = variance(data)\n",
        "  std_dev = math.sqrt(var)\n",
        "  return std_dev\n",
        "\n",
        "data = np.array([7,5,4,9,12,54])\n",
        "\n",
        "print(\"Standard Deviation of the sample is % s \"% (stdev(data)))"
      ],
      "metadata": {
        "colab": {
          "base_uri": "https://localhost:8080/"
        },
        "id": "U36JM1Y2-Xv2",
        "outputId": "efcb9e94-5e20-41e8-a3fd-3c1207c17caf"
      },
      "execution_count": 3,
      "outputs": [
        {
          "output_type": "stream",
          "name": "stdout",
          "text": [
            "Standard Deviation of the sample is 17.56337730114064 \n"
          ]
        }
      ]
    },
    {
      "cell_type": "markdown",
      "source": [
        "\n",
        "12. What is the dimensionality of a Boolean mask-generated array?\n"
      ],
      "metadata": {
        "id": "9WMrRqNb5lZw"
      }
    },
    {
      "cell_type": "markdown",
      "source": [
        "Ans: It will have same dimensionality as input array. Masking comes up when we want to extract, modify, count, or otherwise manipulate values in an array based on some criterion: for example, we might wish to count all values greater than a certain value, or perhaps remove all outliers that are above some threshold. In NumPy, Boolean masking is often the most efficient way to accomplish these types of tasks."
      ],
      "metadata": {
        "id": "K_27jcvm-bCl"
      }
    }
  ]
}