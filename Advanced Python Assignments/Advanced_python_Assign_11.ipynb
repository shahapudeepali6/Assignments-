{
  "nbformat": 4,
  "nbformat_minor": 0,
  "metadata": {
    "colab": {
      "provenance": []
    },
    "kernelspec": {
      "name": "python3",
      "display_name": "Python 3"
    },
    "language_info": {
      "name": "python"
    }
  },
  "cells": [
    {
      "cell_type": "markdown",
      "source": [
        "Q1. What is the concept of a metaclass?"
      ],
      "metadata": {
        "id": "LoHrVPsz_ml6"
      }
    },
    {
      "cell_type": "markdown",
      "source": [
        "Ans:A metaclass in Python is a class of a class that defines how a class behaves. A class is itself an instance of a metaclass. A class in Python defines how the instance of the class will behave. In order to understand metaclasses well, one needs to have prior experience working with Python classes."
      ],
      "metadata": {
        "id": "ZRvCzFoEChLj"
      }
    },
    {
      "cell_type": "code",
      "source": [
        "num = 23\n",
        "print(\"Type of num is:\", type(num))\n",
        "\n",
        "lst = [1, 2, 4]\n",
        "print(\"Type of lst is:\", type(lst))\n",
        "\n",
        "name = \"Atul\"\n",
        "print(\"Type of name is:\", type(name))\n"
      ],
      "metadata": {
        "colab": {
          "base_uri": "https://localhost:8080/"
        },
        "id": "oEmQQF0DCfGj",
        "outputId": "a74a2896-7e0d-4970-8d59-31a4e7d9b57c"
      },
      "execution_count": 1,
      "outputs": [
        {
          "output_type": "stream",
          "name": "stdout",
          "text": [
            "Type of num is: <class 'int'>\n",
            "Type of lst is: <class 'list'>\n",
            "Type of name is: <class 'str'>\n"
          ]
        }
      ]
    },
    {
      "cell_type": "markdown",
      "source": [
        "Q2. What is the best way to declare a class's metaclass?"
      ],
      "metadata": {
        "id": "UaHYJ2eN_2fv"
      }
    },
    {
      "cell_type": "markdown",
      "source": [
        "Ans:In Python, we can customize the class creation process by passing the metaclass keyword in the class definition. This can also be done by inheriting a class that has already passed in this keyword."
      ],
      "metadata": {
        "id": "a4Qu0QB4C0eO"
      }
    },
    {
      "cell_type": "code",
      "source": [
        "class SingletonMeta(type):\n",
        "    _instances = {}\n",
        "    def __call__(cls, *args, **kwargs):\n",
        "        if cls not in cls._instances:\n",
        "            cls._instances[cls] = super(SingletonMeta,cls).__call__(*args, **kwargs)\n",
        "        return cls._instances[cls]\n",
        "\n",
        "class SingletonClass(metaclass=SingletonMeta):\n",
        "    pass\n"
      ],
      "metadata": {
        "id": "Kql60C8UDHJl"
      },
      "execution_count": 3,
      "outputs": []
    },
    {
      "cell_type": "markdown",
      "source": [
        "\n",
        "Q3. How do class decorators overlap with metaclasses for handling classes?\n"
      ],
      "metadata": {
        "id": "gDpIdtJG_5Rs"
      }
    },
    {
      "cell_type": "markdown",
      "source": [
        "Ans:While decorators and metaclasses are two separate concepts, they can be used together to achieve more complex functionality. For example, you can use a decorator to add a method to a class, and then use a metaclass to modify the behavior of that method.\n",
        "1.Decorators are much, much simpler and more limited -- and therefore should be preferred whenever the desired effect can be achieved with either a metaclass or a class decorator.\n",
        "2.Anything you can do with a class decorator, you can of course do with a custom metaclass (just apply the functionality of the \"decorator function\", i.e., the one that takes a class object and modifies it, in the course of the metaclass's __new__ or __init__ that make the class object!\n",
        "3.There are many things you can do in a custom metaclass but not in a decorator (unless the decorator internally generates and applies a custom metaclass, of course -- but that's cheating;-)... and even then, in Python 3, there are things you can only do with a custom metaclass, not after the fact... but that's a pretty advanced sub-niche of your question, so let me give simpler examples)."
      ],
      "metadata": {
        "id": "ktU1i5jMDWmE"
      }
    },
    {
      "cell_type": "code",
      "source": [
        "def deco4cls(cls):\n",
        "    cls.func1 = lambda self: 2\n",
        "    return cls\n",
        "\n",
        "\n",
        "@deco4cls\n",
        "class Cls1:\n",
        "    pass\n",
        "\n",
        "\n",
        "class Cls1_1(Cls1):\n",
        "    def func1(self):\n",
        "        return 3\n",
        "\n",
        "\n",
        "obj1_1 = Cls1_1()\n",
        "print(obj1_1.func1())  # 3\n"
      ],
      "metadata": {
        "colab": {
          "base_uri": "https://localhost:8080/"
        },
        "id": "_84rLhZnELeo",
        "outputId": "bdc128bc-ca4d-47c0-dc28-5502d8331d19"
      },
      "execution_count": 4,
      "outputs": [
        {
          "output_type": "stream",
          "name": "stdout",
          "text": [
            "3\n"
          ]
        }
      ]
    },
    {
      "cell_type": "markdown",
      "source": [
        "Q4. How do class decorators overlap with metaclasses for handling instances?"
      ],
      "metadata": {
        "id": "rJcnahHJ_5aA"
      }
    },
    {
      "cell_type": "markdown",
      "source": [
        "Ans:Metaclasses operate at the lower level and allow you to change the structure or behavior of the class, like the class methods, attributes, and inheritance. Decorators, however, are used to modify the functions' behavior. They allowed you to add functionality to the existing functions without changing the code."
      ],
      "metadata": {
        "id": "BMf-tLwuEmRS"
      }
    }
  ]
}