{
  "nbformat": 4,
  "nbformat_minor": 0,
  "metadata": {
    "colab": {
      "provenance": []
    },
    "kernelspec": {
      "name": "python3",
      "display_name": "Python 3"
    },
    "language_info": {
      "name": "python"
    }
  },
  "cells": [
    {
      "cell_type": "markdown",
      "source": [
        "Question no.1-\n",
        "What does an empty dictionary's code look like?"
      ],
      "metadata": {
        "id": "-RCMHgnmtKQy"
      }
    },
    {
      "cell_type": "code",
      "source": [
        "dict = {}\n",
        "type(dict)\n"
      ],
      "metadata": {
        "colab": {
          "base_uri": "https://localhost:8080/"
        },
        "id": "4BSehlm1vAYU",
        "outputId": "4d11dab3-d306-45be-8218-a39eb71c047c"
      },
      "execution_count": null,
      "outputs": [
        {
          "output_type": "execute_result",
          "data": {
            "text/plain": [
              "dict"
            ]
          },
          "metadata": {},
          "execution_count": 1
        }
      ]
    },
    {
      "cell_type": "markdown",
      "source": [
        "Question no.2-What is the value of a dictionary value with the key 'foo' and the value 42?\n"
      ],
      "metadata": {
        "id": "DsDJdltitKhf"
      }
    },
    {
      "cell_type": "code",
      "source": [
        "\n",
        "{'foo':42}"
      ],
      "metadata": {
        "colab": {
          "base_uri": "https://localhost:8080/"
        },
        "id": "CIOKTbFtiLtZ",
        "outputId": "46406ddc-898e-4055-e025-37412096504d"
      },
      "execution_count": 3,
      "outputs": [
        {
          "output_type": "execute_result",
          "data": {
            "text/plain": [
              "{'foo': 42}"
            ]
          },
          "metadata": {},
          "execution_count": 3
        }
      ]
    },
    {
      "cell_type": "markdown",
      "source": [
        "Question no.3-\n",
        "What is the most significant distinction between a dictionary and a list?"
      ],
      "metadata": {
        "id": "OQiUt6bQiuRZ"
      }
    },
    {
      "cell_type": "markdown",
      "source": [
        "Answer=Most significant difference:\n",
        "List - items in list are Ordered\n",
        "Dictionary : iten in dictionary are unordered"
      ],
      "metadata": {
        "id": "UZ0eqUVqjvuj"
      }
    },
    {
      "cell_type": "markdown",
      "source": [
        "Question no.4-What happens if you try to access spam['foo'] if spam is {'bar': 100}?"
      ],
      "metadata": {
        "id": "upoVaKAMi0Gt"
      }
    },
    {
      "cell_type": "code",
      "source": [
        "spam = {'bar':100}\n",
        "spam['foo']\n"
      ],
      "metadata": {
        "colab": {
          "base_uri": "https://localhost:8080/",
          "height": 183
        },
        "id": "AqkNnh_ekZVA",
        "outputId": "ef1ab5ee-784f-4509-8c9c-576188aa98d2"
      },
      "execution_count": 6,
      "outputs": [
        {
          "output_type": "error",
          "ename": "KeyError",
          "evalue": "ignored",
          "traceback": [
            "\u001b[0;31m---------------------------------------------------------------------------\u001b[0m",
            "\u001b[0;31mKeyError\u001b[0m                                  Traceback (most recent call last)",
            "\u001b[0;32m<ipython-input-6-cea1cd791e68>\u001b[0m in \u001b[0;36m<cell line: 2>\u001b[0;34m()\u001b[0m\n\u001b[1;32m      1\u001b[0m \u001b[0mspam\u001b[0m \u001b[0;34m=\u001b[0m \u001b[0;34m{\u001b[0m\u001b[0;34m'bar'\u001b[0m\u001b[0;34m:\u001b[0m\u001b[0;36m100\u001b[0m\u001b[0;34m}\u001b[0m\u001b[0;34m\u001b[0m\u001b[0;34m\u001b[0m\u001b[0m\n\u001b[0;32m----> 2\u001b[0;31m \u001b[0mspam\u001b[0m\u001b[0;34m[\u001b[0m\u001b[0;34m'foo'\u001b[0m\u001b[0;34m]\u001b[0m\u001b[0;34m\u001b[0m\u001b[0;34m\u001b[0m\u001b[0m\n\u001b[0m",
            "\u001b[0;31mKeyError\u001b[0m: 'foo'"
          ]
        }
      ]
    },
    {
      "cell_type": "markdown",
      "source": [
        "Question no.5-If a dictionary is stored in spam, what is the difference between the expressions 'cat' in spam and 'cat' in spam.keys()?"
      ],
      "metadata": {
        "id": "qAqgLsUbi3ZX"
      }
    },
    {
      "cell_type": "code",
      "source": [
        "spam ={'cat':100}\n",
        "'cat' in spam"
      ],
      "metadata": {
        "colab": {
          "base_uri": "https://localhost:8080/"
        },
        "id": "vPywjiJHk55F",
        "outputId": "7309c601-cc33-4bae-b6c5-4256632dc12f"
      },
      "execution_count": 7,
      "outputs": [
        {
          "output_type": "execute_result",
          "data": {
            "text/plain": [
              "True"
            ]
          },
          "metadata": {},
          "execution_count": 7
        }
      ]
    },
    {
      "cell_type": "code",
      "source": [
        "'cat' in spam.keys()"
      ],
      "metadata": {
        "colab": {
          "base_uri": "https://localhost:8080/"
        },
        "id": "OjPTXsplk7qA",
        "outputId": "e7b997d0-dc08-43aa-937b-66cb2a270707"
      },
      "execution_count": 8,
      "outputs": [
        {
          "output_type": "execute_result",
          "data": {
            "text/plain": [
              "True"
            ]
          },
          "metadata": {},
          "execution_count": 8
        }
      ]
    },
    {
      "cell_type": "markdown",
      "source": [
        "Question no.6-If a dictionary is stored in spam, what is the difference between the expressions 'cat' in spam and\n",
        "'cat' in spam.values()?\n"
      ],
      "metadata": {
        "id": "nr9xBRkqwMSf"
      }
    },
    {
      "cell_type": "code",
      "source": [
        "spam ={'cat':100}\n",
        "'cat' in spam\n",
        "True\n",
        "spam ={'cat':100}\n",
        "'cat' in spam.values()\n",
        "#'cat' in spam checks whether there is a 'cat' key in the dictionary\n",
        "#'cat' in spam.values() checks whether there is a value 'cat' for one of the keys in spam.\n"
      ],
      "metadata": {
        "colab": {
          "base_uri": "https://localhost:8080/"
        },
        "id": "bdgoxFMOwjOC",
        "outputId": "4ea71b6a-8aca-4acb-9dcc-2addc4db3ea4"
      },
      "execution_count": null,
      "outputs": [
        {
          "output_type": "execute_result",
          "data": {
            "text/plain": [
              "False"
            ]
          },
          "metadata": {},
          "execution_count": 6
        }
      ]
    },
    {
      "cell_type": "markdown",
      "source": [
        "Question no.7-What is a shortcut for the following code?\n",
        "if 'color' not in spam:\n",
        "spam['color']=\"black\""
      ],
      "metadata": {
        "id": "rMIyUYbXwMbN"
      }
    },
    {
      "cell_type": "code",
      "source": [
        "spam ={'cat':100}\n",
        "spam.setdefault('color','black')\n",
        "spam\n",
        "{'cat': 100, 'color': 'black'}"
      ],
      "metadata": {
        "colab": {
          "base_uri": "https://localhost:8080/"
        },
        "id": "05rIpAvdxBPD",
        "outputId": "ebc5f7e1-716d-49c4-c1ca-b6ef5aeb1841"
      },
      "execution_count": null,
      "outputs": [
        {
          "output_type": "execute_result",
          "data": {
            "text/plain": [
              "{'cat': 100, 'color': 'black'}"
            ]
          },
          "metadata": {},
          "execution_count": 7
        }
      ]
    },
    {
      "cell_type": "markdown",
      "source": [
        "Question no.8-How do you 'pretty print' dictionary values using which module and function?"
      ],
      "metadata": {
        "id": "ek-JqhjAxHdI"
      }
    },
    {
      "cell_type": "markdown",
      "source": [
        "Answer=  The module used is the pprint module within which we have the pprint function of the same name. The function can be implemented to pretty-print the specific string or object."
      ],
      "metadata": {
        "id": "ezDUOeQBhn41"
      }
    },
    {
      "cell_type": "code",
      "source": [
        "import pprint\n",
        "dct = [ {'Name': 'Shiva', 'Age': '23', 'Country': 'India'},\n",
        "{'Name': 'Anna', 'Age': '44', 'Country': 'China'},\n",
        "{'Name': 'Joe', 'Age': '29', 'Country': 'UK'},\n",
        "{'Name': 'Chumlee', 'Age': '35', 'Country': 'USA'}\n",
        "]\n",
        "# printing with pprint()\n",
        "pprint.pprint(dct)\n",
        "[{'Age': '23', 'Country': 'India', 'Name': 'Shiva'},\n",
        "{'Age': '44', 'Country': 'China', 'Name': 'Anna'},\n",
        "{'Age': '29', 'Country': 'UK', 'Name': 'Joe'},\n",
        "{'Age': '35', 'Country': 'USA', 'Name': 'Chumlee'}]\n",
        "#Printing with print()\n",
        "print(dct)\n",
        "[{'Name': 'Shiva', 'Age': '23', 'Country': 'India'}, {'Name': 'Anna', 'Age': '44', 'Country': 'China'},\n",
        "{'Name': 'Joe', 'Age': '29', 'Country': 'UK'}, {'Name': 'Chumlee', 'Age': '35', 'Country': 'USA'}]"
      ],
      "metadata": {
        "colab": {
          "base_uri": "https://localhost:8080/"
        },
        "id": "0tpRhC0fxRPs",
        "outputId": "d2692b7b-0cae-4782-e5f8-e51ce3038ef5"
      },
      "execution_count": 2,
      "outputs": [
        {
          "output_type": "stream",
          "name": "stdout",
          "text": [
            "[{'Age': '23', 'Country': 'India', 'Name': 'Shiva'},\n",
            " {'Age': '44', 'Country': 'China', 'Name': 'Anna'},\n",
            " {'Age': '29', 'Country': 'UK', 'Name': 'Joe'},\n",
            " {'Age': '35', 'Country': 'USA', 'Name': 'Chumlee'}]\n",
            "[{'Name': 'Shiva', 'Age': '23', 'Country': 'India'}, {'Name': 'Anna', 'Age': '44', 'Country': 'China'}, {'Name': 'Joe', 'Age': '29', 'Country': 'UK'}, {'Name': 'Chumlee', 'Age': '35', 'Country': 'USA'}]\n"
          ]
        },
        {
          "output_type": "execute_result",
          "data": {
            "text/plain": [
              "[{'Name': 'Shiva', 'Age': '23', 'Country': 'India'},\n",
              " {'Name': 'Anna', 'Age': '44', 'Country': 'China'},\n",
              " {'Name': 'Joe', 'Age': '29', 'Country': 'UK'},\n",
              " {'Name': 'Chumlee', 'Age': '35', 'Country': 'USA'}]"
            ]
          },
          "metadata": {},
          "execution_count": 2
        }
      ]
    }
  ]
}