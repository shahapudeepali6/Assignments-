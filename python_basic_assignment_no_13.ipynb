{
  "nbformat": 4,
  "nbformat_minor": 0,
  "metadata": {
    "colab": {
      "provenance": []
    },
    "kernelspec": {
      "name": "python3",
      "display_name": "Python 3"
    },
    "language_info": {
      "name": "python"
    }
  },
  "cells": [
    {
      "cell_type": "markdown",
      "source": [
        "Question no 1. What advantages do Excel spreadsheets have over CSV spreadsheets?"
      ],
      "metadata": {
        "id": "Bv_07wCPkOwH"
      }
    },
    {
      "cell_type": "markdown",
      "source": [
        "Ans: The Advantages of Excel over CSV are:\n",
        "\n",
        "1.Do have types for their values—everything is a string\n",
        "2.Do have settings for font size or color\n",
        "3.Do have multiple worksheets\n",
        "4.Can specify cell widths and heights\n",
        "5.Can have merged cells\n",
        "6.Can have images or charts embedded in them"
      ],
      "metadata": {
        "id": "cu7LmS46kyop"
      }
    },
    {
      "cell_type": "markdown",
      "source": [
        "Question no 2.What do you pass to csv.reader() and csv.writer() to create reader and writer objects?"
      ],
      "metadata": {
        "id": "2vULOLo9k8JU"
      }
    },
    {
      "cell_type": "markdown",
      "source": [
        "Ans: To write a CSV file with the csv module, First, call open() and pass it 'w' to open a file in write mode, and it create a object .That object pass in csv.writer()\n",
        "\n",
        "write_file = open('filename.csv','w')\n",
        "\n",
        "Writer = csv.writer(write_file)\n",
        "\n",
        "To read a CSV file with the csv module, first open it using the open() function and it create a object .That object pass in csv.reader()\n",
        "\n",
        "read_file = open('filename.csv')\n",
        "\n",
        "Reader = csv.reader(read_file)"
      ],
      "metadata": {
        "id": "2k6WppEglL9g"
      }
    },
    {
      "cell_type": "markdown",
      "source": [
        "Question no 3. What modes do File objects for reader and writer objects need to be opened in?"
      ],
      "metadata": {
        "id": "2_b4tk6XlNbN"
      }
    },
    {
      "cell_type": "markdown",
      "source": [
        "Ans: For csv.reader(iterable_file_object), the file objects needed to be opened in read mode mode='r' Whereas for csv.writer(iterable_file_object) the file objects needed to be opened in write mode mode='w'"
      ],
      "metadata": {
        "id": "4B8W5NvzlUc-"
      }
    },
    {
      "cell_type": "markdown",
      "source": [
        "Question no 4. What method takes a list argument and writes it to a CSV file?"
      ],
      "metadata": {
        "id": "oCHjN5dKlYYz"
      }
    },
    {
      "cell_type": "markdown",
      "source": [
        "Ans: The writerow() method\n",
        "write_file = open('filename.csv','w')\n",
        "\n",
        "Writer = csv.writer(write_file)\n",
        "\n",
        "Writer.writerow(['deepa','shahapure','hello'])"
      ],
      "metadata": {
        "id": "YUj1pqYvleYR"
      }
    },
    {
      "cell_type": "markdown",
      "source": [
        "Question no 5. What do the keyword arguments delimiter and line terminator do?"
      ],
      "metadata": {
        "id": "MMl2TW2GmAEJ"
      }
    },
    {
      "cell_type": "markdown",
      "source": [
        "Ans: Lets take the example of a csv file:\n",
        "First Name, Last Name, Age\n",
        "tom, johnson, 28\n",
        "Krish, Naik, 30\n",
        "Here ',' is Delimiter. We can use any Character as per our needs if required. Similarly Line Terminator comes at end of line by default it is newline and can be changed accourding to Requirement."
      ],
      "metadata": {
        "id": "KoB8x07WmJIb"
      }
    },
    {
      "cell_type": "markdown",
      "source": [
        "Question no 6. What function takes a string of JSON data and returns a Python data structure?"
      ],
      "metadata": {
        "id": "qO_M9nLBmZXY"
      }
    },
    {
      "cell_type": "markdown",
      "source": [
        "Ans: json.loads() method takes a string of JSON data and returns a Python data structure"
      ],
      "metadata": {
        "id": "VHs0-L6SmdCL"
      }
    },
    {
      "cell_type": "markdown",
      "source": [
        "Question no 7. What function takes a Python data structure and returns a string of JSON data?"
      ],
      "metadata": {
        "id": "J5MlxEkkmjrq"
      }
    },
    {
      "cell_type": "markdown",
      "source": [
        "Ans: json.dumps() method takes a python data structure and returns a string of JSON data"
      ],
      "metadata": {
        "id": "cbmWOKOomo3x"
      }
    },
    {
      "cell_type": "code",
      "source": [],
      "metadata": {
        "id": "dyO_6YsilkDu"
      },
      "execution_count": null,
      "outputs": []
    },
    {
      "cell_type": "code",
      "source": [],
      "metadata": {
        "id": "3pLTM6h8lkIy"
      },
      "execution_count": null,
      "outputs": []
    }
  ]
}