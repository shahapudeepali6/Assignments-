{
  "nbformat": 4,
  "nbformat_minor": 0,
  "metadata": {
    "colab": {
      "provenance": []
    },
    "kernelspec": {
      "name": "python3",
      "display_name": "Python 3"
    },
    "language_info": {
      "name": "python"
    }
  },
  "cells": [
    {
      "cell_type": "markdown",
      "source": [
        "Question no.1=To what does a relative path refer?"
      ],
      "metadata": {
        "id": "OIz6H2J5kdyY"
      }
    },
    {
      "cell_type": "markdown",
      "source": [
        "Answer= A relative path in Python is a path that describes the location of a directory relative to the entry point where you run the Python script."
      ],
      "metadata": {
        "id": "2BTrFiY-lLGk"
      }
    },
    {
      "cell_type": "markdown",
      "source": [
        "Question no.2=What does an absolute path start with your operating system?"
      ],
      "metadata": {
        "id": "YfEjzI-1lTJ-"
      }
    },
    {
      "cell_type": "markdown",
      "source": [
        "Answer= In Linux based Operating systems the absolute path starts with / where as in Windows based Operating systems absolute path starts with C:"
      ],
      "metadata": {
        "id": "D9TH0WbtlkVw"
      }
    },
    {
      "cell_type": "markdown",
      "source": [
        "Question no.3=What do the functions os.getcwd() and os.chdir() do?"
      ],
      "metadata": {
        "id": "WTDLRbmklqpk"
      }
    },
    {
      "cell_type": "markdown",
      "source": [
        "Answer=os.getcwd() method tells us the location of current working directory (CWD) whereas os.chdir() method in Python used to change the current working directory to specified path. These functions are similar to linux commands pwd and cd"
      ],
      "metadata": {
        "id": "mq68BlgdmCz3"
      }
    },
    {
      "cell_type": "markdown",
      "source": [
        "Question no.4=What are the . and .. folders?"
      ],
      "metadata": {
        "id": "BwFOFVMTmO_i"
      }
    },
    {
      "cell_type": "markdown",
      "source": [
        "Answer=The . is the current directory, while .. signifies the parent directory. It makes things quicker at the command line as well so you don't need to type out full paths."
      ],
      "metadata": {
        "id": "XAbv8zJOmrx8"
      }
    },
    {
      "cell_type": "markdown",
      "source": [
        "Question no.5=In C:\\bacon\\eggs\\spam.txt, which part is the dir name, and which part is the base name?"
      ],
      "metadata": {
        "id": "aM_GZ5Mbm2JZ"
      }
    },
    {
      "cell_type": "markdown",
      "source": [
        "Answer= For C:\\bacon\\eggs\\spam.txt\n",
        "The Directory name is C:\\\\bacon\\\\eggs\n",
        "The Base name is spam.txt"
      ],
      "metadata": {
        "id": "TEAhLHr5m_lu"
      }
    },
    {
      "cell_type": "code",
      "source": [
        "import os\n",
        "path = r'C:\\bacon\\eggs\\spam.txt'\n",
        "print(os.path.dirname(path))\n",
        "print(os.path.basename(path))"
      ],
      "metadata": {
        "colab": {
          "base_uri": "https://localhost:8080/"
        },
        "id": "Ts-pzMyYnQXI",
        "outputId": "f30536ac-46da-46d0-c888-4a757462b429"
      },
      "execution_count": 3,
      "outputs": [
        {
          "output_type": "stream",
          "name": "stdout",
          "text": [
            "\n",
            "C:\\bacon\\eggs\\spam.txt\n"
          ]
        }
      ]
    },
    {
      "cell_type": "markdown",
      "source": [
        "Question no.6=What are the three “mode” arguments that can be passed to the open() function?"
      ],
      "metadata": {
        "id": "aeqW1k8-nUmG"
      }
    },
    {
      "cell_type": "markdown",
      "source": [
        "Answer= A file can be Accessed in python using open() function. Open function takes two arguments filename and mode of operation (optional). If mode is not provided, the default mode of opening is Read mode.\n",
        "So, the syntax is: open(filename, mode)\n",
        "\n",
        "\n",
        "1.‘r’ – Read Mode: This is the default mode for open(). The file is opened and a\n",
        "pointer is positioned at the beginning of the file’s content.\n",
        "2.‘w’ – Write Mode: Using this mode will overwrite any existing content in a file. If the given file does not exist, a new one will be created.\n",
        "3.‘r+’ – Read/Write Mode: Use this mode if you need to simultaneously read and write to a file.\n",
        "4.‘a’ – Append Mode: With this mode the user can append the data without overwriting any already existing data in the file.\n",
        "5.‘a+’ – Append and Read Mode: In this mode you can read and append the data without overwriting the original file.\n",
        "6.‘x’ – Exclusive Creating Mode: This mode is for the sole purpose of creating new files. Use this mode if you know the file to be written doesn’t exist beforehand."
      ],
      "metadata": {
        "id": "mtrK7Eq-ngj7"
      }
    },
    {
      "cell_type": "markdown",
      "source": [
        "Question no.7=What happens if an existing file is opened in write mode?"
      ],
      "metadata": {
        "id": "EqcYG7QBn1up"
      }
    },
    {
      "cell_type": "markdown",
      "source": [
        "Answer=Using this mode, we can overwrite any existing content in a file. If the given file does not exist then a new one will be created."
      ],
      "metadata": {
        "id": "2FaxBX0nn3IY"
      }
    },
    {
      "cell_type": "markdown",
      "source": [
        "Question no.8=How do you tell the difference between read() and readlines()?"
      ],
      "metadata": {
        "id": "6SJLiFkYoGnQ"
      }
    },
    {
      "cell_type": "markdown",
      "source": [
        "Answer= The main difference is that read() will read the whole file at once and then print out the first characters that take up as many bytes as we specify in the parenthesis\n",
        "\n",
        "1.whereas the readline() that will read and print out only the first characters that take up as many bytes as we specify in the parenthesis. We may want to use readline() when we are reading files that are too big for our RAM.\n",
        "2.The read() would treat each character in the file separately, meaning that the iteration would happen for every character.\n",
        "3.The readline() function, on the other hand, only reads a single line of the file. This means that if the first line of the file were three lines long, the readline() function would only parse (or iterate/operate) on the first line of the file."
      ],
      "metadata": {
        "id": "CRiu4AosoWyc"
      }
    },
    {
      "cell_type": "markdown",
      "source": [
        "Question no.9=What data structure does a shelf value resemble?"
      ],
      "metadata": {
        "id": "-d7UrKUvoW6L"
      }
    },
    {
      "cell_type": "markdown",
      "source": [
        "Answer= It contains key and values it represents dictionary. The Shelve Module of Python is a very popular module of Python which works like an effective tool for persistent data storage inside files using a Python program. As the name of this module suggests, i.e., Shelve, we can easily interpret that it will work as a shelf object to keep all our data inside a file and save all the necessary information. In the Shelve Module, a shelf object is defined, which acts like a dictionary-type object, and it is persistently stored in the disk file of our computer. That's how we can save all the data and information through Python Shelve Module in our system and keep it till whenever we want."
      ],
      "metadata": {
        "id": "ZfBYSbBRpFSJ"
      }
    },
    {
      "cell_type": "markdown",
      "source": [],
      "metadata": {
        "id": "7eaZWGjepI7q"
      }
    }
  ]
}