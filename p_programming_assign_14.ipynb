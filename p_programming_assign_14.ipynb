{
  "nbformat": 4,
  "nbformat_minor": 0,
  "metadata": {
    "colab": {
      "provenance": []
    },
    "kernelspec": {
      "name": "python3",
      "display_name": "Python 3"
    },
    "language_info": {
      "name": "python"
    }
  },
  "cells": [
    {
      "cell_type": "markdown",
      "source": [
        "Question 1:\n",
        "\n",
        "Define a class with a generator which can iterate the numbers, which are divisible by 7, between a given range 0 and n.\n"
      ],
      "metadata": {
        "id": "-WldniF8P1t4"
      }
    },
    {
      "cell_type": "code",
      "source": [
        "class div_generator:\n",
        "    def __init__(self,in_num):\n",
        "        self.in_num = in_num\n",
        "    def get_numbers(self):\n",
        "        for ele in range(0,self.in_num+1):\n",
        "            if ele%7 == 0:\n",
        "                yield ele\n",
        "\n",
        "output = div_generator(100)\n",
        "for ele in output.get_numbers():\n",
        "    print(ele,end=' ')"
      ],
      "metadata": {
        "colab": {
          "base_uri": "https://localhost:8080/"
        },
        "id": "o53E_RPLQhrL",
        "outputId": "72a3c88b-f446-45b7-9ddf-994d9f7ad050"
      },
      "execution_count": 1,
      "outputs": [
        {
          "output_type": "stream",
          "name": "stdout",
          "text": [
            "0 7 14 21 28 35 42 49 56 63 70 77 84 91 98 "
          ]
        }
      ]
    },
    {
      "cell_type": "markdown",
      "source": [
        "Question 2:\n",
        "Write a program to compute the frequency of the words from the input. The output should output after sorting the key alphanumerically.\n",
        "\n",
        "Suppose the following input is supplied to the program:\n",
        "\n",
        "New to Python or choosing between Python 2 and Python 3? Read Python 2 or Python 3.\n",
        "\n",
        "Then, the output should be:\n",
        "\n",
        "2:2\n",
        "\n",
        "3.:1\n",
        "\n",
        "3?:1\n",
        "\n",
        "New:1\n",
        "\n",
        "Python:5\n",
        "\n",
        "Read:1\n",
        "\n",
        "and:1\n",
        "\n",
        "between:1\n",
        "\n",
        "choosing:1\n",
        "\n",
        "or:2\n",
        "\n",
        "to:1\n"
      ],
      "metadata": {
        "id": "BglQifqaQQNO"
      }
    },
    {
      "cell_type": "code",
      "source": [
        "def checkFrequency():\n",
        "    in_string = input(\"Enter the Input String: \")\n",
        "    frequency = {}\n",
        "    for ele in in_string.split(\" \"):\n",
        "        if(frequency.get(ele) == None):\n",
        "            frequency[ele] = 1\n",
        "        else:\n",
        "            frequency[ele] += 1\n",
        "    for ele in sorted(frequency):\n",
        "        print(f'{ele}:{frequency[ele]}',end=\" \")\n",
        "checkFrequency()"
      ],
      "metadata": {
        "colab": {
          "base_uri": "https://localhost:8080/"
        },
        "id": "eW76HJisQiVc",
        "outputId": "72ee660e-0584-498d-f6cb-fded09398a07"
      },
      "execution_count": 2,
      "outputs": [
        {
          "output_type": "stream",
          "name": "stdout",
          "text": [
            "Enter the Input String: New to Python or choosing between Python 2 and Python 3? Read Python 2 or Python 3.\n",
            "2:2 3.:1 3?:1 New:1 Python:5 Read:1 and:1 between:1 choosing:1 or:2 to:1 "
          ]
        }
      ]
    },
    {
      "cell_type": "markdown",
      "source": [
        "Question 3:\n",
        "\n",
        "\n",
        "\n",
        "Define a class Person and its two child classes: Male and Female. All classes have a method \"getGender\" which can print \"Male\" for Male class and \"Female\" for Female class.\n"
      ],
      "metadata": {
        "id": "W8QZ18AYQUgh"
      }
    },
    {
      "cell_type": "code",
      "source": [
        "class Person():\n",
        "    def getGender():\n",
        "        pass\n",
        "\n",
        "class Male(Person):\n",
        "    def getGender():\n",
        "        print(\"Male\")\n",
        "\n",
        "class Female(Person):\n",
        "    def getGender():\n",
        "        print(\"Female\")\n",
        "\n",
        "Male.getGender()\n",
        "Female.getGender()"
      ],
      "metadata": {
        "colab": {
          "base_uri": "https://localhost:8080/"
        },
        "id": "88eCVNnmQjKa",
        "outputId": "ea42aa0e-677c-47c1-fed7-08acd1c4ef93"
      },
      "execution_count": 3,
      "outputs": [
        {
          "output_type": "stream",
          "name": "stdout",
          "text": [
            "Male\n",
            "Female\n"
          ]
        }
      ]
    },
    {
      "cell_type": "markdown",
      "source": [
        "Question 4:\n",
        "Please write a program to generate all sentences where subject is in [\"I\", \"You\"] and verb is in [\"Play\", \"Love\"] and the object is in [\"Hockey\",\"Football\"].\n"
      ],
      "metadata": {
        "id": "Xqaz4UtYQXkz"
      }
    },
    {
      "cell_type": "code",
      "source": [
        "def generateSentences():\n",
        "    subject = ['I','You']\n",
        "    verb = ['Play','Love']\n",
        "    object = ['Hockey','Football']\n",
        "    for s in subject:\n",
        "        for v in verb:\n",
        "            for o in object:\n",
        "                print(f'{s} {v} {o}')\n",
        "\n",
        "generateSentences()"
      ],
      "metadata": {
        "colab": {
          "base_uri": "https://localhost:8080/"
        },
        "id": "WOYaOIjaQj5D",
        "outputId": "f1721adb-3c7e-4dda-e1a8-d70f771d1362"
      },
      "execution_count": 4,
      "outputs": [
        {
          "output_type": "stream",
          "name": "stdout",
          "text": [
            "I Play Hockey\n",
            "I Play Football\n",
            "I Love Hockey\n",
            "I Love Football\n",
            "You Play Hockey\n",
            "You Play Football\n",
            "You Love Hockey\n",
            "You Love Football\n"
          ]
        }
      ]
    },
    {
      "cell_type": "markdown",
      "source": [
        "Question 5:\n",
        "Please write a program to compress and decompress the string \"hello world!helloworld!helloworld!hello world!\".\n"
      ],
      "metadata": {
        "id": "LUwdLa4SQbD_"
      }
    },
    {
      "cell_type": "code",
      "source": [
        "def compress(in_string):\n",
        "    output = in_string[0]\n",
        "    count = 1\n",
        "    for ele in range(len(in_string)-1):\n",
        "        if in_string[ele] == in_string[ele+1]:\n",
        "            count +=1\n",
        "        else:\n",
        "            if count > 1:\n",
        "                output += str(count)\n",
        "            output += in_string[ele+1]\n",
        "            count = 1\n",
        "    if count > 1:\n",
        "        output += str(count)\n",
        "    print(output)\n",
        "\n",
        "\n",
        "def decompress(in_string):\n",
        "    output = ''\n",
        "    for ele in range(len(in_string)):\n",
        "        if in_string[ele].isdigit():\n",
        "            output += output[-1]*(int(in_string[ele])-1)\n",
        "        else:\n",
        "            output += in_string[ele]\n",
        "    print(output)\n",
        "\n",
        "\n",
        "compress(\"hello world!hello world!hello world!hello world!\")\n",
        "decompress(\"hel2o world!hel2o world!hel2o world!hel2o world!\")\n",
        "\n",
        "compress('ineuron full stack datascience')\n",
        "decompress('ineuron ful2 stack datascience')"
      ],
      "metadata": {
        "colab": {
          "base_uri": "https://localhost:8080/"
        },
        "id": "B1gXWFX0Qker",
        "outputId": "dd34faf1-b00d-480b-c998-436ce50afdf6"
      },
      "execution_count": 5,
      "outputs": [
        {
          "output_type": "stream",
          "name": "stdout",
          "text": [
            "hel2o world!hel2o world!hel2o world!hel2o world!\n",
            "hello world!hello world!hello world!hello world!\n",
            "ineuron ful2 stack datascience\n",
            "ineuron full stack datascience\n"
          ]
        }
      ]
    },
    {
      "cell_type": "markdown",
      "source": [
        "Question 6:\n",
        "Please write a binary search function which searches an item in a sorted list. The function should return the index of element to be searched in the list.\n"
      ],
      "metadata": {
        "id": "utIthU7OQdqe"
      }
    },
    {
      "cell_type": "code",
      "source": [
        "sorted_list = [1,2,3,4,5,6,7,8,9,10]\n",
        "def binary_search(in_list,in_num):\n",
        "    low = 0\n",
        "    high = len(in_list)-1\n",
        "    while low <= high:\n",
        "        mid = high+low//2\n",
        "        if in_list[mid] < in_num:\n",
        "            low = mid+1\n",
        "        elif in_list[mid] > in_num:\n",
        "            high = mid-1\n",
        "        else:\n",
        "            return mid\n",
        "    else:\n",
        "        return 'Input Element not in the list'\n",
        "\n",
        "print(binary_search(sorted_list,8))\n",
        "print(binary_search(sorted_list,100))"
      ],
      "metadata": {
        "colab": {
          "base_uri": "https://localhost:8080/"
        },
        "id": "wbBScO7QQgrI",
        "outputId": "c94c8898-c667-4c8c-946d-c64cfea7959f"
      },
      "execution_count": 6,
      "outputs": [
        {
          "output_type": "stream",
          "name": "stdout",
          "text": [
            "7\n",
            "Input Element not in the list\n"
          ]
        }
      ]
    }
  ]
}